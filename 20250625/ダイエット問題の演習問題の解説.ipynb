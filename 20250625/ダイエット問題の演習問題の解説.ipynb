{
  "cells": [
    {
      "cell_type": "markdown",
      "metadata": {
        "id": "view-in-github",
        "colab_type": "text"
      },
      "source": [
        "<a href=\"https://colab.research.google.com/github/yajima-yasutoshi/Model/blob/main/20250625/%E3%83%80%E3%82%A4%E3%82%A8%E3%83%83%E3%83%88%E5%95%8F%E9%A1%8C%E3%81%AE%E6%BC%94%E7%BF%92%E5%95%8F%E9%A1%8C%E3%81%AE%E8%A7%A3%E8%AA%AC.ipynb\" target=\"_parent\"><img src=\"https://colab.research.google.com/assets/colab-badge.svg\" alt=\"Open In Colab\"/></a>"
      ]
    },
    {
      "cell_type": "markdown",
      "source": [
        "## 準備\n",
        "\n",
        "必要なライブラリｎインストールとインポート"
      ],
      "metadata": {
        "id": "1bPye3AXarB1"
      }
    },
    {
      "cell_type": "code",
      "source": [
        "%%capture\n",
        "# 最適化ライブラリ python-mip のインストール\n",
        "!pip install mip\n",
        "\n",
        "# データフレーム操作のための pandas のインポート\n",
        "import pandas as pd\n",
        "# 最適化ライブラリ python-mip のインポート\n",
        "import mip"
      ],
      "outputs": [],
      "execution_count": 1,
      "metadata": {
        "id": "_X5yJuzParB3"
      }
    },
    {
      "cell_type": "markdown",
      "source": [
        "## 元の問題設定のデータ準備\n",
        "\n",
        "各演習問題で使う元のダイエット問題のデータを準備\n"
      ],
      "metadata": {
        "id": "k6xTYJK1arB4"
      }
    },
    {
      "cell_type": "code",
      "source": [
        "# 食品データの作成\n",
        "data = {\n",
        "    '食品名': ['牛乳', '卵', 'パン', 'チーズ', 'オレンジ'],\n",
        "    '単位': ['100ml', '1個', '1枚', '20g', '1個'],\n",
        "    'コスト': [20, 30, 40, 50, 60],\n",
        "    'カロリー': [60, 80, 120, 80, 50],\n",
        "    'タンパク質': [3, 6, 4, 5, 1],\n",
        "    'カルシウム': [110, 30, 20, 140, 40]\n",
        "}\n",
        "food_df = pd.DataFrame(data)\n",
        "food_df = food_df.set_index('食品名')\n",
        "\n",
        "# 栄養基準データの作成\n",
        "min_requirements = {\n",
        "    'カロリー': 500,\n",
        "    'タンパク質': 25,\n",
        "    'カルシウム': 400\n",
        "}\n",
        "\n",
        "# MIPで扱いやすい形式に変換\n",
        "foods = food_df.index.tolist()\n",
        "costs = food_df['コスト'].to_dict()\n",
        "nutrients = ['カロリー', 'タンパク質', 'カルシウム']\n",
        "\n",
        "# 各食品の栄養価を {食品名: {栄養素名: 値, ...}, ...} の形式に変換\n",
        "nutrient_values = food_df[nutrients].to_dict('index')\n"
      ],
      "outputs": [],
      "execution_count": 3,
      "metadata": {
        "id": "WlxLumNlarB5"
      }
    },
    {
      "cell_type": "markdown",
      "source": [
        "---\n",
        "\n",
        "## 演習問題 1\n",
        "\n",
        "### 1. 問題の確認\n",
        "「牛乳」アレルギーのため、牛乳を摂取できない場合の最小コストを解答せよ。\n",
        "\n",
        "### 2. 数理モデルの定式化\n",
        "この問題を解くには、元のモデルに「牛乳の摂取量を0にする」という制約を追加する。\n",
        "\n",
        "$$x_{牛乳} = 0$$\n",
        "\n",
        "### 3. Python (MIP) による実装\n",
        "以下のようにすることで、変数を定義する際に上限 (ub) を0に設定する。\n",
        "```\n",
        "x1['牛乳'].ub = 0.0\n",
        "```"
      ],
      "metadata": {
        "id": "stuMYu-iarB5"
      }
    },
    {
      "cell_type": "code",
      "source": [
        "# --- 演習問題1 ---\n",
        "\n",
        "# --- モデルの作成 ---\n",
        "m1 = mip.Model(name=\"Diet_Ex1\", sense=mip.MINIMIZE)\n",
        "\n",
        "# --- 変数の定義 ---\n",
        "# 牛乳の摂取量の上限を0に設定する\n",
        "x1 = {j: m1.add_var(name=f\"x_{j}\", var_type=mip.CONTINUOUS, lb=0.0) for j in foods}\n",
        "x1['牛乳'].ub = 0.0 # 牛乳の上限を0に設定\n",
        "\n",
        "# --- 目的関数の設定 ---\n",
        "m1.objective = mip.xsum(costs[j] * x1[j] for j in foods)\n",
        "\n",
        "# --- 制約条件の追加 ---\n",
        "for i in nutrients:\n",
        "    m1.add_constr(\n",
        "        mip.xsum(nutrient_values[j][i] * x1[j] for j in foods) >= min_requirements[i],\n",
        "        name=f\"Nutrient_{i}\"\n",
        "    )\n",
        "\n",
        "# --- 求解 ---\n",
        "status1 = m1.optimize()\n",
        "\n",
        "# --- 結果と考察 ---\n",
        "print(\"--- 演習問題1 解答 ---\")\n",
        "if status1 == mip.OptimizationStatus.OPTIMAL:\n",
        "    print(f\"最小コスト: {m1.objective_value:.2f}円\")\n",
        "    print(\"\\n[各食品の最適摂取量]\")\n",
        "    for j in foods:\n",
        "        if x1[j].x > 1e-6:\n",
        "            print(f\"{j}: {x1[j].x:.2f} {food_df.loc[j, '単位']}\")\n",
        "else:\n",
        "    print(\"最適解が見つかりませんでした。\")"
      ],
      "outputs": [
        {
          "output_type": "stream",
          "name": "stdout",
          "text": [
            "--- 演習問題1 解答 ---\n",
            "最小コスト: 225.22円\n",
            "\n",
            "[各食品の最適摂取量]\n",
            "卵: 0.83 1個\n",
            "パン: 2.02 1枚\n",
            "チーズ: 2.39 20g\n"
          ]
        }
      ],
      "execution_count": 4,
      "metadata": {
        "colab": {
          "base_uri": "https://localhost:8080/"
        },
        "id": "3e8-o5UbarB5",
        "outputId": "81c6c4d3-a8fc-4864-dc67-cca5a569e802"
      }
    },
    {
      "cell_type": "markdown",
      "source": [
        "---\n",
        "\n",
        "## 演習問題 2\n",
        "\n",
        "### 1. 問題の確認\n",
        "元の問題でタンパク質の最小必要摂取量が30gに増加した場合の最小コストを解答せよ。\n",
        "\n",
        "### 2. 数理モデルの定式化\n",
        "タンパク質に関する最小摂取量の定数 $b_{タンパク質}^{min}$ を 30 に変更する。\n",
        "\n",
        "変更後の制約:\n",
        "$$\\sum_{j \\in F} a_{タンパク質, j} x_j \\ge 30$$\n",
        "\n",
        "他の制約条件および目的関数に変更はない。\n",
        "\n",
        "### 3. Python (MIP) による実装\n",
        "`min_requirements` ディクショナリ内のタンパク質の値を30に変更し、\n",
        "再度最適化計算を行う。"
      ],
      "metadata": {
        "id": "uutX1v46arB5"
      }
    },
    {
      "cell_type": "code",
      "source": [
        "# --- 演習問題2：データ準備 ---\n",
        "# タンパク質の最小摂取量を変更\n",
        "min_requirements_ex2 = min_requirements.copy()\n",
        "min_requirements_ex2['タンパク質'] = 30\n",
        "\n",
        "# --- モデルの作成 ---\n",
        "m2 = mip.Model(name=\"Diet_Ex2\", sense=mip.MINIMIZE)\n",
        "\n",
        "# --- 変数の定義 ---\n",
        "x2 = {j: m2.add_var(name=f\"x_{j}\", var_type=mip.CONTINUOUS, lb=0.0) for j in foods}\n",
        "\n",
        "# --- 目的関数の設定 ---\n",
        "m2.objective = mip.xsum(costs[j] * x2[j] for j in foods)\n",
        "\n",
        "# --- 制約条件の追加 ---\n",
        "for i in nutrients:\n",
        "    m2.add_constr(\n",
        "        mip.xsum(nutrient_values[j][i] * x2[j] for j in foods) >= min_requirements_ex2[i],\n",
        "        name=f\"Nutrient_{i}\"\n",
        "    )\n",
        "\n",
        "# --- 求解 ---\n",
        "status2 = m2.optimize()\n",
        "\n",
        "# --- 結果と考察 ---\n",
        "print(\"--- 演習問題2 解答 ---\")\n",
        "if status2 == mip.OptimizationStatus.OPTIMAL:\n",
        "    print(f\"最小コスト: {m2.objective_value:.2f}円\")\n",
        "    print(\"\\n[各食品の最適摂取量]\")\n",
        "    for j in foods:\n",
        "        if x2[j].x > 1e-6:\n",
        "            print(f\"{j}: {x2[j].x:.2f} {food_df.loc[j, '単位']}\")\n",
        "else:\n",
        "    print(\"最適解が見つかりませんでした。\")"
      ],
      "outputs": [
        {
          "output_type": "stream",
          "name": "stdout",
          "text": [
            "--- 演習問題2 解答 ---\n",
            "最小コスト: 175.00円\n",
            "\n",
            "[各食品の最適摂取量]\n",
            "牛乳: 5.00 100ml\n",
            "卵: 2.50 1個\n"
          ]
        }
      ],
      "execution_count": 5,
      "metadata": {
        "colab": {
          "base_uri": "https://localhost:8080/"
        },
        "id": "t7o6GItEarB6",
        "outputId": "c6dbf89f-5dd1-43ec-b014-1bddf2710c15"
      }
    },
    {
      "cell_type": "markdown",
      "source": [
        "---\n",
        "\n",
        "## 演習問題 3\n",
        "\n",
        "### 1. 問題の確認\n",
        "元の問題に対して、新たに「ヨーグルト」が利用可能になった。ヨーグルトは100gあたりコスト25円、カロリー 90kcal、タンパク質 4g、カルシウム120mgである。ヨーグルトを追加した場合の最小コストを解答せよ。\n",
        "\n",
        "### 2. 数理モデルの定式化\n",
        "この問題では、食品の集合 $F$ に「ヨーグルト」が追加される。\n",
        "\n",
        "$$F' = F \\cup \\{ヨーグルト\\}$$\n",
        "\n",
        "これに伴い、決定変数 $x_{ヨーグルト}$ が追加され、目的関数と制約条件の総和にこの新しい変数が含まれることになる。\n",
        "パラメータもヨーグルトのものが追加される。\n",
        "* $c_{ヨーグルト} = 25$\n",
        "* $a_{カロリー, ヨーグルト} = 90$\n",
        "* $a_{タンパク質, ヨーグルト} = 4$\n",
        "* $a_{カルシウム, ヨーグルト} = 120$\n",
        "\n",
        "### 3. Python (MIP) による実装\n",
        "食品データ `foods`, `costs`, `nutrient_values` に「ヨーグルト」の情報を追加し、モデルを再構築して最適化を行う。"
      ],
      "metadata": {
        "id": "d6Md67t9arB6"
      }
    },
    {
      "cell_type": "code",
      "source": [
        "# --- 演習問題3：データ準備 ---\n",
        "# 元のデータにヨーグルトを追加\n",
        "foods_ex3 = foods + ['ヨーグルト']\n",
        "costs_ex3 = costs.copy()\n",
        "costs_ex3['ヨーグルト'] = 25 #辞書型の変数に要素を追加\n",
        "\n",
        "nutrient_values_ex3 = nutrient_values.copy()\n",
        "nutrient_values_ex3['ヨーグルト'] = {'カロリー': 90, 'タンパク質': 4, 'カルシウム': 120}\n",
        "\n",
        "# 単位を管理するデータも更新\n",
        "food_units_ex3 = food_df['単位'].to_dict()\n",
        "food_units_ex3['ヨーグルト'] = '100g'\n",
        "\n",
        "\n",
        "# --- モデルの作成 ---\n",
        "m3 = mip.Model(name=\"Diet_Ex3\", sense=mip.MINIMIZE)\n",
        "\n",
        "# --- 変数の定義 ---\n",
        "x3 = {j: m3.add_var(name=f\"x_{j}\", var_type=mip.CONTINUOUS, lb=0.0) for j in foods_ex3}\n",
        "\n",
        "# --- 目的関数の設定 ---\n",
        "m3.objective = mip.xsum(costs_ex3[j] * x3[j] for j in foods_ex3)\n",
        "\n",
        "# --- 制約条件の追加 ---\n",
        "for i in nutrients:\n",
        "    m3.add_constr(\n",
        "        mip.xsum(nutrient_values_ex3[j][i] * x3[j] for j in foods_ex3) >= min_requirements[i],\n",
        "        name=f\"Nutrient_{i}\"\n",
        "    )\n",
        "\n",
        "# --- 求解 ---\n",
        "status3 = m3.optimize()\n",
        "\n",
        "# --- 結果と考察 ---\n",
        "print(\"--- 演習問題3 解答 ---\")\n",
        "if status3 == mip.OptimizationStatus.OPTIMAL:\n",
        "    print(f\"最小コスト: {m3.objective_value:.2f}円\")\n",
        "    print(\"\\n[各食品の最適摂取量]\")\n",
        "    for j in foods_ex3:\n",
        "        if x3[j].x > 1e-6:\n",
        "            print(f\"{j}: {x3[j].x:.2f} {food_units_ex3[j]}\")\n",
        "else:\n",
        "    print(\"最適解が見つかりませんでした。\")"
      ],
      "outputs": [
        {
          "output_type": "stream",
          "name": "stdout",
          "text": [
            "--- 演習問題3 解答 ---\n",
            "最小コスト: 147.73円\n",
            "\n",
            "[各食品の最適摂取量]\n",
            "卵: 1.14 1個\n",
            "ヨーグルト: 4.55 100g\n"
          ]
        }
      ],
      "execution_count": 6,
      "metadata": {
        "colab": {
          "base_uri": "https://localhost:8080/"
        },
        "id": "fp_m9u7zarB6",
        "outputId": "ec71aace-40da-4b2f-8bf0-ddbaf10ac451"
      }
    },
    {
      "cell_type": "markdown",
      "source": [
        "---\n",
        "\n",
        "## 演習問題 4\n",
        "\n",
        "### 1. 問題の確認\n",
        "元の問題設定に加えて、「牛乳」の摂取量を最大2単位(200ml) までとする制約を追加した場合の最小コストを解答せよ。\n",
        "\n",
        "### 2. 数理モデルの定式化\n",
        "この問題では、特定の変数に対する上限制約が追加される。牛乳の摂取量を表す変数 $x_{牛乳}$ に対して、以下の制約をモデルに加える。\n",
        "\n",
        "$$x_{牛乳} \\le 2$$\n",
        "\n",
        "\n",
        "### 3. Python (MIP) による実装\n",
        "`m.add_constr()` を用いて、$x_{牛乳} \\le 2$ という制約を明示的に追加する。あるいは、変数を定義する際に\n",
        "`x1['牛乳'].ub=2.0`\n",
        "と設定することでも実現できる。"
      ],
      "metadata": {
        "id": "jPNLJpdharB6"
      }
    },
    {
      "cell_type": "code",
      "source": [
        "# --- 演習問題4 ---\n",
        "\n",
        "# --- モデルの作成 ---\n",
        "m4 = mip.Model(name=\"Diet_Ex4\", sense=mip.MINIMIZE)\n",
        "\n",
        "# --- 変数の定義 ---\n",
        "x4 = {j: m4.add_var(name=f\"x_{j}\", var_type=mip.CONTINUOUS, lb=0.0) for j in foods}\n",
        "\n",
        "# --- 目的関数の設定 ---\n",
        "m4.objective = mip.xsum(costs[j] * x4[j] for j in foods)\n",
        "\n",
        "# --- 制約条件の追加 ---\n",
        "# 栄養素の最小摂取量制約\n",
        "for i in nutrients:\n",
        "    m4.add_constr(\n",
        "        mip.xsum(nutrient_values[j][i] * x4[j] for j in foods) >= min_requirements[i],\n",
        "        name=f\"Nutrient_{i}\"\n",
        "    )\n",
        "# 牛乳の最大摂取量制約\n",
        "m4.add_constr(x4['牛乳'] <= 2, name=\"Milk_upper_bound\")\n",
        "\n",
        "# --- 求解 ---\n",
        "status4 = m4.optimize()\n",
        "\n",
        "# --- 結果と考察 ---\n",
        "print(\"--- 演習問題4 解答 ---\")\n",
        "if status4 == mip.OptimizationStatus.OPTIMAL:\n",
        "    print(f\"最小コスト: {m4.objective_value:.2f}円\")\n",
        "    print(\"\\n[各食品の最適摂取量]\")\n",
        "    for j in foods:\n",
        "        if x4[j].x > 1e-6:\n",
        "            print(f\"{j}: {x4[j].x:.2f} {food_df.loc[j, '単位']}\")\n",
        "else:\n",
        "    print(\"最適解が見つかりませんでした。\")"
      ],
      "outputs": [
        {
          "output_type": "stream",
          "name": "stdout",
          "text": [
            "--- 演習問題4 解答 ---\n",
            "最小コスト: 188.52円\n",
            "\n",
            "[各食品の最適摂取量]\n",
            "牛乳: 2.00 100ml\n",
            "卵: 1.38 1個\n",
            "パン: 1.75 1枚\n",
            "チーズ: 0.74 20g\n"
          ]
        }
      ],
      "execution_count": 7,
      "metadata": {
        "colab": {
          "base_uri": "https://localhost:8080/"
        },
        "id": "tZ_xmOqparB7",
        "outputId": "ea1f65ce-cfa4-49c7-ac3d-46d7b34c4a15"
      }
    },
    {
      "cell_type": "markdown",
      "source": [
        "---\n",
        "\n",
        "## 演習問題 5\n",
        "\n",
        "### 1. 問題の確認\n",
        "元の問題設定に加えて、以下の3つの条件を追加した場合の最小コストを解答せよ。\n",
        "1.  総摂取カロリーは800 kcal以下とする。\n",
        "2.  総摂取カルシウムは1000mg以下とする。\n",
        "3.  牛乳とチーズから摂取する総カロリーが、全摂取カロリーの50%以下になるようにする。\n",
        "\n",
        "### 2. 数理モデルの定式化\n",
        "この問題では、複数の新しい制約が追加される。\n",
        "\n",
        "1.  **カロリーの上限制約:**\n",
        "$$\\sum_{j \\in F} a_{カロリー, j} x_j \\le 800$$\n",
        "\n",
        "2.  **カルシウムの上限制約:**\n",
        "$$\\sum_{j \\in F} a_{カルシウム, j} x_j \\le 1000$$\n",
        "\n",
        "3.  **乳製品からのカロリー比率制約:**\n",
        "牛乳とチーズの集合を $F_{dairy} = \\{牛乳, チーズ\\}$ とする。\n",
        "$$\\frac{\\sum_{j \\in F_{dairy}} a_{カロリー, j} x_j}{\\sum_{j \\in F} a_{カロリー, j} x_j} \\le 0.5$$\n",
        "この非線形制約は、分母を払うことで線形化できる。\n",
        "$$\\sum_{j \\in F_{dairy}} a_{カロリー, j} x_j \\le 0.5 \\times \\sum_{j \\in F} a_{カロリー, j} x_j$$\n",
        "これを整理すると、以下の線形制約となる。\n",
        "$$(a_{カロリー, 牛乳} x_{牛乳} + a_{カロリー, チーズ} x_{チーズ}) - 0.5 \\times \\sum_{j \\in F} a_{カロリー, j} x_j \\le 0$$\n",
        "\n",
        "これらの制約を元のモデルに追加する。\n",
        "\n",
        "### 3. Python (MIP) による実装\n",
        "栄養素の上限制約と、線形化された比率制約を `m.add_constr()` でモデルに追加する。"
      ],
      "metadata": {
        "id": "oT2PaDcParB7"
      }
    },
    {
      "cell_type": "code",
      "source": [
        "# --- 演習問題5 ---\n",
        "\n",
        "\n",
        "# --- モデルの作成 ---\n",
        "m5 = mip.Model(name=\"Diet_Ex5\", sense=mip.MINIMIZE)\n",
        "\n",
        "# --- 変数の定義 ---\n",
        "x5 = {j: m5.add_var(name=f\"x_{j}\", var_type=mip.CONTINUOUS, lb=0.0) for j in foods}\n",
        "\n",
        "# --- 目的関数の設定 ---\n",
        "m5.objective = mip.xsum(costs[j] * x5[j] for j in foods)\n",
        "\n",
        "# --- 制約条件の追加 ---\n",
        "# 1. 栄養素の最小摂取量制約\n",
        "for i in nutrients:\n",
        "    m5.add_constr(\n",
        "        mip.xsum(nutrient_values[j][i] * x5[j] for j in foods) >= min_requirements[i],\n",
        "        name=f\"Nutrient_min_{i}\"\n",
        "    )\n",
        "\n",
        "# 2. カロリーとカルシウムの上限制約\n",
        "m5.add_constr(mip.xsum(nutrient_values[j]['カロリー'] * x5[j] for j in foods) <= 800, name=\"Calorie_upper_bound\")\n",
        "m5.add_constr(mip.xsum(nutrient_values[j]['カルシウム'] * x5[j] for j in foods) <= 1000, name=\"Calcium_upper_bound\")\n",
        "\n",
        "# 3. 乳製品からのカロリー比率制約\n",
        "dairy_products = ['牛乳', 'チーズ']\n",
        "calories_from_dairy = mip.xsum(nutrient_values[j]['カロリー'] * x5[j] for j in dairy_products)\n",
        "total_calories = mip.xsum(nutrient_values[j]['カロリー'] * x5[j] for j in foods)\n",
        "m5.add_constr(calories_from_dairy <= 0.5 * total_calories, name=\"Dairy_calorie_ratio\")\n",
        "\n",
        "# --- 求解 ---\n",
        "status5 = m5.optimize()\n",
        "\n",
        "# --- 結果と考察 ---\n",
        "print(\"--- 演習問題5 解答 ---\")\n",
        "if status5 == mip.OptimizationStatus.OPTIMAL:\n",
        "    print(f\"最小コスト: {m5.objective_value:.2f}円\")\n",
        "    print(\"\\n[各食品の最適摂取量]\")\n",
        "    for j in foods:\n",
        "        if x5[j].x > 1e-6:\n",
        "            print(f\"{j}: {x5[j].x:.2f} {food_df.loc[j, '単位']}\")\n",
        "else:\n",
        "    print(\"最適解が見つかりませんでした。\")\n",
        "    if status5 == mip.OptimizationStatus.INFEASIBLE:\n",
        "      print(\"実行不可能: 与えられた全ての制約を同時に満たす解は存在しません。\")"
      ],
      "outputs": [
        {
          "output_type": "stream",
          "name": "stdout",
          "text": [
            "--- 演習問題5 解答 ---\n",
            "最小コスト: 170.83円\n",
            "\n",
            "[各食品の最適摂取量]\n",
            "牛乳: 4.17 100ml\n",
            "卵: 1.25 1個\n",
            "パン: 1.25 1枚\n"
          ]
        }
      ],
      "execution_count": 8,
      "metadata": {
        "colab": {
          "base_uri": "https://localhost:8080/"
        },
        "id": "bWLaez59arB7",
        "outputId": "ed2a97b0-0725-4a07-d052-1e1b3eb8530a"
      }
    }
  ],
  "metadata": {
    "colab": {
      "provenance": [],
      "include_colab_link": true
    },
    "kernelspec": {
      "display_name": "Python 3",
      "name": "python3"
    }
  },
  "nbformat": 4,
  "nbformat_minor": 0
}