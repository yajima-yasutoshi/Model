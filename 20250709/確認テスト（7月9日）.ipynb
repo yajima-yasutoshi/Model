{
  "cells": [
    {
      "cell_type": "markdown",
      "metadata": {
        "id": "view-in-github",
        "colab_type": "text"
      },
      "source": [
        "<a href=\"https://colab.research.google.com/github/yajima-yasutoshi/Model/blob/main/20250709/%E7%A2%BA%E8%AA%8D%E3%83%86%E3%82%B9%E3%83%88%EF%BC%887%E6%9C%889%E6%97%A5%EF%BC%89.ipynb\" target=\"_parent\"><img src=\"https://colab.research.google.com/assets/colab-badge.svg\" alt=\"Open In Colab\"/></a>"
      ]
    },
    {
      "cell_type": "markdown",
      "source": [
        "#最適化モデリング 確認テスト\n",
        "\n",
        "20250709\n",
        "---\n",
        "## 準備\n",
        "まず、演習に必要なライブラリをインストールし"
      ],
      "metadata": {
        "id": "pNxhDThTV9Yl"
      }
    },
    {
      "cell_type": "code",
      "source": [
        "%%capture\n",
        "# 最適化ライブラリ python-mipをインストール\n",
        "!pip install mip\n",
        "\n",
        "# Matplotlibで日本語を表示するためのライブラリをインストール\n",
        "!pip install japanize-matplotlib\n",
        "\n",
        "# 必要なライブラリのインポート\n",
        "import mip\n",
        "import pandas as pd\n",
        "import numpy as np"
      ],
      "outputs": [],
      "execution_count": null,
      "metadata": {
        "id": "bC_INzCVV9Yo"
      }
    },
    {
      "cell_type": "markdown",
      "source": [
        "---\n",
        "#問題1\n",
        "\n",
        "3つの工場（F1, F2, F3）から3つの倉庫（W1, W2, W3）へ製品を輸送する計画を考える。各工場の供給量、各倉庫の需要量、および工場から倉庫への単位輸送コストが以下の表で与えられている。\n",
        "供給量を超えない範囲で需要を満たすような輸送計画で、\n",
        "総輸送コストを最小化するものを求め、\n",
        "その最小コストを解答せよ。\n",
        "\n",
        "| | 倉庫 W1 | 倉庫 W2 | 倉庫 W3 | **供給量** |\n",
        "| :--- | :---: | :---: | :---: | :---: |\n",
        "| **工場 F1** | 5 | 7 | 8 | 120 |\n",
        "| **工場 F2**| 2 | 6 | 6 | 150 |\n",
        "| **工場 F3**| 8 | 5 | 9 | 100 |\n",
        "| **需要量** | 90 | 110 | 130 | |\n"
      ],
      "metadata": {
        "id": "GXB-GmELfluc"
      }
    },
    {
      "cell_type": "markdown",
      "source": [
        "---\n",
        "#問題1-1\n",
        "\n",
        "問題1に、工場F3から倉庫W2への輸送量の上限 90 が加わった場合の\n",
        "最小コストを解答せよ。\n"
      ],
      "metadata": {
        "id": "-HX0U2cJYuWK"
      }
    },
    {
      "cell_type": "markdown",
      "source": [
        "---\n",
        "#問題2\n",
        "\n",
        "あなたは重さの容量が20のナップザックを持っている。価値と重さが異なる6つのアイテムがある。ナップザックの容量を超えないようにアイテムを選び、総価値が最大になるようにしたい。最大総価値を求めよ。\n",
        "\n",
        "| アイテム | 0 | 1 | 2 | 3 | 4 | 5 |\n",
        "| :--- | :-: | :-: | :-: | :-: | :-: | :-: |\n",
        "| **価値** | 50 | 65 | 140 | 100 | 70 | 80 |\n",
        "| **重さ** | 4 | 5 | 12 | 9 | 6 | 7 |\n",
        "\n"
      ],
      "metadata": {
        "id": "AvZU8xThqElu"
      }
    },
    {
      "cell_type": "markdown",
      "source": [
        "---\n",
        "#問題2-1\n",
        "\n",
        "問題2に、以下の2つの追加制約がある場合の最大総価値を求めよ。\n",
        "\n",
        "* アイテム1（価値65, 重さ5）を選択する場合、アイテム5（価値80, 重さ7）も必ず選択しなければならない。\n",
        "* アイテム2（価値140, 重さ12）とアイテム3（価値100, 重さ9）は、同時に選択することはできない。\n"
      ],
      "metadata": {
        "id": "Fqahk0pPZmur"
      }
    },
    {
      "cell_type": "markdown",
      "source": [
        "---\n",
        "#問題3\n",
        "\n",
        "あるエージェントが、スタート地点'S'からゴール地点'G'まで移動する。各移動経路（枝）には、移動コスト（時間）と、通行料がかかる。\n",
        "**総移動コスト（時間）のみ**\n",
        "を考えコストを最小にする経路を求め、その最小コストを解答せよ。\n",
        "\n",
        "* **ノード**: {S, A, B, C, D, G}\n",
        "* **枝 (始点, 終点, 移動コスト, 通行料)**:\n",
        "    * (S, A, 4, 5), (S, B, 8, 3)\n",
        "    * (A, B, 2, 6), (A, C, 6, 8)\n",
        "    * (B, C, 3, 5), (B, D, 10, 4)\n",
        "    * (C, G, 5, 7)\n",
        "    * (D, C, 2, 4), (D, G, 3, 9)\n",
        "* **通行料上限**: 20"
      ],
      "metadata": {
        "id": "QNYFPRPDZ_ql"
      }
    },
    {
      "cell_type": "markdown",
      "source": [
        "---\n",
        "#問題3-1\n",
        "\n",
        "問題3で、\n",
        "移動コスト（時間）に加え通行料を考える。\n",
        "**総通行料が20以内の経路**で総移動コスト（時間）を最小にする経路を求め、\n",
        "その最小コストを解答せよ。"
      ],
      "metadata": {
        "id": "CD0sv_AzaBgP"
      }
    },
    {
      "cell_type": "markdown",
      "source": [
        "---\n",
        "#問題4\n",
        "\n",
        "以下の表に示したような栄養基準を満たしつつ食費を最小化する問題を考える。\n",
        "このとき、最小コストを求めよ。\n",
        "\n",
        "**食品データ**\n",
        "\n",
        "| 食品名 | 単位 | コスト(円) | カロリー(kcal) | タンパク質(g) | ビタミンC(mg) |\n",
        "|:--- |:--- |:---: |:---: |:---: |:---:|\n",
        "| 牛乳 | 100ml | 20 | 60 | 3 | 1 |\n",
        "| 卵 | 1個 | 30 | 80 | 6 | 0 |\n",
        "| パン | 1枚 | 40 | 120 | 4 | 0 |\n",
        "| チーズ | 20g | 50 | 80 | 5 | 0 |\n",
        "| 鶏むね肉 | 100g | 100 | 110 | 23 | 0 |\n",
        "| ブロッコリー | 50g | 40 | 15 | 2 | 60 |\n",
        "\n",
        "**1日の最小栄養基準**\n",
        "\n",
        "| 栄養素 | 最小摂取量 |\n",
        "| :--- | :---: |\n",
        "| カロリー | 600 kcal |\n",
        "| タンパク質 | 50 g |\n",
        "| ビタミンC | 70 mg |\n",
        "\n"
      ],
      "metadata": {
        "id": "CfRn5WSurWC5"
      }
    },
    {
      "cell_type": "markdown",
      "source": [
        "---\n",
        "#問題4-1\n",
        "\n",
        "問題4で、以下の制約を追加する。\n",
        "* 牛乳は2単位（200ml）まで\n",
        "* 卵は2単位（2個）まで\n",
        "\n",
        "このとき、最小コストを求めよ。\n",
        "\n"
      ],
      "metadata": {
        "id": "v02NIQG6a5Or"
      }
    },
    {
      "cell_type": "markdown",
      "source": [
        "---\n",
        "#問題4-2\n",
        "\n",
        "問題4-1に以下の制約を追加する。\n",
        "* パンを食べる場合はチーズを1単位（20g）以上摂取する\n",
        "\n",
        "このとき、最小コストを求めよ。\n",
        "\n"
      ],
      "metadata": {
        "id": "wshPJWwCo6Wd"
      }
    }
  ],
  "metadata": {
    "colab": {
      "provenance": [],
      "toc_visible": true,
      "include_colab_link": true
    },
    "kernelspec": {
      "display_name": "Python 3",
      "name": "python3"
    }
  },
  "nbformat": 4,
  "nbformat_minor": 0
}