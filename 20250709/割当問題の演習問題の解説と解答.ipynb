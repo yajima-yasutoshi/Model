{
  "cells": [
    {
      "cell_type": "markdown",
      "metadata": {
        "id": "view-in-github",
        "colab_type": "text"
      },
      "source": [
        "<a href=\"https://colab.research.google.com/github/yajima-yasutoshi/Model/blob/main/20250709/%E5%89%B2%E5%BD%93%E5%95%8F%E9%A1%8C%E3%81%AE%E6%BC%94%E7%BF%92%E5%95%8F%E9%A1%8C%E3%81%AE%E8%A7%A3%E8%AA%AC%E3%81%A8%E8%A7%A3%E7%AD%94.ipynb\" target=\"_parent\"><img src=\"https://colab.research.google.com/assets/colab-badge.svg\" alt=\"Open In Colab\"/></a>"
      ]
    },
    {
      "cell_type": "markdown",
      "source": [
        "# 割当問題\n",
        "\n",
        "### 準備\n"
      ],
      "metadata": {
        "id": "l0nx5hhDuX9w"
      }
    },
    {
      "cell_type": "code",
      "source": [
        "%%capture\n",
        "# python-mip ライブラリをインストールする\n",
        "!pip install mip\n",
        "\n",
        "# 数値計算ライブラリ numpy をインポートする\n",
        "import mip\n",
        "import numpy as np"
      ],
      "outputs": [],
      "execution_count": null,
      "metadata": {
        "id": "Lr2cESAauX91"
      }
    },
    {
      "cell_type": "markdown",
      "source": [
        "---\n",
        "\n",
        "## 演習問題1\n",
        "\n",
        "### 1. 問題\n",
        "\n",
        "3エージェント (A0, A1, A2) と3タスク (T0, T1, T2) の割当問題を以下のコスト行列で最適化し、最小の総コストを解答せよ。\n",
        "\n",
        "$C = \\begin{pmatrix} 10 & 8 & 12 \\\\ 7 & 11 & 9 \\\\ 9 & 4 & 10 \\end{pmatrix}$\n",
        "\n",
        "### 2. 数理モデルの定式化\n",
        "\n",
        "この問題は、総コストを最小化する標準的な割当問題である。\n",
        "\n",
        "**決定変数**\n",
        "\n",
        "エージェント $i$ をタスク $j$ に割り当てる場合に 1、そうでない場合に 0 をとるバイナリ変数を $x_{ij}$ とする。 ($i, j \\in \\{0, 1, 2\\}$)\n",
        "\n",
        "**目的関数**\n",
        "\n",
        "総割り当てコストを最小化するため、目的関数は以下のように表される。\n",
        "\n",
        "$$\\min Z = \\sum_{i=0}^{2} \\sum_{j=0}^{2} c_{ij} x_{ij}$$\n",
        "\n",
        "ここで、$c_{ij}$ はコスト行列 $C$ の $(i, j)$ 成分である。\n",
        "\n",
        "**制約条件**\n",
        "\n",
        "1.  **エージェント割り当て制約**: 各エージェントは、正確に1つのタスクに割り当てられなければならない。\n",
        "    $$\\sum_{j=0}^{2} x_{ij} = 1, \\quad \\forall i \\in \\{0, 1, 2\\}$$\n",
        "\n",
        "2.  **タスク割り当て制約**: 各タスクは、正確に1人のエージェントに割り当てられなければならない。\n",
        "    $$\\sum_{i=0}^{2} x_{ij} = 1, \\quad \\forall j \\in \\{0, 1, 2\\}$$\n",
        "\n",
        "3.  **変数型制約**:\n",
        "    $$x_{ij} \\in \\{0, 1\\}, \\quad \\forall i, j \\in \\{0, 1, 2\\}$$\n",
        "\n",
        "### 3. Python (MIP) による実装"
      ],
      "metadata": {
        "id": "I4qc-c0vuX92"
      }
    },
    {
      "cell_type": "code",
      "source": [
        "# 演習問題1\n",
        "\n",
        "# 問題データの設定\n",
        "# エージェントとタスクの数\n",
        "n = 3\n",
        "\n",
        "# コスト行列\n",
        "costs = np.array([\n",
        "    [10, 8, 12],\n",
        "    [7, 11, 9],\n",
        "    [9, 4, 10]\n",
        "])\n",
        "\n",
        "# 1. モデルの作成\n",
        "# sense=mip.MINIMIZE で最小化問題を指定\n",
        "model1 = mip.Model(name=\"AssignmentProblem1\", sense=mip.MINIMIZE)\n",
        "\n",
        "# 2. 変数の定義\n",
        "# x[i][j] はエージェントiをタスクjに割り当てるかどうかのバイナリ変数\n",
        "x = [[model1.add_var(var_type=mip.BINARY, name=f\"x({i},{j})\") for j in range(n)] for i in range(n)]\n",
        "\n",
        "# 3. 目的関数の設定\n",
        "# 総コストを最小化する\n",
        "model1.objective = mip.xsum(costs[i][j] * x[i][j] for i in range(n) for j in range(n))\n",
        "\n",
        "# 4. 制約条件の追加\n",
        "# 制約1: 各エージェントは1つのタスクに割り当てられる\n",
        "for i in range(n):\n",
        "    model1 += mip.xsum(x[i][j] for j in range(n)) == 1, f\"AgentConstraint({i})\"\n",
        "\n",
        "# 制約2: 各タスクは1人のエージェントに割り当てられる\n",
        "for j in range(n):\n",
        "    model1 += mip.xsum(x[i][j] for i in range(n)) == 1, f\"TaskConstraint({j})\"\n",
        "\n",
        "# 5. 問題の求解\n",
        "status = model1.optimize()\n",
        "\n",
        "# 6. 結果の表示\n",
        "if status == mip.OptimizationStatus.OPTIMAL:\n",
        "    print(f\"最小総コスト: {model1.objective_value:.2f}\")\n",
        "    print(\"最適な割り当て:\")\n",
        "    for i in range(n):\n",
        "        for j in range(n):\n",
        "            if x[i][j].x >= 0.99:\n",
        "                print(f\"  エージェント A{i} -> タスク T{j} (コスト: {costs[i][j]})\")\n",
        "else:\n",
        "    print(\"最適解が見つかりませんでした。\")"
      ],
      "outputs": [
        {
          "output_type": "stream",
          "name": "stdout",
          "text": [
            "最小総コスト: 23.00\n",
            "最適な割り当て:\n",
            "  エージェント A0 -> タスク T0 (コスト: 10)\n",
            "  エージェント A1 -> タスク T2 (コスト: 9)\n",
            "  エージェント A2 -> タスク T1 (コスト: 4)\n"
          ]
        }
      ],
      "execution_count": null,
      "metadata": {
        "colab": {
          "base_uri": "https://localhost:8080/"
        },
        "id": "ppWWKEJ1uX93",
        "outputId": "0907a73e-0a19-4fbd-f161-6bf89528b6bb"
      }
    },
    {
      "cell_type": "markdown",
      "source": [
        "---\n",
        "\n",
        "## 演習問題2\n",
        "\n",
        "### 1. 問題\n",
        "\n",
        "エージェント数とタスク数を4に増やし、以下のコスト行列で割当問題を解け。最小の総コストを解答せよ。\n",
        "\n",
        "$C = \\begin{pmatrix} 13 & 8 & 16 & 18 \\\\ 10 & 15 & 3 & 12 \\\\ 12 & 9 & 4 & 6 \\\\ 6 & 11 & 14 & 7 \\end{pmatrix}$\n",
        "\n",
        "### 2. 数理モデルの定式化\n",
        "\n",
        "モデルの構造は演習問題1と同様であるが、エージェントとタスクの数が $n=4$ となる。\n",
        "\n",
        "**決定変数**\n",
        "\n",
        "$x_{ij} \\in \\{0, 1\\}, \\quad \\forall i, j \\in \\{0, 1, 2, 3\\}$\n",
        "\n",
        "**目的関数**\n",
        "\n",
        "$$\\min Z = \\sum_{i=0}^{3} \\sum_{j=0}^{3} c_{ij} x_{ij}$$\n",
        "\n",
        "**制約条件**\n",
        "\n",
        "$$\\sum_{j=0}^{3} x_{ij} = 1, \\quad \\forall i \\in \\{0, 1, 2, 3\\}$$\n",
        "$$\\sum_{i=0}^{3} x_{ij} = 1, \\quad \\forall j \\in \\{0, 1, 2, 3\\}$$\n",
        "\n",
        "### 3. Python (MIP) による実装"
      ],
      "metadata": {
        "id": "fr1XId2AuX94"
      }
    },
    {
      "cell_type": "code",
      "source": [
        "# 演習問題2\n",
        "\n",
        "# 問題データの設定\n",
        "# エージェントとタスクの数\n",
        "n = 4\n",
        "\n",
        "# コスト行列\n",
        "costs = np.array([\n",
        "    [13, 8, 16, 18],\n",
        "    [10, 15, 3, 12],\n",
        "    [12, 9, 4, 6],\n",
        "    [6, 11, 14, 7]\n",
        "])\n",
        "\n",
        "# 1. モデルの作成\n",
        "model2 = mip.Model(name=\"AssignmentProblem2\", sense=mip.MINIMIZE)\n",
        "\n",
        "# 2. 変数の定義\n",
        "x = [[model2.add_var(var_type=mip.BINARY, name=f\"x({i},{j})\") for j in range(n)] for i in range(n)]\n",
        "\n",
        "# 3. 目的関数の設定\n",
        "model2.objective = mip.xsum(costs[i][j] * x[i][j] for i in range(n) for j in range(n))\n",
        "\n",
        "# 4. 制約条件の追加\n",
        "for i in range(n):\n",
        "    model2 += mip.xsum(x[i][j] for j in range(n)) == 1, f\"AgentConstraint({i})\"\n",
        "for j in range(n):\n",
        "    model2 += mip.xsum(x[i][j] for i in range(n)) == 1, f\"TaskConstraint({j})\"\n",
        "\n",
        "# 5. 問題の求解\n",
        "status = model2.optimize()\n",
        "\n",
        "# 6. 結果の表示\n",
        "if status == mip.OptimizationStatus.OPTIMAL:\n",
        "    print(f\"最小総コスト: {model2.objective_value:.2f}\")\n",
        "    print(\"最適な割り当て:\")\n",
        "    for i in range(n):\n",
        "        for j in range(n):\n",
        "            if x[i][j].x >= 0.99:\n",
        "                print(f\"  エージェント A{i} -> タスク T{j} (コスト: {costs[i][j]})\")\n",
        "else:\n",
        "    print(\"最適解が見つかりませんでした。\")"
      ],
      "outputs": [
        {
          "output_type": "stream",
          "name": "stdout",
          "text": [
            "最小総コスト: 23.00\n",
            "最適な割り当て:\n",
            "  エージェント A0 -> タスク T1 (コスト: 8)\n",
            "  エージェント A1 -> タスク T2 (コスト: 3)\n",
            "  エージェント A2 -> タスク T3 (コスト: 6)\n",
            "  エージェント A3 -> タスク T0 (コスト: 6)\n"
          ]
        }
      ],
      "execution_count": null,
      "metadata": {
        "colab": {
          "base_uri": "https://localhost:8080/"
        },
        "id": "p5s7ZpY_uX94",
        "outputId": "e9fe6db5-574c-422c-db35-aaeba707625c"
      }
    },
    {
      "cell_type": "markdown",
      "source": [
        "---\n",
        "\n",
        "## 演習問題3\n",
        "\n",
        "### 1. 問題\n",
        "\n",
        "3人の営業担当者 (S1, S2, S3) と3つの地域 (R1, R2, R3) があり、各担当者が各地域を担当した場合に期待される利益が以下の表で与えられている。総利益を最大にする割り当てを求め、総利益の最大値を解答せよ。\n",
        "\n",
        "利益行列 $P = \\begin{pmatrix} 50 & 65 & 70 \\\\ 80 & 75 & 60 \\\\ 55 & 60 & 75 \\end{pmatrix}$\n",
        "\n",
        "### 2. 数理モデルの定式化\n",
        "\n",
        "この問題は、目的が「最大化」である点を除き、標準的な割当問題と同じである。\n",
        "\n",
        "**決定変数**\n",
        "\n",
        "担当者 $i$ を地域 $j$ に割り当てる場合に 1、そうでない場合に 0 をとるバイナリ変数を $x_{ij}$ とする。 ($i, j \\in \\{0, 1, 2\\}$)\n",
        "\n",
        "**目的関数**\n",
        "\n",
        "総利益を最大化するため、目的関数は以下のように表される。\n",
        "\n",
        "$$\\max Z = \\sum_{i=0}^{2} \\sum_{j=0}^{2} p_{ij} x_{ij}$$\n",
        "\n",
        "ここで、$p_{ij}$ は利益行列 $P$ の $(i, j)$ 成分である。\n",
        "\n",
        "**制約条件**\n",
        "\n",
        "制約条件は演習問題1と同一である。\n",
        "\n",
        "### 3. Python (MIP) による実装"
      ],
      "metadata": {
        "id": "5FelAxQEuX95"
      }
    },
    {
      "cell_type": "code",
      "source": [
        "# 演習問題3\n",
        "\n",
        "# 問題データの設定\n",
        "# 担当者と地域の数\n",
        "n = 3\n",
        "\n",
        "# 利益行列\n",
        "profits = np.array([\n",
        "    [50, 65, 70],\n",
        "    [80, 75, 60],\n",
        "    [55, 60, 75]\n",
        "])\n",
        "\n",
        "# 1. モデルの作成\n",
        "# sense=mip.MAXIMIZE で最大化問題を指定\n",
        "model3 = mip.Model(name=\"AssignmentProblem3_Maximize\", sense=mip.MAXIMIZE)\n",
        "\n",
        "# 2. 変数の定義\n",
        "x = [[model3.add_var(var_type=mip.BINARY, name=f\"x({i},{j})\") for j in range(n)] for i in range(n)]\n",
        "\n",
        "# 3. 目的関数の設定\n",
        "# 総利益を最大化する\n",
        "model3.objective = mip.xsum(profits[i][j] * x[i][j] for i in range(n) for j in range(n))\n",
        "\n",
        "# 4. 制約条件の追加\n",
        "for i in range(n):\n",
        "    model3 += mip.xsum(x[i][j] for j in range(n)) == 1, f\"AgentConstraint({i})\"\n",
        "for j in range(n):\n",
        "    model3 += mip.xsum(x[i][j] for i in range(n)) == 1, f\"TaskConstraint({j})\"\n",
        "\n",
        "# 5. 問題の求解\n",
        "status = model3.optimize()\n",
        "\n",
        "# 6. 結果の表示\n",
        "if status == mip.OptimizationStatus.OPTIMAL:\n",
        "    print(f\"最大総利益: {model3.objective_value:.2f}\")\n",
        "    print(\"最適な割り当て:\")\n",
        "    for i in range(n):\n",
        "        for j in range(n):\n",
        "            if x[i][j].x >= 0.99:\n",
        "                print(f\"  担当者 S{i+1} -> 地域 R{j+1} (利益: {profits[i][j]})\")\n",
        "else:\n",
        "    print(\"最適解が見つかりませんでした。\")"
      ],
      "outputs": [
        {
          "output_type": "stream",
          "name": "stdout",
          "text": [
            "最大総利益: 220.00\n",
            "最適な割り当て:\n",
            "  担当者 S1 -> 地域 R2 (利益: 65)\n",
            "  担当者 S2 -> 地域 R1 (利益: 80)\n",
            "  担当者 S3 -> 地域 R3 (利益: 75)\n"
          ]
        }
      ],
      "execution_count": null,
      "metadata": {
        "colab": {
          "base_uri": "https://localhost:8080/"
        },
        "id": "7cZzV_K4uX95",
        "outputId": "d198000b-980d-4261-ae2f-3f61a8485885"
      }
    },
    {
      "cell_type": "markdown",
      "source": [
        "---\n",
        "\n",
        "## 演習問題4\n",
        "\n",
        "### 1. 問題\n",
        "\n",
        "演習問題2で、エージェントをA0, A1, A2, A3、タスクをT0, T1, T2, T3とする。A1がT2を担当できないという制約を追加して、最適な割り当てを求め、総コストの最小値を解答せよ。\n",
        "\n",
        "### 2. 数理モデルの定式化\n",
        "\n",
        "この問題は、演習問題2のモデルに特定の割り当てを禁止する制約を追加したものである。\n",
        "\n",
        "**追加制約**\n",
        "\n",
        "エージェントA1 (インデックス $i=1$) はタスクT2 (インデックス $j=2$) を担当できない。これは、対応する決定変数 $x_{1,2}$ が 0 でなければならないことを意味する。\n",
        "\n",
        "$$x_{1,2} = 0$$\n",
        "\n",
        "この制約を演習問題2のモデルに追加する。\n",
        "\n",
        "### 3. Python (MIP) による実装"
      ],
      "metadata": {
        "id": "t2ZstLd8uX96"
      }
    },
    {
      "cell_type": "code",
      "source": [
        "# 演習問題4\n",
        "\n",
        "# 問題データの設定 (演習問題2と同じ)\n",
        "n = 4\n",
        "costs = np.array([\n",
        "    [13, 8, 16, 18],\n",
        "    [10, 15, 3, 12],\n",
        "    [12, 9, 4, 6],\n",
        "    [6, 11, 14, 7]\n",
        "])\n",
        "\n",
        "# 1. モデルの作成\n",
        "model4 = mip.Model(name=\"AssignmentProblem4_Constrained\", sense=mip.MINIMIZE)\n",
        "\n",
        "# 2. 変数の定義\n",
        "x = [[model4.add_var(var_type=mip.BINARY, name=f\"x({i},{j})\") for j in range(n)] for i in range(n)]\n",
        "\n",
        "# 3. 目的関数の設定\n",
        "model4.objective = mip.xsum(costs[i][j] * x[i][j] for i in range(n) for j in range(n))\n",
        "\n",
        "# 4. 制約条件の追加\n",
        "# 基本的な割当制約\n",
        "for i in range(n):\n",
        "    model4 += mip.xsum(x[i][j] for j in range(n)) == 1\n",
        "for j in range(n):\n",
        "    model4 += mip.xsum(x[i][j] for i in range(n)) == 1\n",
        "\n",
        "# 追加制約: エージェントA1はタスクT2を担当できない\n",
        "model4 += x[1][2] == 0, \"A1_cannot_do_T2\"\n",
        "\n",
        "# 5. 問題の求解\n",
        "status = model4.optimize()\n",
        "\n",
        "# 6. 結果の表示\n",
        "if status == mip.OptimizationStatus.OPTIMAL:\n",
        "    print(f\"最小総コスト: {model4.objective_value:.2f}\")\n",
        "    print(\"最適な割り当て:\")\n",
        "    for i in range(n):\n",
        "        for j in range(n):\n",
        "            if x[i][j].x >= 0.99:\n",
        "                print(f\"  エージェント A{i} -> タスク T{j} (コスト: {costs[i][j]})\")\n",
        "else:\n",
        "    print(\"最適解が見つかりませんでした。\")"
      ],
      "outputs": [
        {
          "output_type": "stream",
          "name": "stdout",
          "text": [
            "最小総コスト: 29.00\n",
            "最適な割り当て:\n",
            "  エージェント A0 -> タスク T1 (コスト: 8)\n",
            "  エージェント A1 -> タスク T0 (コスト: 10)\n",
            "  エージェント A2 -> タスク T2 (コスト: 4)\n",
            "  エージェント A3 -> タスク T3 (コスト: 7)\n"
          ]
        }
      ],
      "execution_count": null,
      "metadata": {
        "colab": {
          "base_uri": "https://localhost:8080/"
        },
        "id": "D9T4jv5wuX97",
        "outputId": "f69d56dc-d58d-440b-faf4-325206026343"
      }
    },
    {
      "cell_type": "markdown",
      "source": [
        "---\n",
        "\n",
        "## 演習問題5\n",
        "\n",
        "### 1. 問題\n",
        "\n",
        "3人のエージェントと4つのタスクがあるとする。各エージェントは1つのタスクを担当し、各タスクは高々1人のエージェントに担当される (つまり、タスクのうち1つは担当されない)。割り当てられたタスクの総コストの最小値を解答せよ。ただし、コスト行列 (3x4) は以下とする。\n",
        "\n",
        "$C = \\begin{pmatrix} 8 & 2 & 5 & 7 \\\\ 6 & 4 & 3 & 9 \\\\ 5 & 7 & 8 & 4 \\end{pmatrix}$\n",
        "\n",
        "### 2. 数理モデルの定式化\n",
        "\n",
        "この問題はエージェントとタスクの数が異なる非均衡な (unbalanced) 割当問題である。\n",
        "\n",
        "**決定変数**\n",
        "\n",
        "エージェント $i$ をタスク $j$ に割り当てる場合に 1、そうでない場合に 0 をとるバイナリ変数を $x_{ij}$ とする。($i \\in \\{0, 1, 2\\}, j \\in \\{0, 1, 2, 3\\}$)\n",
        "\n",
        "**目的関数**\n",
        "\n",
        "$$\\min Z = \\sum_{i=0}^{2} \\sum_{j=0}^{3} c_{ij} x_{ij}$$\n",
        "\n",
        "**制約条件**\n",
        "\n",
        "1.  **エージェント割り当て制約**: 各エージェントは、正確に1つのタスクに割り当てられなければならない。これは従来と同じである。\n",
        "    $$\\sum_{j=0}^{3} x_{ij} = 1, \\quad \\forall i \\in \\{0, 1, 2\\}$$\n",
        "\n",
        "2.  **タスク割り当て制約 (変更)**: 各タスクは、**高々1人 (at most one)** のエージェントに割り当てられる。つまり、割り当てられないタスクが存在する可能性がある。\n",
        "    $$\\sum_{i=0}^{2} x_{ij} \\le 1, \\quad \\forall j \\in \\{0, 1, 2, 3\\}$$\n",
        "\n",
        "### 3. Python (MIP) による実装"
      ],
      "metadata": {
        "id": "5zzNkSbfuX98"
      }
    },
    {
      "cell_type": "code",
      "source": [
        "# 演習問題5\n",
        "\n",
        "# 問題データの設定\n",
        "# エージェントとタスクの数\n",
        "num_agents = 3\n",
        "num_tasks = 4\n",
        "\n",
        "# コスト行列 (3x4)\n",
        "costs = np.array([\n",
        "    [8, 2, 5, 7],\n",
        "    [6, 4, 3, 9],\n",
        "    [5, 7, 8, 4]\n",
        "])\n",
        "\n",
        "# 1. モデルの作成\n",
        "model5 = mip.Model(name=\"AssignmentProblem5_Unbalanced\", sense=mip.MINIMIZE)\n",
        "\n",
        "# 2. 変数の定義\n",
        "x = [[model5.add_var(var_type=mip.BINARY, name=f\"x({i},{j})\") for j in range(num_tasks)] for i in range(num_agents)]\n",
        "\n",
        "# 3. 目的関数の設定\n",
        "model5.objective = mip.xsum(costs[i][j] * x[i][j] for i in range(num_agents) for j in range(num_tasks))\n",
        "\n",
        "# 4. 制約条件の追加\n",
        "# 制約1: 各エージェントは1つのタスクに割り当てられる\n",
        "for i in range(num_agents):\n",
        "    model5 += mip.xsum(x[i][j] for j in range(num_tasks)) == 1, f\"AgentConstraint({i})\"\n",
        "\n",
        "# 制約2: 各タスクは高々1人のエージェントに割り当てられる (<= 1)\n",
        "for j in range(num_tasks):\n",
        "    model5 += mip.xsum(x[i][j] for i in range(num_agents)) <= 1, f\"TaskConstraint({j})\"\n",
        "\n",
        "# 5. 問題の求解\n",
        "status = model5.optimize()\n",
        "\n",
        "# 6. 結果の表示\n",
        "if status == mip.OptimizationStatus.OPTIMAL:\n",
        "    print(f\"最小総コスト: {model5.objective_value:.2f}\")\n",
        "    print(\"最適な割り当て:\")\n",
        "    assigned_tasks = []\n",
        "    for i in range(num_agents):\n",
        "        for j in range(num_tasks):\n",
        "            if x[i][j].x >= 0.99:\n",
        "                print(f\"  エージェント A{i} -> タスク T{j} (コスト: {costs[i][j]})\")\n",
        "                assigned_tasks.append(j)\n",
        "\n",
        "    unassigned_task = set(range(num_tasks)) - set(assigned_tasks)\n",
        "    print(f\"担当されないタスク: T{list(unassigned_task)[0]}\")\n",
        "\n",
        "else:\n",
        "    print(\"最適解が見つかりませんでした。\")"
      ],
      "outputs": [
        {
          "output_type": "stream",
          "name": "stdout",
          "text": [
            "最小総コスト: 9.00\n",
            "最適な割り当て:\n",
            "  エージェント A0 -> タスク T1 (コスト: 2)\n",
            "  エージェント A1 -> タスク T2 (コスト: 3)\n",
            "  エージェント A2 -> タスク T3 (コスト: 4)\n",
            "担当されないタスク: T0\n"
          ]
        }
      ],
      "execution_count": null,
      "metadata": {
        "colab": {
          "base_uri": "https://localhost:8080/"
        },
        "id": "ju_LVyHduX98",
        "outputId": "988cea66-5382-4281-b014-764dcdea3b56"
      }
    },
    {
      "cell_type": "markdown",
      "source": [
        "---\n",
        "\n",
        "## 演習問題6\n",
        "\n",
        "### 1. 問題\n",
        "\n",
        "4人のエージェント (A0,A1,A2,A3)と4つのタスク (T0,T1,T2,T3)がある。コストは演習問題2の行列を使用する。制約として「もしエージェントA0がタスクT1に割り当てられたら、エージェントA1はタスクT3に割り当てられなければならない」を追加して最適化し、総コストの最小値を求めよ。\n",
        "\n",
        "### 2. 数理モデルの定式化\n",
        "\n",
        "この問題は、演習問題2のモデルに条件付きの論理制約を追加したものである。\n",
        "\n",
        "**追加制約**\n",
        "\n",
        "「もしエージェントA0がタスクT1に割り当てられたら ($x_{0,1}=1$)、エージェントA1はタスクT3に割り当てられなければならない ($x_{1,3}=1$)」\n",
        "\n",
        "この論理命題は、$A \\implies B$ の形であり、線形制約として $A \\le B$ と表現できる。\n",
        "\n",
        "$$x_{0,1} \\le x_{1,3}$$\n",
        "\n",
        "この制約を演習問題2のモデルに追加する。\n",
        "\n",
        "### 3. Python (MIP) による実装"
      ],
      "metadata": {
        "id": "yc1Clx1nuX98"
      }
    },
    {
      "cell_type": "code",
      "source": [
        "# 演習問題6\n",
        "\n",
        "# 問題データの設定 (演習問題2と同じ)\n",
        "n = 4\n",
        "costs = np.array([\n",
        "    [13, 8, 16, 18],\n",
        "    [10, 15, 3, 12],\n",
        "    [12, 9, 4, 6],\n",
        "    [6, 11, 14, 7]\n",
        "])\n",
        "\n",
        "# 1. モデルの作成\n",
        "model6 = mip.Model(name=\"AssignmentProblem6_Logical\", sense=mip.MINIMIZE)\n",
        "\n",
        "# 2. 変数の定義\n",
        "x = [[model6.add_var(var_type=mip.BINARY, name=f\"x({i},{j})\") for j in range(n)] for i in range(n)]\n",
        "\n",
        "# 3. 目的関数の設定\n",
        "model6.objective = mip.xsum(costs[i][j] * x[i][j] for i in range(n) for j in range(n))\n",
        "\n",
        "# 4. 制約条件の追加\n",
        "# 基本的な割当制約\n",
        "for i in range(n):\n",
        "    model6 += mip.xsum(x[i][j] for j in range(n)) == 1\n",
        "for j in range(n):\n",
        "    model6 += mip.xsum(x[i][j] for i in range(n)) == 1\n",
        "\n",
        "# 追加制約: もし A0->T1 ならば A1->T3\n",
        "# x(0,1) <= x(1,3)\n",
        "model6 += x[0][1] <= x[1][3], \"LogicalConstraint\"\n",
        "\n",
        "# 5. 問題の求解\n",
        "status = model6.optimize()\n",
        "\n",
        "# 6. 結果の表示\n",
        "if status == mip.OptimizationStatus.OPTIMAL:\n",
        "    print(f\"最小総コスト: {model6.objective_value:.2f}\")\n",
        "    print(\"最適な割り当て:\")\n",
        "    for i in range(n):\n",
        "        for j in range(n):\n",
        "            if x[i][j].x >= 0.99:\n",
        "                print(f\"  エージェント A{i} -> タスク T{j} (コスト: {costs[i][j]})\")\n",
        "else:\n",
        "    print(\"最適解が見つかりませんでした。\")"
      ],
      "outputs": [
        {
          "output_type": "stream",
          "name": "stdout",
          "text": [
            "最小総コスト: 30.00\n",
            "最適な割り当て:\n",
            "  エージェント A0 -> タスク T1 (コスト: 8)\n",
            "  エージェント A1 -> タスク T3 (コスト: 12)\n",
            "  エージェント A2 -> タスク T2 (コスト: 4)\n",
            "  エージェント A3 -> タスク T0 (コスト: 6)\n"
          ]
        }
      ],
      "execution_count": null,
      "metadata": {
        "colab": {
          "base_uri": "https://localhost:8080/"
        },
        "id": "ycpnM7pbuX99",
        "outputId": "54c796dd-0e61-4fa7-d541-b404927f48cf"
      }
    }
  ],
  "metadata": {
    "colab": {
      "provenance": [],
      "include_colab_link": true
    },
    "kernelspec": {
      "display_name": "Python 3",
      "name": "python3"
    }
  },
  "nbformat": 4,
  "nbformat_minor": 0
}