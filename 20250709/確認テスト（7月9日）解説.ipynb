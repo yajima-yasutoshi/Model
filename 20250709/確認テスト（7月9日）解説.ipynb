{
  "cells": [
    {
      "cell_type": "markdown",
      "metadata": {
        "id": "view-in-github",
        "colab_type": "text"
      },
      "source": [
        "<a href=\"https://colab.research.google.com/github/yajima-yasutoshi/Model/blob/main/20250709/%E7%A2%BA%E8%AA%8D%E3%83%86%E3%82%B9%E3%83%88%EF%BC%887%E6%9C%889%E6%97%A5%EF%BC%89%E8%A7%A3%E8%AA%AC.ipynb\" target=\"_parent\"><img src=\"https://colab.research.google.com/assets/colab-badge.svg\" alt=\"Open In Colab\"/></a>"
      ]
    },
    {
      "cell_type": "markdown",
      "source": [
        "#最適化モデリング 確認テスト\n",
        "---\n",
        "## 準備\n",
        "まず、以下のセルを実行し、演習に必要なライブラリをインストールせよ。"
      ],
      "metadata": {
        "id": "pNxhDThTV9Yl"
      }
    },
    {
      "cell_type": "code",
      "source": [
        "%%capture\n",
        "# 最適化ライブラリ python-mipをインストール\n",
        "!pip install mip\n",
        "\n",
        "# Matplotlibで日本語を表示するためのライブラリをインストール\n",
        "!pip install japanize-matplotlib\n",
        "\n",
        "# 必要なライブラリのインポート\n",
        "import mip\n",
        "import pandas as pd\n",
        "import numpy as np"
      ],
      "outputs": [],
      "execution_count": 1,
      "metadata": {
        "id": "bC_INzCVV9Yo"
      }
    },
    {
      "cell_type": "markdown",
      "source": [
        "---\n",
        "#問題1\n",
        "\n",
        "3つの工場（F1, F2, F3）から3つの倉庫（W1, W2, W3）へ製品を輸送する計画を考える。各工場の供給量、各倉庫の需要量、および工場から倉庫への単位輸送コストが以下の表で与えられている。\n",
        "供給量を超えない範囲で需要を満たすような輸送計画で、\n",
        "総輸送コストを最小化するものを求め、\n",
        "その最小コストを解答せよ。\n",
        "\n",
        "| | 倉庫 W1 | 倉庫 W2 | 倉庫 W3 | **供給量** |\n",
        "| :--- | :---: | :---: | :---: | :---: |\n",
        "| **工場 F1** | 5 | 7 | 8 | 120 |\n",
        "| **工場 F2**| 2 | 6 | 6 | 150 |\n",
        "| **工場 F3**| 8 | 5 | 9 | 100 |\n",
        "| **需要量** | 90 | 110 | 130 | |\n"
      ],
      "metadata": {
        "id": "GXB-GmELfluc"
      }
    },
    {
      "cell_type": "code",
      "source": [
        "#問題1: 解答コード\n",
        "\n",
        "# --- データ定義 ---\n",
        "factories = ['F1', 'F2', 'F3']\n",
        "warehouses = ['W1', 'W2', 'W3']\n",
        "\n",
        "# 供給量\n",
        "supply = {'F1': 120, 'F2': 150, 'F3': 100}\n",
        "\n",
        "# 需要量\n",
        "demand = {'W1': 90, 'W2': 110, 'W3': 130}\n",
        "\n",
        "# 輸送コスト\n",
        "costs = {\n",
        "    'F1': {'W1': 5, 'W2': 7, 'W3': 8},\n",
        "    'F2': {'W1': 2, 'W2': 6, 'W3': 6},\n",
        "    'F3': {'W1': 8, 'W2': 5, 'W3': 9}\n",
        "}\n",
        "\n",
        "# --- モデル構築 ---\n",
        "model1 = mip.Model(name=\"Transportation_ex1\", sense=mip.MINIMIZE)\n",
        "\n",
        "# 変数の定義\n",
        "x = {(i, j): model1.add_var(name=f\"x_{i}_{j}\", var_type=mip.CONTINUOUS, lb=0)\n",
        "     for i in factories for j in warehouses}\n",
        "\n",
        "# 目的関数の設定\n",
        "model1.objective = mip.xsum(costs[i][j] * x[i, j] for i in factories for j in warehouses)\n",
        "\n",
        "# 制約条件の追加\n",
        "# 供給制約\n",
        "for i in factories:\n",
        "    model1 += mip.xsum(x[i, j] for j in warehouses) <= supply[i], f\"supply_{i}\"\n",
        "\n",
        "# 需要制約\n",
        "for j in warehouses:\n",
        "    model1 += mip.xsum(x[i, j] for i in factories) >= demand[j], f\"demand_{j}\"\n",
        "\n",
        "# --- 求解と結果表示 ---\n",
        "status1 = model1.optimize()\n",
        "\n",
        "if status1 == mip.OptimizationStatus.OPTIMAL:\n",
        "    print(f\"最小総輸送コスト (最適値): {model1.objective_value:.2f}\")\n",
        "\n",
        "    # 最適な輸送計画を表示\n",
        "    print(\"\\n--- 最適輸送計画 ---\")\n",
        "    transport_plan = pd.DataFrame(index=factories, columns=warehouses)\n",
        "    for i in factories:\n",
        "        for j in warehouses:\n",
        "            transport_plan.loc[i, j] = x[i, j].x #if x[i, j].x > 1e-6 else 0\n",
        "    print(transport_plan)\n",
        "elif status1 == mip.OptimizationStatus.INFEASIBLE:\n",
        "    print(\"\\n実行不可能: 制約を満たす解が存在しません。\")\n",
        "elif status1 == mip.OptimizationStatus.UNBOUNDED:\n",
        "    print(\"\\n非有界: 目的関数を無限に小さく（または大きく）できます。\")\n",
        "else:\n",
        "    print(f\"\\n求解失敗 (ステータス: {status1})\")"
      ],
      "outputs": [
        {
          "output_type": "stream",
          "name": "stdout",
          "text": [
            "最小総輸送コスト (最適値): 1670.00\n",
            "\n",
            "--- 最適輸送計画 ---\n",
            "      W1     W2    W3\n",
            "F1   0.0   10.0  70.0\n",
            "F2  90.0    0.0  60.0\n",
            "F3   0.0  100.0   0.0\n"
          ]
        }
      ],
      "execution_count": 2,
      "metadata": {
        "colab": {
          "base_uri": "https://localhost:8080/"
        },
        "outputId": "4ddae50b-1762-4b7f-bd80-7f29be1805c2",
        "id": "r0sclFtV-g-0"
      }
    },
    {
      "cell_type": "markdown",
      "source": [
        "---\n",
        "#問題1-1\n",
        "\n",
        "問題1に、工場F3から倉庫W2への輸送量の上限 90 が加わった場合の\n",
        "最小コストを解答せよ。\n"
      ],
      "metadata": {
        "id": "-HX0U2cJYuWK"
      }
    },
    {
      "cell_type": "markdown",
      "source": [
        "##問題1-1の解説\n",
        "\n",
        "**定式化**\n",
        "\n",
        "* **インデックス**\n",
        "  * $i$: 供給地（工場）の集合とインデックス $i \\in F = \\{F1, F2, F3\\}$\n",
        "  * $j$: 需要地（倉庫）の集合とインデックス $j \\in W = \\{W1, W2, W3\\}$\n",
        "\n",
        "* **パラメータ**\n",
        "    * $s_i$: 工場 $i$ の供給量\n",
        "    * $d_j$: 倉庫 $j$ の需要量\n",
        "    * $c_{ij}$: 工場 $i$ から倉庫 $j$ への単位輸送コスト\n",
        "\n",
        "* **決定変数**\n",
        "    * $x_{ij}$: 工場 $i$ から倉庫 $j$ への輸送量（非負連続変数）\n",
        "\n",
        "* **目的関数**\n",
        "    総輸送コストを最小化するため、目的関数は以下のように定義される。\n",
        "    $$\\min Z = \\sum_{i} \\sum_{j} c_{ij} x_{ij}$$\n",
        "\n",
        "* **制約条件**\n",
        "    1.  **供給制約**: 各工場からの輸送量の合計は、その工場の供給量を超えてはならない。\n",
        "$$\\sum_{j} x_{ij} \\le s_i \\quad (\\forall i)$$\n",
        "    2.  **需要制約**: 各倉庫への輸送量の合計は、その倉庫の需要量を満たさなければならない。\n",
        "$$\\sum_{i} x_{ij} \\ge d_j \\quad (\\forall j)$$\n",
        "    3. **輸送量の上限制約**: 工場F3から倉庫W2への輸送量には上限があり 90 とする。\n",
        "$$\n",
        "x_{F3,W2} \\le 90\n",
        "$$\n",
        "    3.  **非負制約**: 輸送量は0以上でなければならない。\n",
        "$$x_{ij} \\ge 0 \\quad (\\forall i, j)$$\n"
      ],
      "metadata": {
        "id": "zEGcF1FfV9Yp"
      }
    },
    {
      "cell_type": "code",
      "source": [
        "#問題1: 解答コード\n",
        "\n",
        "# --- データ定義 ---\n",
        "factories = ['F1', 'F2', 'F3']\n",
        "warehouses = ['W1', 'W2', 'W3']\n",
        "\n",
        "# 供給量\n",
        "supply = {'F1': 120, 'F2': 150, 'F3': 100}\n",
        "\n",
        "# 需要量\n",
        "demand = {'W1': 90, 'W2': 110, 'W3': 130}\n",
        "\n",
        "# 輸送コスト\n",
        "costs = {\n",
        "    'F1': {'W1': 5, 'W2': 7, 'W3': 8},\n",
        "    'F2': {'W1': 2, 'W2': 6, 'W3': 6},\n",
        "    'F3': {'W1': 8, 'W2': 5, 'W3': 9}\n",
        "}\n",
        "\n",
        "# --- モデル構築 ---\n",
        "model1 = mip.Model(name=\"Transportation_ex1\", sense=mip.MINIMIZE)\n",
        "\n",
        "# 変数の定義\n",
        "x = {(i, j): model1.add_var(name=f\"x_{i}_{j}\", var_type=mip.CONTINUOUS, lb=0)\n",
        "     for i in factories for j in warehouses}\n",
        "\n",
        "# 目的関数の設定\n",
        "model1.objective = mip.xsum(costs[i][j] * x[i, j] for i in factories for j in warehouses)\n",
        "\n",
        "# 制約条件の追加\n",
        "# 供給制約\n",
        "for i in factories:\n",
        "    model1 += mip.xsum(x[i, j] for j in warehouses) <= supply[i], f\"supply_{i}\"\n",
        "\n",
        "# 需要制約\n",
        "for j in warehouses:\n",
        "    model1 += mip.xsum(x[i, j] for i in factories) >= demand[j], f\"demand_{j}\"\n",
        "\n",
        "# 輸送量の上限制約\n",
        "model1 += x['F3', 'W2'] <= 90, \"additional_constraint\"\n",
        "\n",
        "# --- 求解と結果表示 ---\n",
        "status1 = model1.optimize()\n",
        "\n",
        "if status1 == mip.OptimizationStatus.OPTIMAL:\n",
        "    print(f\"最小総輸送コスト (最適値): {model1.objective_value:.2f}\")\n",
        "\n",
        "    # 最適な輸送計画を表示\n",
        "    print(\"\\n--- 最適輸送計画 ---\")\n",
        "    transport_plan = pd.DataFrame(index=factories, columns=warehouses)\n",
        "    for i in factories:\n",
        "        for j in warehouses:\n",
        "            transport_plan.loc[i, j] = x[i, j].x #if x[i, j].x > 1e-6 else 0\n",
        "    print(transport_plan)\n",
        "elif status1 == mip.OptimizationStatus.INFEASIBLE:\n",
        "    print(\"\\n実行不可能: 制約を満たす解が存在しません。\")\n",
        "elif status1 == mip.OptimizationStatus.UNBOUNDED:\n",
        "    print(\"\\n非有界: 目的関数を無限に小さく（または大きく）できます。\")\n",
        "else:\n",
        "    print(f\"\\n求解失敗 (ステータス: {status1})\")"
      ],
      "outputs": [
        {
          "output_type": "stream",
          "name": "stdout",
          "text": [
            "最小総輸送コスト (最適値): 1690.00\n",
            "\n",
            "--- 最適輸送計画 ---\n",
            "      W1    W2    W3\n",
            "F1   0.0  20.0  70.0\n",
            "F2  90.0   0.0  60.0\n",
            "F3   0.0  90.0   0.0\n"
          ]
        }
      ],
      "execution_count": 3,
      "metadata": {
        "id": "a3wJ5GbhV9Yp",
        "colab": {
          "base_uri": "https://localhost:8080/"
        },
        "outputId": "39564a68-07eb-4aa6-a556-e04482e7fe36"
      }
    },
    {
      "cell_type": "markdown",
      "source": [
        "---\n",
        "#問題2\n",
        "\n",
        "あなたは重さの容量が20のナップザックを持っている。価値と重さが異なる6つのアイテムがある。ナップザックの容量を超えないようにアイテムを選び、総価値が最大になるようにしたい。最大総価値を求めよ。\n",
        "\n",
        "| アイテム | 0 | 1 | 2 | 3 | 4 | 5 |\n",
        "| :--- | :-: | :-: | :-: | :-: | :-: | :-: |\n",
        "| **価値** | 50 | 65 | 140 | 100 | 70 | 80 |\n",
        "| **重さ** | 4 | 5 | 12 | 9 | 6 | 7 |\n",
        "\n"
      ],
      "metadata": {
        "id": "AvZU8xThqElu"
      }
    },
    {
      "cell_type": "code",
      "source": [
        "#問題2: 解答コード\n",
        "\n",
        "values = [50, 65, 140, 100, 70, 80]\n",
        "weights = [4, 5, 12, 9, 6, 7]\n",
        "capacity = 20\n",
        "num_items = len(values)\n",
        "item_indices = range(num_items)\n",
        "\n",
        "# --- モデル構築 ---\n",
        "model2 = mip.Model(name=\"Knapsack_ex2\", sense=mip.MAXIMIZE)\n",
        "\n",
        "x_k2 = [model2.add_var(var_type=mip.BINARY, name=f\"x_{i}\") for i in item_indices]\n",
        "\n",
        "# 目的関数\n",
        "model2.objective = mip.xsum(values[i] * x_k2[i] for i in item_indices)\n",
        "\n",
        "# 制約条件\n",
        "# 容量制約\n",
        "model2 += mip.xsum(weights[i] * x_k2[i] for i in item_indices) <= capacity, \"capacity\"\n",
        "\n",
        "# --- 求解と結果表示 ---\n",
        "status2 = model2.optimize()\n",
        "\n",
        "if status2 == mip.OptimizationStatus.OPTIMAL:\n",
        "    print(f\"解答:\")\n",
        "    print(f\"最大総価値: {model2.objective_value:.2f}\")\n",
        "\n",
        "    for item in range(num_items):\n",
        "        if x_k2[item].x > 0.99:\n",
        "            print(f\"アイテム {item} をナップザックに入れる\")\n",
        "else:\n",
        "    print(f\"最適解が見つかりませんでした。ステータス: {status2}\")"
      ],
      "outputs": [
        {
          "output_type": "stream",
          "name": "stdout",
          "text": [
            "解答:\n",
            "最大総価値: 235.00\n",
            "アイテム 1 をナップザックに入れる\n",
            "アイテム 3 をナップザックに入れる\n",
            "アイテム 4 をナップザックに入れる\n"
          ]
        }
      ],
      "execution_count": 4,
      "metadata": {
        "colab": {
          "base_uri": "https://localhost:8080/"
        },
        "outputId": "c0e5833c-cf5e-4700-a140-7eb14e7012cc",
        "id": "sPki5GQY_Dem"
      }
    },
    {
      "cell_type": "markdown",
      "source": [
        "---\n",
        "#問題2-1\n",
        "\n",
        "問題2に、以下の2つの追加制約がある場合の最大総価値を求めよ。\n",
        "\n",
        "* アイテム1（価値65, 重さ5）を選択する場合、アイテム5（価値80, 重さ7）も必ず選択しなければならない。\n",
        "* アイテム2（価値140, 重さ12）とアイテム3（価値100, 重さ9）は、同時に選択することはできない。\n"
      ],
      "metadata": {
        "id": "Fqahk0pPZmur"
      }
    },
    {
      "cell_type": "markdown",
      "source": [
        "##問題2の解説\n",
        "\n",
        "**定式化**\n",
        "* **インデックス**\n",
        "  * $i$: アイテムのインデックス, $i \\in \\{0, ..., 5\\}$\n",
        "* **パラメータ**\n",
        "  * $v_i$: アイテム $i$ の価値\n",
        "  * $w_i$: アイテム $i$ の重さ\n",
        "  * $C$: ナップザックの容量\n",
        "* **決定変数**\n",
        "  * $x_i$: アイテム $i$ をナップザックに入れる場合に1、入れない場合に0をとるバイナリ変数\n",
        "* **目的関数**\n",
        "    $$\\max Z = \\sum_{i} v_i x_i$$\n",
        "* **制約条件**\n",
        "    $$\\sum_{i} w_i x_i \\le C$$\n",
        "\n",
        "* **追加制約1**: アイテム1を選択する($x_1=1$)なら、アイテム5を選択する($x_5=1$)。これは $x_1 \\le x_5$ という線形不等式で表現できる。\n",
        "* **追加制約2**: アイテム2とアイテム3は同時に選択できない。これは $x_2 + x_3 \\le 1$ という線形不等式で表現できる。\n"
      ],
      "metadata": {
        "id": "iPvJKYc7V9Yq"
      }
    },
    {
      "cell_type": "code",
      "source": [
        "#問題2: 解答コード\n",
        "\n",
        "values = [50, 65, 140, 100, 70, 80]\n",
        "weights = [4, 5, 12, 9, 6, 7]\n",
        "capacity = 20\n",
        "num_items = len(values)\n",
        "item_indices = range(num_items)\n",
        "\n",
        "# --- モデル構築 ---\n",
        "model2 = mip.Model(name=\"Knapsack_ex2\", sense=mip.MAXIMIZE)\n",
        "\n",
        "x_k2 = [model2.add_var(var_type=mip.BINARY, name=f\"x_{i}\") for i in item_indices]\n",
        "\n",
        "# 目的関数\n",
        "model2.objective = mip.xsum(values[i] * x_k2[i] for i in item_indices)\n",
        "\n",
        "# 制約条件\n",
        "# 容量制約\n",
        "model2 += mip.xsum(weights[i] * x_k2[i] for i in item_indices) <= capacity, \"capacity\"\n",
        "\n",
        "# ★追加制約1: アイテム1(idx=1) -> アイテム5(idx=5)\n",
        "model2 += x_k2[1] <= x_k2[5], \"dependency_1\"\n",
        "\n",
        "# ★追加制約2: アイテム3(idx=2)とアイテム4(idx=3)は同時に選択不可\n",
        "model2 += x_k2[2] + x_k2[3] <= 1, \"dependency_2\"\n",
        "\n",
        "# --- 求解と結果表示 ---\n",
        "status2 = model2.optimize()\n",
        "\n",
        "if status2 == mip.OptimizationStatus.OPTIMAL:\n",
        "    print(f\"解答:\")\n",
        "    print(f\"最大総価値: {model2.objective_value:.2f}\")\n",
        "\n",
        "    for item in range(num_items):\n",
        "        if x_k2[item].x > 0.99:\n",
        "            print(f\"アイテム {item} をナップザックに入れる\")\n",
        "else:\n",
        "    print(f\"最適解が見つかりませんでした。ステータス: {status2}\")"
      ],
      "outputs": [
        {
          "output_type": "stream",
          "name": "stdout",
          "text": [
            "解答:\n",
            "最大総価値: 230.00\n",
            "アイテム 0 をナップザックに入れる\n",
            "アイテム 3 をナップザックに入れる\n",
            "アイテム 5 をナップザックに入れる\n"
          ]
        }
      ],
      "execution_count": 5,
      "metadata": {
        "id": "Bpcx6zSxV9Ys",
        "colab": {
          "base_uri": "https://localhost:8080/"
        },
        "outputId": "5fbfd3da-1113-4048-9474-25f47add0b34"
      }
    },
    {
      "cell_type": "markdown",
      "source": [
        "---\n",
        "#問題3\n",
        "\n",
        "あるエージェントが、スタート地点'S'からゴール地点'G'まで移動する。各移動経路（枝）には、移動コスト（時間）と、通行料がかかる。\n",
        "**総移動コスト（時間）のみ**\n",
        "を考えコストを最小にする経路を求め、その最小コストを解答せよ。\n",
        "\n",
        "* **ノード**: {S, A, B, C, D, G}\n",
        "* **枝 (始点, 終点, 移動コスト, 通行料)**:\n",
        "    * (S, A, 4, 5), (S, B, 8, 3)\n",
        "    * (A, B, 2, 6), (A, C, 6, 8)\n",
        "    * (B, C, 3, 5), (B, D, 10, 4)\n",
        "    * (C, G, 5, 7)\n",
        "    * (D, C, 2, 4), (D, G, 3, 9)\n",
        "* **通行料上限**: 20"
      ],
      "metadata": {
        "id": "QNYFPRPDZ_ql"
      }
    },
    {
      "cell_type": "code",
      "source": [
        "#問題3\n",
        "\n",
        "# --- データ定義 ---\n",
        "sp_knap_edges = [\n",
        "    ('S', 'A', 4, 5), ('S', 'B', 8, 3),\n",
        "    ('A', 'B', 2, 6), ('A', 'C', 6, 8),\n",
        "    ('B', 'C', 3, 5), ('B', 'D', 10, 4),\n",
        "    ('C', 'G', 5, 7),\n",
        "    ('D', 'C', 2, 4), ('D', 'G', 3, 9)\n",
        "]\n",
        "sp_knap_nodes = set(u for u, v, cost, fee in sp_knap_edges) | \\\n",
        "                set(v for u, v, cost, fee in sp_knap_edges)\n",
        "start_node_spk = 'S'\n",
        "end_node_spk = 'G'\n",
        "fee_capacity = 20\n",
        "\n",
        "# --- モデル構築 ---\n",
        "model3 = mip.Model(name=\"SP\", sense=mip.MINIMIZE)\n",
        "\n",
        "# 変数\n",
        "x_spk = {(u, v): model3.add_var(var_type=mip.BINARY, name=f\"x_{u}_{v}\")\n",
        "         for u, v, cost, fee in sp_knap_edges}\n",
        "\n",
        "# 目的関数 (移動コスト最小化)\n",
        "model3.objective = mip.xsum(cost * x_spk[u, v] for u, v, cost, fee in sp_knap_edges)\n",
        "\n",
        "# 制約条件\n",
        "# フロー保存則\n",
        "for node in sp_knap_nodes:\n",
        "    flow_out = mip.xsum(x_spk[u, v] for u, v, cost, fee in sp_knap_edges if u == node)\n",
        "    flow_in = mip.xsum(x_spk[u, v] for u, v, cost, fee in sp_knap_edges if v == node)\n",
        "    if node == start_node_spk:\n",
        "        model3 += flow_out - flow_in == 1, f\"flow_{node}\"\n",
        "    elif node == end_node_spk:\n",
        "        model3 += flow_out - flow_in == -1, f\"flow_{node}\"\n",
        "    else:\n",
        "        model3 += flow_out - flow_in == 0, f\"flow_{node}\"\n",
        "\n",
        "# --- 求解と結果表示 ---\n",
        "status3 = model3.optimize()\n",
        "\n",
        "if status3 == mip.OptimizationStatus.OPTIMAL:\n",
        "    print(f\"最小移動コスト: {model3.objective_value:.2f}\")\n",
        "    total_fee = sum(fee * x_spk[u, v].x for u, v, cost, fee in sp_knap_edges)\n",
        "    print(f\"経路の合計特別料金: {total_fee}\")\n",
        "else:\n",
        "    print(f\"最適解が見つかりませんでした。ステータス: {status3}\")"
      ],
      "outputs": [
        {
          "output_type": "stream",
          "name": "stdout",
          "text": [
            "最小移動コスト: 14.00\n",
            "経路の合計特別料金: 23.0\n"
          ]
        }
      ],
      "execution_count": 7,
      "metadata": {
        "colab": {
          "base_uri": "https://localhost:8080/"
        },
        "outputId": "6d650cee-bd45-4983-bfe5-d564d3e708c2",
        "id": "gPt6oSLI_dUA"
      }
    },
    {
      "cell_type": "markdown",
      "source": [
        "---\n",
        "#問題3-1\n",
        "\n",
        "問題3で、\n",
        "移動コスト（時間）に加え通行料を考える。\n",
        "**総通行料を20以内に抑えつつ、総移動コスト（時間）を最小にする**経路を求め、その最小コストを解答せよ。"
      ],
      "metadata": {
        "id": "CD0sv_AzaBgP"
      }
    },
    {
      "cell_type": "markdown",
      "source": [
        "##問題3の解説\n",
        "\n",
        "**定式化**\n",
        "最短路問題の定式化を基本とし、追加の制約を設ける。\n",
        "* **パラメータ**:\n",
        "  * $c_{ij}$: 枝 $(i, j)$ の移動コスト\n",
        "  * $f_{ij}$: 枝 $(i, j)$ の通行料\n",
        "  * $F_{max}$: 通行料の上限\n",
        "* **決定変数**:\n",
        "  * $x_{ij}$: 枝 $(i, j)$ を経路上で使用する場合に1、しない場合に0のバイナリ変数\n",
        "* **目的関数 (移動コスト最小化)**:\n",
        "    $$\\min Z = \\sum_{(i,j) \\in E} c_{ij} x_{ij}$$\n",
        "* **制約条件**:\n",
        "    1.  **始点**: 始点からは1つの経路が出ていく。\n",
        "        $$\\sum_{j:(s,j)\\in E} x_{sj} = 1$$\n",
        "    2.  **終点**: 終点には1つの経路が入ってくる。\n",
        "        $$ \\sum_{j:(j,t)\\in E} x_{jt} = 1$$\n",
        "    3.  **中間ノード**:\n",
        "ノード$k$から出る経路の枝数と入る枝数は等しい。\n",
        "$$\\sum_{j:(k,j)\\in E} x_{kj} - \\sum_{j:(j,k)\\in E} x_{jk} = 0 \\quad (\\forall k \\in V \\setminus \\{s, t\\})$$\n",
        "    4.  **予算制約**: 選択した経路の総通行料は上限を超えない。\n",
        "        $$\\sum_{(i,j) \\in E} f_{ij} x_{ij} \\le F_{max}$$\n"
      ],
      "metadata": {
        "id": "f6OLuUvr8J9G"
      }
    },
    {
      "cell_type": "code",
      "source": [
        "#@title 図示\n",
        "# グラフ描画に必要なライブラリをインポート\n",
        "import networkx as nx\n",
        "import matplotlib.pyplot as plt\n",
        "import japanize_matplotlib # ← 日本語表示のためにインポート\n",
        "\n",
        "# 1. データ定義\n",
        "# 枝のリスト (始点, 終点, 移動コスト, 通行料)\n",
        "sp_knap_edges = [\n",
        "    ('S', 'A', 4, 5), ('S', 'B', 8, 3),\n",
        "    ('A', 'B', 2, 6), ('A', 'C', 6, 8),\n",
        "    ('B', 'C', 3, 5), ('B', 'D', 10, 4),\n",
        "    ('C', 'G', 5, 7),\n",
        "    ('D', 'C', 2, 4), ('D', 'G', 3, 9)\n",
        "]\n",
        "\n",
        "# 事前計算による最適経路 (コスト15, 通行料20)\n",
        "# この経路は総通行料を20以内に抑えつつ、総移動コストを最小にする経路です。\n",
        "optimal_path_edges = [] #[('S', 'A'), ('A', 'C'), ('C', 'G')]\n",
        "\n",
        "# 2. グラフの構築\n",
        "# 有向グラフ (Directed Graph) を作成\n",
        "G = nx.DiGraph()\n",
        "\n",
        "# グラフに枝と属性（コストと通行料）を追加\n",
        "for u, v, cost, fee in sp_knap_edges:\n",
        "    G.add_edge(u, v, cost=cost, fee=fee)\n",
        "\n",
        "# 3. 描画の準備\n",
        "# ノードの位置を固定して見やすくする\n",
        "pos = {\n",
        "    'S': [0, 2], 'A': [2, 3], 'B': [2, 1],\n",
        "    'D': [4, 1], 'C': [4, 3], 'G': [6, 2]\n",
        "}\n",
        "\n",
        "# 枝のラベルを作成 (例: \"cost: 4, fee: 5\")\n",
        "edge_labels = {}\n",
        "for u, v, data in G.edges(data=True):\n",
        "    edge_labels[(u, v)] = f\"c:{data['cost']}, f:{data['fee']}\"\n",
        "\n",
        "# 枝の色と太さを設定 (最適経路をハイライト)\n",
        "edge_colors = []\n",
        "edge_widths = []\n",
        "for u, v in G.edges():\n",
        "    if (u, v) in optimal_path_edges:\n",
        "        edge_colors.append('red')\n",
        "        edge_widths.append(2.5)\n",
        "    else:\n",
        "        edge_colors.append('black')\n",
        "        edge_widths.append(1.0)\n",
        "\n",
        "# 4. グラフの描画\n",
        "plt.figure(figsize=(10, 6)) # 図のサイズを設定\n",
        "\n",
        "# ノードを描画\n",
        "nx.draw_networkx_nodes(G, pos, node_size=700, node_color='lightgreen')\n",
        "\n",
        "# 枝を描画\n",
        "nx.draw_networkx_edges(G, pos,\n",
        "                       edge_color=edge_colors,\n",
        "                       width=edge_widths,\n",
        "                       arrows=True,\n",
        "                       arrowstyle='->',\n",
        "                       arrowsize=20,\n",
        "                       connectionstyle='arc3,rad=0.1')\n",
        "\n",
        "# ノード名をラベルとして描画\n",
        "nx.draw_networkx_labels(G, pos, font_size=12, font_family='sans-serif')\n",
        "\n",
        "# 枝の属性(コストと通行料)をラベルとして描画\n",
        "nx.draw_networkx_edge_labels(G, pos, font_size=12, edge_labels=edge_labels, font_color='navy')\n",
        "\n",
        "# グラフのタイトルと表示設定\n",
        "plt.title('最短路問題の図', size=14)\n",
        "plt.axis('off') # 軸を非表示\n",
        "plt.show()"
      ],
      "metadata": {
        "colab": {
          "base_uri": "https://localhost:8080/",
          "height": 521
        },
        "outputId": "09ff5772-4ab5-40d3-c510-5623949c6e6f",
        "cellView": "form",
        "id": "jVSEJ9S88J9H"
      },
      "execution_count": null,
      "outputs": [
        {
          "output_type": "display_data",
          "data": {
            "text/plain": [
              "<Figure size 1000x600 with 1 Axes>"
            ],
            "image/png": "[encoded data removed]"
          },
          "metadata": {}
        }
      ]
    },
    {
      "cell_type": "code",
      "source": [
        "#問題3\n",
        "\n",
        "# --- データ定義 ---\n",
        "sp_knap_edges = [\n",
        "    ('S', 'A', 4, 5), ('S', 'B', 8, 3),\n",
        "    ('A', 'B', 2, 6), ('A', 'C', 6, 8),\n",
        "    ('B', 'C', 3, 5), ('B', 'D', 10, 4),\n",
        "    ('C', 'G', 5, 7),\n",
        "    ('D', 'C', 2, 4), ('D', 'G', 3, 9)\n",
        "]\n",
        "sp_knap_nodes = set(u for u, v, cost, fee in sp_knap_edges) | \\\n",
        "                set(v for u, v, cost, fee in sp_knap_edges)\n",
        "start_node_spk = 'S'\n",
        "end_node_spk = 'G'\n",
        "fee_capacity = 20\n",
        "\n",
        "# --- モデル構築 ---\n",
        "model3 = mip.Model(name=\"SP\", sense=mip.MINIMIZE)\n",
        "\n",
        "# 変数\n",
        "x_spk = {(u, v): model3.add_var(var_type=mip.BINARY, name=f\"x_{u}_{v}\")\n",
        "         for u, v, cost, fee in sp_knap_edges}\n",
        "\n",
        "# 目的関数 (移動コスト最小化)\n",
        "model3.objective = mip.xsum(cost * x_spk[u, v] for u, v, cost, fee in sp_knap_edges)\n",
        "\n",
        "# 制約条件\n",
        "# フロー保存則\n",
        "for node in sp_knap_nodes:\n",
        "    flow_out = mip.xsum(x_spk[u, v] for u, v, cost, fee in sp_knap_edges if u == node)\n",
        "    flow_in = mip.xsum(x_spk[u, v] for u, v, cost, fee in sp_knap_edges if v == node)\n",
        "    if node == start_node_spk:\n",
        "        model3 += flow_out - flow_in == 1, f\"flow_{node}\"\n",
        "    elif node == end_node_spk:\n",
        "        model3 += flow_out - flow_in == -1, f\"flow_{node}\"\n",
        "    else:\n",
        "        model3 += flow_out - flow_in == 0, f\"flow_{node}\"\n",
        "\n",
        "# 通行料予算制約\n",
        "model3 += mip.xsum(fee * x_spk[u, v] for u, v, cost, fee in sp_knap_edges) <= fee_capacity, \"fee_budget\"\n",
        "\n",
        "# --- 求解と結果表示 ---\n",
        "status3 = model3.optimize()\n",
        "\n",
        "if status3 == mip.OptimizationStatus.OPTIMAL:\n",
        "    print(f\"演習問題9の解答:\")\n",
        "    print(f\"最小移動コスト: {model3.objective_value:.2f}\")\n",
        "    total_fee = sum(fee * x_spk[u, v].x for u, v, cost, fee in sp_knap_edges)\n",
        "    print(f\"経路の合計特別料金: {total_fee}\")\n",
        "\n",
        "else:\n",
        "    print(f\"最適解が見つかりませんでした。ステータス: {status3}\")"
      ],
      "outputs": [
        {
          "output_type": "stream",
          "name": "stdout",
          "text": [
            "演習問題9の解答:\n",
            "最小移動コスト: 15.00\n",
            "経路の合計特別料金: 20.0\n"
          ]
        }
      ],
      "execution_count": 8,
      "metadata": {
        "colab": {
          "base_uri": "https://localhost:8080/"
        },
        "id": "4SVQ0NY18J9H",
        "outputId": "56894979-c641-4bd0-fe14-20f7ba5a3f25"
      }
    },
    {
      "cell_type": "markdown",
      "source": [
        "---\n",
        "#問題4\n",
        "\n",
        "以下の表に示したような栄養基準を満たしつつ食費を最小化する問題を考える。\n",
        "このとき、最小コストを求めよ。\n",
        "\n",
        "**食品データ**\n",
        "\n",
        "| 食品名 | 単位 | コスト(円) | カロリー(kcal) | タンパク質(g) | ビタミンC(mg) |\n",
        "|:--- |:--- |:---: |:---: |:---: |:---:|\n",
        "| 牛乳 | 100ml | 20 | 60 | 3 | 1 |\n",
        "| 卵 | 1個 | 30 | 80 | 6 | 0 |\n",
        "| パン | 1枚 | 40 | 120 | 4 | 0 |\n",
        "| チーズ | 20g | 50 | 80 | 5 | 0 |\n",
        "| 鶏むね肉 | 100g | 100 | 110 | 23 | 0 |\n",
        "| ブロッコリー | 50g | 40 | 15 | 2 | 60 |\n",
        "\n",
        "**1日の最小栄養基準**\n",
        "\n",
        "| 栄養素 | 最小摂取量 |\n",
        "| :--- | :---: |\n",
        "| カロリー | 600 kcal |\n",
        "| タンパク質 | 50 g |\n",
        "| ビタミンC | 70 mg |\n",
        "\n"
      ],
      "metadata": {
        "id": "CfRn5WSurWC5"
      }
    },
    {
      "cell_type": "code",
      "source": [
        "# 問題4\n",
        "\n",
        "# --- データ定義 ---\n",
        "food_data = {\n",
        "    '牛乳':       {'cost': 20, 'calories': 60, 'protein': 3, 'vit_c': 1},\n",
        "    '卵':         {'cost': 30, 'calories': 80, 'protein': 6, 'vit_c': 0},\n",
        "    'パン':       {'cost': 40, 'calories': 120, 'protein': 4, 'vit_c': 0},\n",
        "    'チーズ':     {'cost': 50, 'calories': 80, 'protein': 5, 'vit_c': 0},\n",
        "    '鶏むね肉':   {'cost': 100,'calories': 110, 'protein': 23,'vit_c': 0},\n",
        "    'ブロッコリー': {'cost': 40, 'calories': 15, 'protein': 2, 'vit_c': 60},\n",
        "}\n",
        "foods = list(food_data.keys())\n",
        "costs = {f: food_data[f]['cost'] for f in foods}\n",
        "\n",
        "min_reqs = {'calories': 600, 'protein': 50, 'vit_c': 70}\n",
        "nutrients = list(min_reqs.keys())\n",
        "\n",
        "nutrient_values = {f: {n: food_data[f][n] for n in nutrients} for f in foods}\n",
        "\n",
        "# --- モデル構築 ---\n",
        "model4 = mip.Model(name=\"Diet\", sense=mip.MINIMIZE)\n",
        "\n",
        "# 変数の定義\n",
        "x_diet = {f: model4.add_var(name=f\"x_{f}\", lb=0) for f in foods}\n",
        "y_diet = {f: model4.add_var(name=f\"y_{f}\", var_type=mip.BINARY) for f in foods}\n",
        "\n",
        "\n",
        "# 目的関数の設定\n",
        "model4.objective = mip.xsum(costs[f] * x_diet[f] for f in foods)\n",
        "\n",
        "# 制約条件の追加\n",
        "for n in nutrients:\n",
        "    model4 += mip.xsum(nutrient_values[f][n] * x_diet[f] for f in foods) >= min_reqs[n], f\"nutrient_{n}\"\n",
        "\n",
        "# --- 求解と結果表示 ---\n",
        "status4 = model4.optimize()\n",
        "\n",
        "if status4 == mip.OptimizationStatus.OPTIMAL:\n",
        "    print(f\"最小コスト: {model4.objective_value:.2f} 円\")\n",
        "    print(\"\\n--- 各食品の最適摂取量 ---\")\n",
        "    results4 = []\n",
        "    for f in foods:\n",
        "        if x_diet[f].x > 1e-6: # ごく小さい値は無視する\n",
        "            print(f\"{f}: {x_diet[f].x:.2f}\" )\n",
        "            results4.append({'食品名': f, '摂取量': x_diet[f].x})\n",
        "    results_df = pd.DataFrame(results4).set_index('食品名')\n",
        "\n",
        "    for f in foods:\n",
        "        if y_diet[f].x > 1e-6: # ごく小さい値は無視する\n",
        "            print(f\"{f}: {y_diet[f].x:.2f}\" )\n"
      ],
      "outputs": [
        {
          "output_type": "stream",
          "name": "stdout",
          "text": [
            "最小コスト: 280.95 円\n",
            "\n",
            "--- 各食品の最適摂取量 ---\n",
            "卵: 6.91\n",
            "鶏むね肉: 0.27\n",
            "ブロッコリー: 1.17\n"
          ]
        }
      ],
      "execution_count": 9,
      "metadata": {
        "colab": {
          "base_uri": "https://localhost:8080/"
        },
        "outputId": "f92bd0ad-0806-4f26-bcab-ae6a352d199a",
        "id": "WglbBiC0B3ab"
      }
    },
    {
      "cell_type": "markdown",
      "source": [
        "---\n",
        "#問題4-1\n",
        "\n",
        "問題4で、以下の制約を追加する。\n",
        "* 牛乳は2単位（200ml）まで\n",
        "* 卵は2単位（2個）まで\n",
        "\n",
        "このとき、最小コストを求めよ。\n",
        "\n"
      ],
      "metadata": {
        "id": "v02NIQG6a5Or"
      }
    },
    {
      "cell_type": "code",
      "source": [
        "# 問題4\n",
        "\n",
        "# --- データ定義 ---\n",
        "food_data = {\n",
        "    '牛乳':       {'cost': 20, 'calories': 60, 'protein': 3, 'vit_c': 1},\n",
        "    '卵':         {'cost': 30, 'calories': 80, 'protein': 6, 'vit_c': 0},\n",
        "    'パン':       {'cost': 40, 'calories': 120, 'protein': 4, 'vit_c': 0},\n",
        "    'チーズ':     {'cost': 50, 'calories': 80, 'protein': 5, 'vit_c': 0},\n",
        "    '鶏むね肉':   {'cost': 100,'calories': 110, 'protein': 23,'vit_c': 0},\n",
        "    'ブロッコリー': {'cost': 40, 'calories': 15, 'protein': 2, 'vit_c': 60},\n",
        "}\n",
        "foods = list(food_data.keys())\n",
        "costs = {f: food_data[f]['cost'] for f in foods}\n",
        "\n",
        "min_reqs = {'calories': 600, 'protein': 50, 'vit_c': 70}\n",
        "nutrients = list(min_reqs.keys())\n",
        "\n",
        "nutrient_values = {f: {n: food_data[f][n] for n in nutrients} for f in foods}\n",
        "\n",
        "# --- モデル構築 ---\n",
        "model4 = mip.Model(name=\"Diet\", sense=mip.MINIMIZE)\n",
        "\n",
        "# 変数の定義\n",
        "x_diet = {f: model4.add_var(name=f\"x_{f}\", lb=0) for f in foods}\n",
        "y_diet = {f: model4.add_var(name=f\"y_{f}\", var_type=mip.BINARY) for f in foods}\n",
        "\n",
        "\n",
        "# 目的関数の設定\n",
        "model4.objective = mip.xsum(costs[f] * x_diet[f] for f in foods)\n",
        "\n",
        "# 制約条件の追加\n",
        "for n in nutrients:\n",
        "    model4 += mip.xsum(nutrient_values[f][n] * x_diet[f] for f in foods) >= min_reqs[n], f\"nutrient_{n}\"\n",
        "\n",
        "model4 += x_diet['牛乳'] <= 2\n",
        "model4 += x_diet['卵'] <= 2\n",
        "\n",
        "# --- 求解と結果表示 ---\n",
        "status4 = model4.optimize()\n",
        "\n",
        "if status4 == mip.OptimizationStatus.OPTIMAL:\n",
        "    print(f\"最小コスト: {model4.objective_value:.2f} 円\")\n",
        "    print(\"\\n--- 各食品の最適摂取量 ---\")\n",
        "    results4 = []\n",
        "    for f in foods:\n",
        "        if x_diet[f].x > 1e-6: # ごく小さい値は無視する\n",
        "            print(f\"{f}: {x_diet[f].x:.2f}\" )\n",
        "            results4.append({'食品名': f, '摂取量': x_diet[f].x})\n",
        "    results_df = pd.DataFrame(results4).set_index('食品名')\n",
        "\n",
        "    for f in foods:\n",
        "        if y_diet[f].x > 1e-6: # ごく小さい値は無視する\n",
        "            print(f\"{f}: {y_diet[f].x:.2f}\" )\n"
      ],
      "outputs": [
        {
          "output_type": "stream",
          "name": "stdout",
          "text": [
            "最小コスト: 310.65 円\n",
            "\n",
            "--- 各食品の最適摂取量 ---\n",
            "牛乳: 2.00\n",
            "卵: 2.00\n",
            "パン: 1.59\n",
            "鶏むね肉: 1.02\n",
            "ブロッコリー: 1.13\n"
          ]
        }
      ],
      "execution_count": 10,
      "metadata": {
        "colab": {
          "base_uri": "https://localhost:8080/"
        },
        "outputId": "faf05485-1946-4c8c-f812-cc1b6b84a373",
        "id": "D1zHalfCCEwE"
      }
    },
    {
      "cell_type": "markdown",
      "source": [
        "---\n",
        "#問題4-2\n",
        "\n",
        "問題4-1に以下の制約を追加する。\n",
        "* パンを食べる場合はチーズを1単位（20g）以上摂取する\n",
        "\n",
        "このとき、最小コストを求めよ。\n",
        "\n"
      ],
      "metadata": {
        "id": "wshPJWwCo6Wd"
      }
    },
    {
      "cell_type": "markdown",
      "source": [
        "##問題4の解説\n",
        "\n",
        "**定式化**\n",
        "* **パラメータ**\n",
        "  * $c_j$: 食品 $j$ のコスト\n",
        "  * $a_{ij}$: 食品 $j$ に含まれる栄養素 $i$ の量\n",
        "  * $b_i^{\\min}$: 栄養素 $i$ の最小必要摂取量\n",
        "  * $M$ 十分に大きな数（変数が取りうる値より大きな数）\n",
        "\n",
        "* **決定変数**\n",
        "  * $x_j$ : 食品 $j$ の摂取量\n",
        "  * $y$ : パンを摂取するなら 1 、摂取しないなら 0 となるバイナリ変数\n",
        "\n",
        "* **目的関数**\n",
        "    $$\\min \\sum_{j} c_j x_j$$\n",
        "* **制約条件**\n",
        "$$\\sum_{j} a_{ij} x_j \\ge b_i^{\\min} \\quad (\\forall i)$$\n",
        "$$ x_{牛乳} \\le 2$$\n",
        "$$ x_{卵} \\le 2$$\n",
        "$$ x_{パン} \\le M y$$\n",
        "$$ 1 \\times y \\leq x_{チーズ}$$\n",
        "$$ x_j \\ge 0 \\quad \\forall j$$\n",
        "$$ y \\in \\{0,1\\}$$\n",
        "\n",
        "\n",
        "**解答コード**"
      ],
      "metadata": {
        "id": "dFc4Nq0BV9Yr"
      }
    },
    {
      "cell_type": "code",
      "source": [
        "# 問題4\n",
        "\n",
        "# --- データ定義 ---\n",
        "food_data = {\n",
        "    '牛乳':       {'cost': 20, 'calories': 60, 'protein': 3, 'vit_c': 1},\n",
        "    '卵':         {'cost': 30, 'calories': 80, 'protein': 6, 'vit_c': 0},\n",
        "    'パン':       {'cost': 40, 'calories': 120, 'protein': 4, 'vit_c': 0},\n",
        "    'チーズ':     {'cost': 50, 'calories': 80, 'protein': 5, 'vit_c': 0},\n",
        "    '鶏むね肉':   {'cost': 100,'calories': 110, 'protein': 23,'vit_c': 0},\n",
        "    'ブロッコリー': {'cost': 40, 'calories': 15, 'protein': 2, 'vit_c': 60},\n",
        "}\n",
        "foods = list(food_data.keys())\n",
        "costs = {f: food_data[f]['cost'] for f in foods}\n",
        "\n",
        "min_reqs = {'calories': 600, 'protein': 50, 'vit_c': 70}\n",
        "nutrients = list(min_reqs.keys())\n",
        "\n",
        "nutrient_values = {f: {n: food_data[f][n] for n in nutrients} for f in foods}\n",
        "\n",
        "# --- モデル構築 ---\n",
        "model4 = mip.Model(name=\"Diet\", sense=mip.MINIMIZE)\n",
        "\n",
        "# 変数の定義\n",
        "x_diet = {f: model4.add_var(name=f\"x_{f}\", lb=0) for f in foods}\n",
        "y_diet = {f: model4.add_var(name=f\"y_{f}\", var_type=mip.BINARY) for f in foods}\n",
        "\n",
        "\n",
        "# 目的関数の設定\n",
        "model4.objective = mip.xsum(costs[f] * x_diet[f] for f in foods)\n",
        "\n",
        "# 制約条件の追加\n",
        "for n in nutrients:\n",
        "    model4 += mip.xsum(nutrient_values[f][n] * x_diet[f] for f in foods) >= min_reqs[n], f\"nutrient_{n}\"\n",
        "\n",
        "model4 += x_diet['牛乳'] <= 2\n",
        "model4 += x_diet['卵'] <= 2\n",
        "\n",
        "Big_M = 1000\n",
        "\n",
        "model4 += x_diet['パン'] <= Big_M * y_diet['パン']\n",
        "model4 += x_diet['チーズ'] >= 1 * y_diet['パン']\n",
        "\n",
        "# --- 求解と結果表示 ---\n",
        "status4 = model4.optimize()\n",
        "\n",
        "if status4 == mip.OptimizationStatus.OPTIMAL:\n",
        "    print(f\"最小コスト: {model4.objective_value:.2f} 円\")\n",
        "    print(\"\\n--- 各食品の最適摂取量 ---\")\n",
        "    results4 = []\n",
        "    for f in foods:\n",
        "        if x_diet[f].x > 1e-6: # ごく小さい値は無視する\n",
        "            print(f\"{f}: {x_diet[f].x:.2f}\" )\n",
        "            results4.append({'食品名': f, '摂取量': x_diet[f].x})\n",
        "    results_df = pd.DataFrame(results4).set_index('食品名')\n",
        "\n",
        "    for f in foods:\n",
        "        if y_diet[f].x > 1e-6: # ごく小さい値は無視する\n",
        "            print(f\"{f}: {y_diet[f].x:.2f}\" )\n"
      ],
      "outputs": [
        {
          "output_type": "stream",
          "name": "stdout",
          "text": [
            "最小コスト: 326.34 円\n",
            "\n",
            "--- 各食品の最適摂取量 ---\n",
            "牛乳: 2.00\n",
            "卵: 2.00\n",
            "パン: 1.04\n",
            "チーズ: 1.00\n",
            "鶏むね肉: 0.89\n",
            "ブロッコリー: 1.13\n",
            "パン: 1.00\n"
          ]
        }
      ],
      "execution_count": 11,
      "metadata": {
        "id": "bxq6jVchV9Yr",
        "colab": {
          "base_uri": "https://localhost:8080/"
        },
        "outputId": "af507bee-ba1e-42fb-afc0-f6d873df95ba"
      }
    }
  ],
  "metadata": {
    "colab": {
      "provenance": [],
      "include_colab_link": true
    },
    "kernelspec": {
      "display_name": "Python 3",
      "name": "python3"
    }
  },
  "nbformat": 4,
  "nbformat_minor": 0
}