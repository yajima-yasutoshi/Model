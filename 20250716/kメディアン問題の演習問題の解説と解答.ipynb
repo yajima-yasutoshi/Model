{
  "cells": [
    {
      "cell_type": "markdown",
      "metadata": {
        "id": "view-in-github",
        "colab_type": "text"
      },
      "source": [
        "<a href=\"https://colab.research.google.com/github/yajima-yasutoshi/Model/blob/main/20250716/k%E3%83%A1%E3%83%87%E3%82%A3%E3%82%A2%E3%83%B3%E5%95%8F%E9%A1%8C%E3%81%AE%E6%BC%94%E7%BF%92%E5%95%8F%E9%A1%8C%E3%81%AE%E8%A7%A3%E8%AA%AC%E3%81%A8%E8%A7%A3%E7%AD%94.ipynb\" target=\"_parent\"><img src=\"https://colab.research.google.com/assets/colab-badge.svg\" alt=\"Open In Colab\"/></a>"
      ]
    },
    {
      "cell_type": "markdown",
      "source": [
        "# **k-メディアン問題 演習問題 解答・解説**\n",
        "\n",
        "### **ライブラリのインストールとインポート**\n",
        "`python-mip` ライブラリと、グラフ描画時に日本語を表示するための `japanize-matplotlib` をインストール"
      ],
      "metadata": {
        "id": "w7rRqBSbn7Cx"
      }
    },
    {
      "cell_type": "code",
      "source": [
        "%%capture\n",
        "# python-mip ライブラリをインストールする\n",
        "!pip install mip\n",
        "\n",
        "# Matplotlibで日本語を表示するためのライブラリをインストール\n",
        "!pip install japanize-matplotlib\n",
        "\n",
        "# 必要なライブラリをインポートする\n",
        "import mip\n",
        "import numpy as np\n",
        "import matplotlib.pyplot as plt\n",
        "import japanize_matplotlib # 日本語表示のためにインポート\n",
        "import random\n",
        "from scipy.spatial.distance import cdist # 距離行列計算用"
      ],
      "outputs": [],
      "execution_count": 1,
      "metadata": {
        "id": "0TCjtc5un7C0"
      }
    },
    {
      "cell_type": "markdown",
      "source": [
        "### **例題データの設定**\n",
        "全ての演習問題で基準となる、15個の需要地点（兼施設候補地）の例題のデータを作成する。\n",
        "座標はランダムに生成し、地点間の距離はユークリッド距離で計算する。"
      ],
      "metadata": {
        "id": "GKZk1CuKn7C1"
      }
    },
    {
      "cell_type": "code",
      "source": [
        "# 地点数 (需要地点数 = 施設候補地数)\n",
        "num_locations = 15 # 例として15地点\n",
        "k_to_locate = 3    # 開設する施設数\n",
        "\n",
        "# 地点の座標を 0から100の範囲でランダムに生成\n",
        "random.seed(50) # 再現性のためのシードを50に設定\n",
        "locations_coords = np.array([(random.uniform(0,100), random.uniform(0,100)) for _ in range(num_locations)])\n",
        "\n",
        "# ユークリッド距離行列の計算\n",
        "dist_matrix_euclidean = cdist(locations_coords, locations_coords, 'euclidean')\n",
        "\n",
        "print(f\"総地点数（需要地点/施設候補地）: {num_locations}\")\n",
        "print(\"座標データとユークリッド距離行列の準備が完了しました。\")\n",
        "\n",
        "# 地点のプロット（初期状態）\n",
        "plt.figure(figsize=(5, 5))\n",
        "plt.scatter(locations_coords[:, 0], locations_coords[:, 1], c='blue', label='需要地点/施設候補地')\n",
        "for i, (x, y) in enumerate(locations_coords):\n",
        "    plt.text(x + 1, y + 1, str(i))\n",
        "plt.title('需要地点の配置')\n",
        "plt.xlabel('X座標')\n",
        "plt.ylabel('Y座標')\n",
        "plt.grid(True)\n",
        "plt.legend()\n",
        "plt.axis('equal')\n",
        "plt.show()"
      ],
      "outputs": [
        {
          "output_type": "stream",
          "name": "stdout",
          "text": [
            "総地点数（需要地点/施設候補地）: 15\n",
            "座標データとユークリッド距離行列の準備が完了しました。\n"
          ]
        },
        {
          "output_type": "display_data",
          "data": {
            "text/plain": [
              "<Figure size 500x500 with 1 Axes>"
            ],
            "image/png": "[encoded data removed]"
          },
          "metadata": {}
        }
      ],
      "execution_count": 2,
      "metadata": {
        "colab": {
          "base_uri": "https://localhost:8080/",
          "height": 520
        },
        "id": "eHehLupEn7C1",
        "outputId": "95ecd167-70a5-4c58-9903-bb0ab253c53a"
      }
    },
    {
      "cell_type": "markdown",
      "source": [
        "---\n",
        "\n",
        "## **演習問題1**\n",
        "\n",
        "### **1. 問題**\n",
        "例題と同じ15地点のデータを用い、\n",
        "開設する施設数 $k$ を2に変更した場合の総割当距離を解答せよ。\n",
        "\n",
        "### **2. 数理モデルの定式化**\n",
        "基本的なk-メディアン問題の数理モデルとなる。\n",
        "\n",
        "* **決定変数**\n",
        "    * $y_j$: 施設候補地 $j$ に施設を開設するならば1、さもなくば0となるバイナリ変数\n",
        "    * $x_{ij}$: 需要地点 $i$ を施設 $j$ に割り当てるならば1、さもなくば0となるバイナリ変数\n",
        "\n",
        "* **目的関数**\n",
        "    総割り当て距離を最小化する。\n",
        "    $$\n",
        "    \\min \\sum_{i \\in I} \\sum_{j \\in J} d_{ij} x_{ij}\n",
        "    $$\n",
        "\n",
        "* **制約条件**\n",
        "    1.  **割り当て制約**: 各需要地点 $i$ は、ただ一つの施設 $j$ に割り当てる\n",
        "        $$\n",
        "        \\sum_{j \\in J} x_{ij} = 1 \\quad (\\forall i \\in I)\n",
        "        $$\n",
        "    2.  **施設開設連動制約**: 需要地点 $i$ は、施設が開設された候補地 $j$ にのみ割り当てが可能\n",
        "        $$\n",
        "        x_{ij} \\le y_j \\quad (\\forall i \\in I, \\forall j \\in J)\n",
        "        $$\n",
        "    3.  **施設数制約**: 開設される施設の総数は $k=2$ である\n",
        "        $$\n",
        "        \\sum_{j \\in J} y_j = 2\n",
        "        $$\n",
        "    4.  **変数型制約**: 変数はすべてバイナリ型\n",
        "$$\n",
        "        x_{ij}, y_j \\in \\{0, 1\\} \\quad (\\forall i \\in I, \\forall j \\in J)\n",
        "$$\n",
        "\n",
        "### **3. Python (MIP) による実装**\n",
        "`k_to_locate` の値を `2` に設定してモデルを構築し、最適化を実行する。"
      ],
      "metadata": {
        "id": "ksLXg_dqn7C1"
      }
    },
    {
      "cell_type": "code",
      "source": [
        "# --- 演習問題1 ---\n",
        "\n",
        "# パラメータの設定\n",
        "k_to_locate = 2 # 開設する施設数\n",
        "\n",
        "# インデックスの集合\n",
        "I_nodes = range(num_locations)\n",
        "J_nodes = range(num_locations)\n",
        "\n",
        "# モデルの作成\n",
        "model1 = mip.Model(name=\"k_median_k2\", sense=mip.MINIMIZE)\n",
        "\n",
        "# 変数の定義\n",
        "y = [model1.add_var(var_type=mip.BINARY, name=f\"y_{j}\") for j in J_nodes]\n",
        "x = {(i, j): model1.add_var(var_type=mip.BINARY, name=f\"x_{i}_{j}\") for i in I_nodes for j in J_nodes}\n",
        "\n",
        "# 目的関数の設定\n",
        "model1.objective = mip.xsum(dist_matrix_euclidean[i, j] * x[(i, j)] for i in I_nodes for j in J_nodes)\n",
        "\n",
        "# 制約条件の追加\n",
        "# 制約1: 各需要地点は、いずれか一つの施設に割り当てられる\n",
        "for i in I_nodes:\n",
        "    model1 += mip.xsum(x[(i, j)] for j in J_nodes) == 1\n",
        "\n",
        "# 制約2: 需要地点は、施設が開設されている場合にのみ割り当て可能\n",
        "for i in I_nodes:\n",
        "    for j in J_nodes:\n",
        "        model1 += x[(i, j)] <= y[j]\n",
        "\n",
        "# 制約3: 開設する施設の総数はk個\n",
        "model1 += mip.xsum(y[j] for j in J_nodes) == k_to_locate\n",
        "\n",
        "# 最適化の実行\n",
        "status = model1.optimize()\n",
        "\n",
        "# 結果の表示\n",
        "if status == mip.OptimizationStatus.OPTIMAL:\n",
        "    print(f\"総割り当て距離: {model1.objective_value:.4f}\")\n",
        "    opened_facilities = [j for j in J_nodes if y[j].x >= 0.99]\n",
        "    print(f\"開設された施設の位置 (インデックス): {opened_facilities}\")\n",
        "elif status == mip.OptimizationStatus.FEASIBLE:\n",
        "    print(\"実行可能解が見つかりました（最適ではない可能性あり）。\")\n",
        "    print(f\"総割り当て距離: {model1.objective_value:.4f}\")\n",
        "else:\n",
        "    print(\"解が見つかりませんでした。\")"
      ],
      "outputs": [
        {
          "output_type": "stream",
          "name": "stdout",
          "text": [
            "最適解が見つかりました。\n",
            "総割り当て距離: 411.3840\n",
            "開設された施設の位置 (インデックス): [0, 14]\n"
          ]
        }
      ],
      "execution_count": 3,
      "metadata": {
        "colab": {
          "base_uri": "https://localhost:8080/"
        },
        "id": "i0tL4hL0n7C2",
        "outputId": "f3b15006-7191-4596-cc64-f66f1f0a5068"
      }
    },
    {
      "cell_type": "markdown",
      "source": [
        "---\n",
        "\n",
        "## **演習問題2**\n",
        "\n",
        "### **1. 問題**\n",
        "距離行列 $d_{ij}$ をユークリッド距離ではなく、マンハッタン距離（$L_1$距離: $|x_i - x_j| + |y_i - y_j|$）に変更して、例題のデータ（$k=3$）でk-メディアン問題を解き、総割当距離を解答せよ。\n",
        "\n",
        "### **2. 数理モデルの定式化**\n",
        "数理モデルの構造は変わりませんが、目的関数で用いるコストパラメータ $d_{ij}$ がマンハッタン距離になります。\n",
        "\n",
        "* **目的関数**:\n",
        "    $$\n",
        "    \\min \\sum_{i \\in I} \\sum_{j \\in J} d_{ij}^{\\text{Manhattan}} x_{ij}\n",
        "    $$\n",
        "    ここで、$d_{ij}^{\\text{Manhattan}}$ は地点 $i$ と $j$ の間のマンハッタン距離です。制約条件は例題と同様です。\n",
        "\n",
        "### **3. Python (MIP) による実装**\n",
        "`scipy.spatial.distance.cdist` を用いてマンハッタン距離行列を計算し、それを目的関数に適用します。`k_to_locate` は例題と同じく `3` です。"
      ],
      "metadata": {
        "id": "E4xUA4Rhn7C2"
      }
    },
    {
      "cell_type": "code",
      "source": [
        "# --- 演習問題2 ---\n",
        "\n",
        "# マンハッタン距離行列の計算\n",
        "dist_matrix_manhattan = cdist(locations_coords, locations_coords, 'cityblock')\n",
        "\n",
        "# パラメータの設定\n",
        "k_to_locate = 3 # 開設する施設数\n",
        "\n",
        "# インデックスの集合\n",
        "I_nodes = range(num_locations)\n",
        "J_nodes = range(num_locations)\n",
        "\n",
        "# モデルの作成\n",
        "model3 = mip.Model(name=\"k_median_manhattan\", sense=mip.MINIMIZE)\n",
        "\n",
        "# 変数の定義\n",
        "y = [model3.add_var(var_type=mip.BINARY, name=f\"y_{j}\") for j in J_nodes]\n",
        "x = {(i, j): model3.add_var(var_type=mip.BINARY, name=f\"x_{i}_{j}\") for i in I_nodes for j in J_nodes}\n",
        "\n",
        "# 目的関数の設定（マンハッタン距離を使用）\n",
        "model3.objective = mip.xsum(dist_matrix_manhattan[i, j] * x[(i, j)] for i in I_nodes for j in J_nodes)\n",
        "\n",
        "# 制約条件の追加\n",
        "# 制約1, 2, 3 は例題と同様\n",
        "for i in I_nodes:\n",
        "    model3 += mip.xsum(x[(i, j)] for j in J_nodes) == 1\n",
        "for i in I_nodes:\n",
        "    for j in J_nodes:\n",
        "        model3 += x[(i, j)] <= y[j]\n",
        "model3 += mip.xsum(y[j] for j in J_nodes) == k_to_locate\n",
        "\n",
        "# 最適化の実行\n",
        "status = model3.optimize()\n",
        "\n",
        "# 結果の表示\n",
        "if status == mip.OptimizationStatus.OPTIMAL:\n",
        "    print(f\"総割り当て距離（マンハッタン距離）: {model3.objective_value:.4f}\")\n",
        "    opened_facilities = [j for j in J_nodes if y[j].x >= 0.99]\n",
        "    print(f\"開設された施設の位置 (インデックス): {opened_facilities}\")\n",
        "else:\n",
        "    print(\"解が見つかりませんでした。\")"
      ],
      "outputs": [
        {
          "output_type": "stream",
          "name": "stdout",
          "text": [
            "最適解が見つかりました。\n",
            "総割り当て距離（マンハッタン距離）: 349.4116\n",
            "開設された施設の位置 (インデックス): [0, 12, 14]\n"
          ]
        }
      ],
      "execution_count": 5,
      "metadata": {
        "colab": {
          "base_uri": "https://localhost:8080/"
        },
        "id": "JIcm5UGAn7C3",
        "outputId": "78fdff51-83a6-49d6-e30a-29cd5acfaba0"
      }
    },
    {
      "cell_type": "markdown",
      "source": [
        "---\n",
        "\n",
        "## **演習問題3**\n",
        "\n",
        "### **1. 問題**\n",
        "例題のデータ（$k=3$）において、以下の追加制約を加えて最適化し、総割当距離を解答せよ。\n",
        "\n",
        "**追加条件**: 地点インデックス8に必ず施設を建設する。\n",
        "\n",
        "### **2. 数理モデルの定式化**\n",
        "元のk-メディアン問題のモデルに、特定の地点（インデックス8）への施設設置を強制する制約を追加します。\n",
        "\n",
        "* **追加制約**:\n",
        "    地点8に施設を建設することを意味する変数 $y_8$ の値を1に固定します。\n",
        "    $$\n",
        "    y_8 = 1\n",
        "    $$\n",
        "その他の目的関数、制約条件は例題と同様です。\n",
        "\n",
        "### **3. Python (MIP) による実装**\n",
        "モデルに `y[8] == 1` という制約を明示的に追加します。"
      ],
      "metadata": {
        "id": "qw2V1aswn7C3"
      }
    },
    {
      "cell_type": "code",
      "source": [
        "# --- 演習問題3 ---\n",
        "\n",
        "# パラメータの設定\n",
        "k_to_locate = 3 # 開設する施設数\n",
        "forced_location_idx = 8 # 必ず開設する施設のインデックス\n",
        "\n",
        "# インデックスの集合\n",
        "I_nodes = range(num_locations)\n",
        "J_nodes = range(num_locations)\n",
        "\n",
        "# モデルの作成\n",
        "model4 = mip.Model(name=\"k_median_force_loc\", sense=mip.MINIMIZE)\n",
        "\n",
        "# 変数の定義\n",
        "y = [model4.add_var(var_type=mip.BINARY, name=f\"y_{j}\") for j in J_nodes]\n",
        "x = {(i, j): model4.add_var(var_type=mip.BINARY, name=f\"x_{i}_{j}\") for i in I_nodes for j in J_nodes}\n",
        "\n",
        "# 目的関数の設定\n",
        "model4.objective = mip.xsum(dist_matrix_euclidean[i, j] * x[(i, j)] for i in I_nodes for j in J_nodes)\n",
        "\n",
        "# 制約条件の追加\n",
        "for i in I_nodes:\n",
        "    model4 += mip.xsum(x[(i, j)] for j in J_nodes) == 1\n",
        "for i in I_nodes:\n",
        "    for j in J_nodes:\n",
        "        model4 += x[(i, j)] <= y[j]\n",
        "model4 += mip.xsum(y[j] for j in J_nodes) == k_to_locate\n",
        "\n",
        "# ★追加制約: 地点8に必ず施設を建設する\n",
        "model4 += y[forced_location_idx] == 1\n",
        "\n",
        "# 最適化の実行\n",
        "status = model4.optimize()\n",
        "\n",
        "# 結果の表示\n",
        "if status == mip.OptimizationStatus.OPTIMAL:\n",
        "    print(f\"総割り当て距離: {model4.objective_value:.4f}\")\n",
        "    opened_facilities = [j for j in J_nodes if y[j].x >= 0.99]\n",
        "    print(f\"開設された施設の位置 (インデックス): {opened_facilities}\")\n",
        "else:\n",
        "    print(\"解が見つかりませんでした。\")"
      ],
      "outputs": [
        {
          "output_type": "stream",
          "name": "stdout",
          "text": [
            "総割り当て距離: 318.8809\n",
            "開設された施設の位置 (インデックス): [1, 8, 11]\n"
          ]
        }
      ],
      "execution_count": 6,
      "metadata": {
        "colab": {
          "base_uri": "https://localhost:8080/"
        },
        "id": "jBYwAIHfn7C3",
        "outputId": "be65e397-ce65-4361-fc8c-5c202b4056b3"
      }
    },
    {
      "cell_type": "markdown",
      "source": [
        "---\n",
        "\n",
        "## **演習問題4**\n",
        "\n",
        "### **1. 問題の確認**\n",
        "例題のデータ（$k=3$）において、以下の追加制約を加えて最適化し、総割当距離を解答せよ。\n",
        "\n",
        "**追加条件**: 地点インデックス8には施設を建設してはならない。\n",
        "\n",
        "### **2. 数理モデルの定式化**\n",
        "元のk-メディアン問題のモデルに、特定の地点（インデックス8）への施設設置を禁止する制約を追加します。\n",
        "\n",
        "* **追加制約**:\n",
        "    地点8に施設を建設しないことを意味する変数 $y_8$ の値を0に固定します。\n",
        "    $$\n",
        "    y_8 = 0\n",
        "    $$\n",
        "その他の目的関数、制約条件は例題と同様です。\n",
        "\n",
        "### **3. Python (MIP) による実装**\n",
        "モデルに `y[8] == 0` という制約を明示的に追加します。"
      ],
      "metadata": {
        "id": "Lte6yNXSn7C3"
      }
    },
    {
      "cell_type": "code",
      "source": [
        "# --- 演習問題4 ---\n",
        "\n",
        "# パラメータの設定\n",
        "k_to_locate = 3 # 開設する施設数\n",
        "forbidden_location_idx = 8 # 建設を禁止する施設のインデックス\n",
        "\n",
        "# インデックスの集合\n",
        "I_nodes = range(num_locations)\n",
        "J_nodes = range(num_locations)\n",
        "\n",
        "# モデルの作成\n",
        "model5 = mip.Model(name=\"k_median_forbid_loc\", sense=mip.MINIMIZE)\n",
        "\n",
        "# 変数の定義\n",
        "y = [model5.add_var(var_type=mip.BINARY, name=f\"y_{j}\") for j in J_nodes]\n",
        "x = {(i, j): model5.add_var(var_type=mip.BINARY, name=f\"x_{i}_{j}\") for i in I_nodes for j in J_nodes}\n",
        "\n",
        "# 目的関数の設定\n",
        "model5.objective = mip.xsum(dist_matrix_euclidean[i, j] * x[(i, j)] for i in I_nodes for j in J_nodes)\n",
        "\n",
        "# 制約条件の追加\n",
        "for i in I_nodes:\n",
        "    model5 += mip.xsum(x[(i, j)] for j in J_nodes) == 1\n",
        "for i in I_nodes:\n",
        "    for j in J_nodes:\n",
        "        model5 += x[(i, j)] <= y[j]\n",
        "model5 += mip.xsum(y[j] for j in J_nodes) == k_to_locate\n",
        "\n",
        "# ★追加制約: 地点8に施設を建設してはならない\n",
        "model5 += y[forbidden_location_idx] == 0\n",
        "\n",
        "# 最適化の実行\n",
        "status = model5.optimize()\n",
        "\n",
        "# 結果の表示\n",
        "if status == mip.OptimizationStatus.OPTIMAL:\n",
        "    print(f\"総割り当て距離: {model5.objective_value:.4f}\")\n",
        "    opened_facilities = [j for j in J_nodes if y[j].x >= 0.99]\n",
        "    print(f\"開設された施設の位置 (インデックス): {opened_facilities}\")\n",
        "else:\n",
        "    print(\"解が見つかりませんでした。\")"
      ],
      "outputs": [
        {
          "output_type": "stream",
          "name": "stdout",
          "text": [
            "総割り当て距離: 278.4029\n",
            "開設された施設の位置 (インデックス): [0, 12, 14]\n"
          ]
        }
      ],
      "execution_count": 7,
      "metadata": {
        "colab": {
          "base_uri": "https://localhost:8080/"
        },
        "id": "RolBgBKBn7C3",
        "outputId": "92946534-52f9-417e-f5ec-cb9a890c9c31"
      }
    },
    {
      "cell_type": "markdown",
      "source": [
        "---\n",
        "\n",
        "## **演習問題5**\n",
        "\n",
        "### **1. 問題の確認**\n",
        "例題のデータ（$k=3$）において、各施設候補地 $j$ に施設を開設するためのコスト $f_j$ が別途かかるとする。ただし、\n",
        "* $f_j = 500$ （$j$ が偶数の場合）\n",
        "* $f_j = 200$ （$j$ が奇数の場合）\n",
        "\n",
        "とする。\n",
        "目的関数を「総割り当て距離と、開設された $k$ 個の施設の総開設コストの合計」の最小化に変更して解き、**総割当距離**を解答せよ\n",
        "（開設コストは含まない）。\n",
        "\n",
        "### **2. 数理モデルの定式化**\n",
        "この問題は、k-メディアン問題から固定費用施設配置問題（Fixed-charge Facility Location Problem）に近い形に変化します。目的関数が変更されます。\n",
        "\n",
        "* **決定変数**: 変更なし\n",
        "* **パラメータ**:\n",
        "    * $d_{ij}$: 距離\n",
        "    * $k=3$: 開設施設数\n",
        "    * $f_j$: 地点 $j$ の開設コスト\n",
        "* **目的関数**:\n",
        "    総割り当て距離と総施設開設コストの和を最小化します。\n",
        "    $$\n",
        "    \\min \\left( \\sum_{i \\in I} \\sum_{j \\in J} d_{ij} x_{ij} + \\sum_{j \\in J} f_j y_j \\right)\n",
        "    $$\n",
        "* **制約条件**: 例題と同様\n",
        "\n",
        "### **3. Python (MIP) による実装**\n",
        "開設コストのリスト `f` を定義し、目的関数にこのコスト項 `mip.xsum(f[j] * y[j] for j in J_nodes)` を追加します。解答として求められているのは「総割り当て距離」であるため、最適化後にその値を別途計算します。"
      ],
      "metadata": {
        "id": "D_iJdONnn7C3"
      }
    },
    {
      "cell_type": "code",
      "source": [
        "# --- 演習問題5 ---\n",
        "\n",
        "# パラメータの設定\n",
        "k_to_locate = 3 # 開設する施設数\n",
        "\n",
        "# 開設コストのリストを作成\n",
        "# jが偶数なら500, 奇数なら200\n",
        "fixed_costs = [500 if j % 2 == 0 else 200 for j in range(num_locations)]\n",
        "\n",
        "# インデックスの集合\n",
        "I_nodes = range(num_locations)\n",
        "J_nodes = range(num_locations)\n",
        "\n",
        "# モデルの作成\n",
        "model6 = mip.Model(name=\"k_median_with_fixed_cost\", sense=mip.MINIMIZE)\n",
        "\n",
        "# 変数の定義\n",
        "y = [model6.add_var(var_type=mip.BINARY, name=f\"y_{j}\") for j in J_nodes]\n",
        "x = {(i, j): model6.add_var(var_type=mip.BINARY, name=f\"x_{i}_{j}\") for i in I_nodes for j in J_nodes}\n",
        "\n",
        "# 目的関数の設定\n",
        "# 総割り当て距離 + 総開設コスト\n",
        "objective_expr = mip.xsum(dist_matrix_euclidean[i, j] * x[(i, j)] for i in I_nodes for j in J_nodes) \\\n",
        "                 + mip.xsum(fixed_costs[j] * y[j] for j in J_nodes)\n",
        "model6.objective = objective_expr\n",
        "\n",
        "# 制約条件の追加\n",
        "for i in I_nodes:\n",
        "    model6 += mip.xsum(x[(i, j)] for j in J_nodes) == 1\n",
        "for i in I_nodes:\n",
        "    for j in J_nodes:\n",
        "        model6 += x[(i, j)] <= y[j]\n",
        "model6 += mip.xsum(y[j] for j in J_nodes) == k_to_locate\n",
        "\n",
        "# 最適化の実行\n",
        "status = model6.optimize()\n",
        "\n",
        "# 結果の表示\n",
        "if status == mip.OptimizationStatus.OPTIMAL:\n",
        "    opened_facilities = [j for j in J_nodes if y[j].x >= 0.99]\n",
        "    print(f\"開設された施設の位置 (インデックス): {opened_facilities}\")\n",
        "\n",
        "    # 総割り当て距離と総開設コストを計算\n",
        "    total_distance = sum(dist_matrix_euclidean[i, j] * x[(i, j)].x for i in I_nodes for j in J_nodes)\n",
        "    total_fixed_cost = sum(fixed_costs[j] * y[j].x for j in J_nodes)\n",
        "\n",
        "    print(f\"\\n目的関数値 (総コスト): {model6.objective_value:.4f}\")\n",
        "    print(f\"内訳：\")\n",
        "    print(f\"  総開設コスト: {total_fixed_cost:.4f}\")\n",
        "    print(f\"  総割り当て距離: {total_distance:.4f}\")\n",
        "\n",
        "else:\n",
        "    print(\"解が見つかりませんでした。\")"
      ],
      "outputs": [
        {
          "output_type": "stream",
          "name": "stdout",
          "text": [
            "開設された施設の位置 (インデックス): [1, 5, 11]\n",
            "\n",
            "目的関数値 (総コスト): 890.4038\n",
            "内訳：\n",
            "  総開設コスト: 600.0000\n",
            "  総割り当て距離: 290.4038\n"
          ]
        }
      ],
      "execution_count": 8,
      "metadata": {
        "colab": {
          "base_uri": "https://localhost:8080/"
        },
        "id": "10j80YuQn7C3",
        "outputId": "cb05ea22-688f-4825-95a1-45c7ab5e79fe"
      }
    }
  ],
  "metadata": {
    "colab": {
      "provenance": [],
      "include_colab_link": true
    },
    "kernelspec": {
      "display_name": "Python 3",
      "name": "python3"
    }
  },
  "nbformat": 4,
  "nbformat_minor": 0
}