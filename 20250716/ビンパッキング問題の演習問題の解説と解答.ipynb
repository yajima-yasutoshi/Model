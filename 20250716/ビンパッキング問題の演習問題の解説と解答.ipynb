{
  "cells": [
    {
      "cell_type": "markdown",
      "metadata": {
        "id": "view-in-github",
        "colab_type": "text"
      },
      "source": [
        "<a href=\"https://colab.research.google.com/github/yajima-yasutoshi/Model/blob/main/20250716/%E3%83%93%E3%83%B3%E3%83%91%E3%83%83%E3%82%AD%E3%83%B3%E3%82%B0%E5%95%8F%E9%A1%8C%E3%81%AE%E6%BC%94%E7%BF%92%E5%95%8F%E9%A1%8C%E3%81%AE%E8%A7%A3%E8%AA%AC%E3%81%A8%E8%A7%A3%E7%AD%94.ipynb\" target=\"_parent\"><img src=\"https://colab.research.google.com/assets/colab-badge.svg\" alt=\"Open In Colab\"/></a>"
      ]
    },
    {
      "cell_type": "markdown",
      "source": [
        "# 準備\n"
      ],
      "metadata": {
        "id": "OBFEm7yiExin"
      }
    },
    {
      "cell_type": "code",
      "source": [
        "%%capture\n",
        "# python-mip ライブラリをインストールする\n",
        "!pip install mip"
      ],
      "outputs": [],
      "execution_count": 1,
      "metadata": {
        "id": "5uDZiTh_Exip"
      }
    },
    {
      "cell_type": "markdown",
      "source": [
        "-----\n",
        "\n",
        "## 演習問題1\n",
        "\n",
        "以下の条件でビンパッキング問題を解く。\n",
        "\n",
        "  * アイテムのサイズ: $W = [2, 5, 4, 7, 1, 3, 8]$\n",
        "  * ビンの容量: $C = 10$\n",
        "\n",
        "###数理モデルでの定式化\n",
        "\n",
        "この問題は、標準的なビンパッキング問題として定式化できます。\n",
        "\n",
        "  * **パラメータ**:\n",
        "      * アイテムの集合\n",
        "   $I = \\{0, 1, ..., 6\\}$\n",
        "      * アイテムのサイズ $w\\_i \\\\in W$\n",
        "      * ビンの容量 $C = 10$\n",
        "      * アイテム数 $n = 7$\n",
        "      * 利用可能なビンの最大数 $m = n = 7$\n",
        "\n",
        "  * **決定変数**:\n",
        "\n",
        "      *\n",
        "  $x_{ij} \\in \\{0, 1\\}$: アイテム $i$ をビン $j$ に入れる場合に1、そうでない場合に0となるバイナリ変数。\n",
        "      *\n",
        "  $y_j \\in \\{0, 1\\}$: ビン $j$ を使用する場合に1、そうでない場合に0となるバイナリ変数。\n",
        "\n",
        "  * **目的関数**:\n",
        "    使用するビンの総数を最小化します。\n",
        "    $$\\min \\sum_{j=0}^{m-1} y_j$$\n",
        "\n",
        "  * **制約条件**:\n",
        "\n",
        "    1.  **アイテム割り当て制約**: 各アイテムは、必ずいずれか1つのビンに割り当てられます。\n",
        "        $$\\sum_{j=0}^{m-1} x_{ij} = 1 \\quad (\\forall i \\in I)$$\n",
        "    2.  **容量制約**: 各ビンに入れられたアイテムのサイズの合計は、そのビンの容量を超えてはならず、アイテムは使用されるビンにのみ入れられます。\n",
        "        $$\\sum_{i=0}^{n-1} w_i x_{ij} \\le C \\cdot y_j \\quad (\\forall j \\in \\{0, 1, ..., m-1\\})$$\n",
        "\n",
        "###Python (MIP) による実装\n"
      ],
      "metadata": {
        "id": "42cOc5ZfExiq"
      }
    },
    {
      "cell_type": "code",
      "source": [
        "import mip\n",
        "\n",
        "# --- 演習問題1 データ ---\n",
        "# アイテムのサイズ\n",
        "item_weights = [2, 5, 4, 7, 1, 3, 8]\n",
        "# ビンの容量\n",
        "bin_capacity = 10\n",
        "# アイテムの数\n",
        "num_items = len(item_weights)\n",
        "# 利用可能なビンの最大数（アイテム数と同じにする）\n",
        "num_bins = num_items\n",
        "\n",
        "# --- モデルの作成 ---\n",
        "# モデルオブジェクトを最小化問題として作成\n",
        "model = mip.Model(name=\"bin_packing_1\", sense=mip.MINIMIZE)\n",
        "\n",
        "# --- 変数の定義 ---\n",
        "# x[i][j]: アイテムiをビンjに入れる場合に1\n",
        "x = [[model.add_var(var_type=mip.BINARY, name=f\"x_{i}_{j}\") for j in range(num_bins)] for i in range(num_items)]\n",
        "# y[j]: ビンjを使用する場合に1\n",
        "y = [model.add_var(var_type=mip.BINARY, name=f\"y_{j}\") for j in range(num_bins)]\n",
        "\n",
        "# --- 目的関数の設定 ---\n",
        "# 使用するビンの総数（y_jが1になるものの合計）を最小化\n",
        "model.objective = mip.xsum(y[j] for j in range(num_bins))\n",
        "\n",
        "# --- 制約条件の追加 ---\n",
        "# 制約1: 各アイテムは正確に一つのビンに割り当てられる\n",
        "for i in range(num_items):\n",
        "    model += mip.xsum(x[i][j] for j in range(num_bins)) == 1, f\"item_assignment_{i}\"\n",
        "\n",
        "# 制約2: 各ビンの容量制約\n",
        "for j in range(num_bins):\n",
        "    model += mip.xsum(item_weights[i] * x[i][j] for i in range(num_items)) <= bin_capacity * y[j], f\"capacity_{j}\"\n",
        "\n",
        "# --- 問題の求解 ---\n",
        "print(\"\\nモデルの最適化を開始します...\")\n",
        "status = model.optimize()\n",
        "\n",
        "# --- 結果の表示 ---\n",
        "if status == mip.OptimizationStatus.OPTIMAL:\n",
        "    print(f\"最小ビン数: {int(model.objective_value)}\")\n",
        "    print(\"\\n各ビンの内容:\")\n",
        "    for j in range(num_bins):\n",
        "        # y_j.x は変数の値（0か1）を取得する。浮動小数点数の誤差を考慮し、0.99以上を1とみなす\n",
        "        if y[j].x >= 0.99:\n",
        "            bin_items = []\n",
        "            bin_weight = 0\n",
        "            for i in range(num_items):\n",
        "                if x[i][j].x >= 0.99:\n",
        "                    bin_items.append(item_weights[i])\n",
        "                    bin_weight += item_weights[i]\n",
        "            print(f\"  ビン {j}: アイテム {bin_items}, 合計サイズ: {bin_weight}\")\n",
        "elif status == mip.OptimizationStatus.INFEASIBLE:\n",
        "    print(\"実行不可能: 解が存在しません。\")\n",
        "else:\n",
        "    print(f\"最適化ステータス: {status}\")"
      ],
      "outputs": [
        {
          "output_type": "stream",
          "name": "stdout",
          "text": [
            "\n",
            "モデルの最適化を開始します...\n",
            "最小ビン数: 3\n",
            "\n",
            "各ビンの内容:\n",
            "  ビン 1: アイテム [5, 4, 1], 合計サイズ: 10\n",
            "  ビン 2: アイテム [2, 8], 合計サイズ: 10\n",
            "  ビン 3: アイテム [7, 3], 合計サイズ: 10\n"
          ]
        }
      ],
      "execution_count": 2,
      "metadata": {
        "colab": {
          "base_uri": "https://localhost:8080/"
        },
        "id": "Ls3BFSDtExir",
        "outputId": "926b028f-f24f-4409-fcc3-b4ae1194d54d"
      }
    },
    {
      "cell_type": "markdown",
      "source": [
        "-----\n",
        "\n",
        "## 演習問題2\n",
        "\n",
        "演習問題1と同じアイテムで、ビンの容量を変更した問題を解きます。\n",
        "\n",
        "  * アイテムのサイズ: $W = [2, 5, 4, 7, 1, 3, 8]$\n",
        "  * ビンの容量: $C = 12$\n",
        "\n",
        "###数理モデルでの定式化\n",
        "\n",
        "モデルの構造は演習問題1と同一で、パラメータ $C$ のみが変更されます。\n",
        "\n",
        "###Python (MIP) による実装\n"
      ],
      "metadata": {
        "id": "K79vpTx5Exir"
      }
    },
    {
      "cell_type": "code",
      "source": [
        "import mip\n",
        "\n",
        "# --- 演習問題3 データ ---\n",
        "# アイテムのサイズ\n",
        "item_weights = [2, 5, 4, 7, 1, 3, 8]\n",
        "# ビンの容量\n",
        "bin_capacity = 12\n",
        "# アイテムの数\n",
        "num_items = len(item_weights)\n",
        "# 利用可能なビンの最大数\n",
        "num_bins = num_items\n",
        "\n",
        "# --- モデルの作成 ---\n",
        "model = mip.Model(name=\"bin_packing_3\", sense=mip.MINIMIZE)\n",
        "\n",
        "# --- 変数の定義 ---\n",
        "x = [[model.add_var(var_type=mip.BINARY, name=f\"x_{i}_{j}\") for j in range(num_bins)] for i in range(num_items)]\n",
        "y = [model.add_var(var_type=mip.BINARY, name=f\"y_{j}\") for j in range(num_bins)]\n",
        "\n",
        "# --- 目的関数の設定 ---\n",
        "model.objective = mip.xsum(y[j] for j in range(num_bins))\n",
        "\n",
        "# --- 制約条件の追加 ---\n",
        "# 制約1: 各アイテムは正確に一つのビンに割り当てられる\n",
        "for i in range(num_items):\n",
        "    model += mip.xsum(x[i][j] for j in range(num_bins)) == 1, f\"item_assignment_{i}\"\n",
        "\n",
        "# 制約2: 各ビンの容量制約\n",
        "for j in range(num_bins):\n",
        "    model += mip.xsum(item_weights[i] * x[i][j] for i in range(num_items)) <= bin_capacity * y[j], f\"capacity_{j}\"\n",
        "\n",
        "# --- 問題の求解 ---\n",
        "print(\"\\nモデルの最適化を開始します...\")\n",
        "status = model.optimize()\n",
        "\n",
        "# --- 結果の表示 ---\n",
        "if status == mip.OptimizationStatus.OPTIMAL:\n",
        "    print(f\"最小ビン数: {int(model.objective_value)}\")\n",
        "    print(\"\\n各ビンの内容:\")\n",
        "    for j in range(num_bins):\n",
        "        if y[j].x >= 0.99:\n",
        "            bin_items = []\n",
        "            bin_weight = 0\n",
        "            for i in range(num_items):\n",
        "                if x[i][j].x >= 0.99:\n",
        "                    bin_items.append(item_weights[i])\n",
        "                    bin_weight += item_weights[i]\n",
        "            print(f\"  ビン {j}: アイテム {bin_items}, 合計サイズ: {bin_weight}\")\n",
        "elif status == mip.OptimizationStatus.INFEASIBLE:\n",
        "    print(\"実行不可能: 解が存在しません。\")\n",
        "else:\n",
        "    print(f\"最適化ステータス: {status}\")"
      ],
      "outputs": [
        {
          "output_type": "stream",
          "name": "stdout",
          "text": [
            "\n",
            "モデルの最適化を開始します...\n",
            "最小ビン数: 3\n",
            "\n",
            "各ビンの内容:\n",
            "  ビン 0: アイテム [1, 3, 8], 合計サイズ: 12\n",
            "  ビン 3: アイテム [4, 7], 合計サイズ: 11\n",
            "  ビン 6: アイテム [2, 5], 合計サイズ: 7\n"
          ]
        }
      ],
      "execution_count": 4,
      "metadata": {
        "colab": {
          "base_uri": "https://localhost:8080/"
        },
        "id": "FHUAoExkExis",
        "outputId": "6b04c1a6-3994-4eb2-fee1-bbfc4c01c458"
      }
    },
    {
      "cell_type": "markdown",
      "source": [
        "-----\n",
        "\n",
        "## 演習問題3\n",
        "\n",
        "演習問題1の条件に、以下の追加制約を加えた問題を解く\n",
        "\n",
        "  * アイテムのサイズ: $W = [2, 5, 4, 7, 1, 3, 8]$\n",
        "  * ビンの容量: $C = 10$\n",
        "  * **追加制約**: アイテム0 (サイズ2) とアイテム6 (サイズ8) は、同じビンに入れてはならない。\n",
        "\n",
        "###数理モデルでの定式化\n",
        "\n",
        "基本モデルに、以下の新しい制約を追加する。\n",
        "\n",
        "  * **追加制約（非同居制約）**:\n",
        "    任意のビン $j$ において、アイテム0とアイテム6が同時に存在することはできません。これは、変数 $x\\_{0j}$ と $x\\_{6j}$ が同時に1になることを防ぐことで表現できます。\n",
        "    $$x_{0j} + x_{6j} \\le 1 \\quad (\\forall j \\in \\{0, 1, ..., m-1\\})$$\n",
        "    この制約により、各ビン $j$ にはアイテム0かアイテム6のどちらか一方、もしくはいずれも入らない、という状態が保証されます。\n",
        "\n",
        "###Python (MIP) による実装\n"
      ],
      "metadata": {
        "id": "qc-zVCoyExis"
      }
    },
    {
      "cell_type": "code",
      "source": [
        "import mip\n",
        "\n",
        "# --- 演習問題4 データ ---\n",
        "# アイテムのサイズ\n",
        "item_weights = [2, 5, 4, 7, 1, 3, 8]\n",
        "# ビンの容量\n",
        "bin_capacity = 10\n",
        "# アイテムの数\n",
        "num_items = len(item_weights)\n",
        "# 利用可能なビンの最大数\n",
        "num_bins = num_items\n",
        "\n",
        "# 非同居制約の対象アイテムのインデックス\n",
        "item_a_idx = 0\n",
        "item_b_idx = 6\n",
        "\n",
        "# --- モデルの作成 ---\n",
        "model = mip.Model(name=\"bin_packing_4\", sense=mip.MINIMIZE)\n",
        "\n",
        "# --- 変数の定義 ---\n",
        "x = [[model.add_var(var_type=mip.BINARY, name=f\"x_{i}_{j}\") for j in range(num_bins)] for i in range(num_items)]\n",
        "y = [model.add_var(var_type=mip.BINARY, name=f\"y_{j}\") for j in range(num_bins)]\n",
        "\n",
        "# --- 目的関数の設定 ---\n",
        "model.objective = mip.xsum(y[j] for j in range(num_bins))\n",
        "\n",
        "# --- 制約条件の追加 ---\n",
        "# 制約1: 各アイテムは正確に一つのビンに割り当てられる\n",
        "for i in range(num_items):\n",
        "    model += mip.xsum(x[i][j] for j in range(num_bins)) == 1, f\"item_assignment_{i}\"\n",
        "\n",
        "# 制約2: 各ビンの容量制約\n",
        "for j in range(num_bins):\n",
        "    model += mip.xsum(item_weights[i] * x[i][j] for i in range(num_items)) <= bin_capacity * y[j], f\"capacity_{j}\"\n",
        "\n",
        "# ★追加制約3: 特定アイテムの非同居制約\n",
        "for j in range(num_bins):\n",
        "    model += x[item_a_idx][j] + x[item_b_idx][j] <= 1, f\"incompatible_{item_a_idx}_{item_b_idx}_in_bin_{j}\"\n",
        "\n",
        "# --- 問題の求解 ---\n",
        "print(\"\\nモデルの最適化を開始します...\")\n",
        "status = model.optimize()\n",
        "\n",
        "# --- 結果の表示 ---\n",
        "if status == mip.OptimizationStatus.OPTIMAL:\n",
        "    print(f\"最小ビン数: {int(model.objective_value)}\")\n",
        "    print(\"\\n各ビンの内容:\")\n",
        "    for j in range(num_bins):\n",
        "        if y[j].x >= 0.99:\n",
        "            bin_items = []\n",
        "            bin_weight = 0\n",
        "            for i in range(num_items):\n",
        "                if x[i][j].x >= 0.99:\n",
        "                    bin_items.append(item_weights[i])\n",
        "                    bin_weight += item_weights[i]\n",
        "            print(f\"  ビン {j}: アイテム {bin_items}, 合計サイズ: {bin_weight}\")\n",
        "else:\n",
        "    print(f\"最適化ステータス: {status}\")"
      ],
      "outputs": [
        {
          "output_type": "stream",
          "name": "stdout",
          "text": [
            "\n",
            "モデルの最適化を開始します...\n",
            "最小ビン数: 4\n",
            "\n",
            "各ビンの内容:\n",
            "  ビン 0: アイテム [1, 8], 合計サイズ: 9\n",
            "  ビン 1: アイテム [4], 合計サイズ: 4\n",
            "  ビン 5: アイテム [2, 5, 3], 合計サイズ: 10\n",
            "  ビン 6: アイテム [7], 合計サイズ: 7\n"
          ]
        }
      ],
      "execution_count": 5,
      "metadata": {
        "colab": {
          "base_uri": "https://localhost:8080/"
        },
        "id": "-b2IWoLzExis",
        "outputId": "babb14bb-f18d-40a4-ef23-80f835eab5b5"
      }
    },
    {
      "cell_type": "markdown",
      "source": [
        "-----\n",
        "## 演習問題4\n",
        "\n",
        "演習問題1の条件に、以下の追加制約を加えた問題を解きます。\n",
        "\n",
        "  * アイテムのサイズ: $W = [2, 5, 4, 7, 1, 3, 8]$\n",
        "  * ビンの容量: $C = 10$\n",
        "  * **追加制約**: 各ビンに入れられるアイテムの最大数は2個\n",
        "\n",
        "###数理モデルでの定式化\n",
        "\n",
        "基本モデルに、ビンごとのアイテム数を制限する制約を追加します。\n",
        "\n",
        "  * **追加制約（最大アイテム数制約）**:\n",
        "  任意のビン $j$ に入っているアイテムの総数は、最大で2個までです。ビン $j$ に入っているアイテムの数は $\\sum_{i=0}^{n-1} x_{ij}$ で計算できます。\n",
        "  $$\\sum_{i=0}^{n-1} x_{ij} \\le 2 \\cdot y_j \\quad (\\forall j \\in \\{0, 1, ..., m-1\\})$$\n",
        "  $y_j$ を右辺に含めることで、この制約が使用されるビン ($y_j=1$) に対してのみ有効になるようにしています。もしビンが使われなければ ($y_j=0$)、左辺は0となり、対応する $x_{ij}$ も0となる。\n",
        "\n",
        "###Python (MIP) による実装\n"
      ],
      "metadata": {
        "id": "BXXZql0tExis"
      }
    },
    {
      "cell_type": "code",
      "source": [
        "import mip\n",
        "\n",
        "# --- 演習問題5 データ ---\n",
        "# アイテムのサイズ\n",
        "item_weights = [2, 5, 4, 7, 1, 3, 8]\n",
        "# ビンの容量\n",
        "bin_capacity = 10\n",
        "# アイテムの数\n",
        "num_items = len(item_weights)\n",
        "# 利用可能なビンの最大数\n",
        "num_bins = num_items\n",
        "# 各ビンの最大アイテム数\n",
        "max_items_in_bin = 2\n",
        "\n",
        "# --- モデルの作成 ---\n",
        "model = mip.Model(name=\"bin_packing_5\", sense=mip.MINIMIZE)\n",
        "\n",
        "# --- 変数の定義 ---\n",
        "x = [[model.add_var(var_type=mip.BINARY, name=f\"x_{i}_{j}\") for j in range(num_bins)] for i in range(num_items)]\n",
        "y = [model.add_var(var_type=mip.BINARY, name=f\"y_{j}\") for j in range(num_bins)]\n",
        "\n",
        "# --- 目的関数の設定 ---\n",
        "model.objective = mip.xsum(y[j] for j in range(num_bins))\n",
        "\n",
        "# --- 制約条件の追加 ---\n",
        "# 制約1: 各アイテムは正確に一つのビンに割り当てられる\n",
        "for i in range(num_items):\n",
        "    model += mip.xsum(x[i][j] for j in range(num_bins)) == 1, f\"item_assignment_{i}\"\n",
        "\n",
        "# 制約2: 各ビンの容量制約\n",
        "for j in range(num_bins):\n",
        "    model += mip.xsum(item_weights[i] * x[i][j] for i in range(num_items)) <= bin_capacity * y[j], f\"capacity_{j}\"\n",
        "\n",
        "# ★追加制約3: 各ビンの最大アイテム数制約\n",
        "for j in range(num_bins):\n",
        "    model += mip.xsum(x[i][j] for i in range(num_items)) <= max_items_in_bin * y[j], f\"cardinality_{j}\"\n",
        "\n",
        "# --- 問題の求解 ---\n",
        "print(\"\\nモデルの最適化を開始します...\")\n",
        "status = model.optimize()\n",
        "\n",
        "# --- 結果の表示 ---\n",
        "if status == mip.OptimizationStatus.OPTIMAL:\n",
        "    print(f\"最小ビン数: {int(model.objective_value)}\")\n",
        "    print(\"\\n各ビンの内容:\")\n",
        "    for j in range(num_bins):\n",
        "        if y[j].x >= 0.99:\n",
        "            bin_items = []\n",
        "            bin_weight = 0\n",
        "            for i in range(num_items):\n",
        "                if x[i][j].x >= 0.99:\n",
        "                    bin_items.append(item_weights[i])\n",
        "                    bin_weight += item_weights[i]\n",
        "            print(f\"  ビン {j}: アイテム {bin_items}, 合計サイズ: {bin_weight}\")\n",
        "else:\n",
        "    print(f\"最適化ステータス: {status}\")"
      ],
      "outputs": [
        {
          "output_type": "stream",
          "name": "stdout",
          "text": [
            "\n",
            "モデルの最適化を開始します...\n",
            "最小ビン数: 4\n",
            "\n",
            "各ビンの内容:\n",
            "  ビン 1: アイテム [8], 合計サイズ: 8\n",
            "  ビン 2: アイテム [2, 7], 合計サイズ: 9\n",
            "  ビン 4: アイテム [5, 3], 合計サイズ: 8\n",
            "  ビン 6: アイテム [4, 1], 合計サイズ: 5\n"
          ]
        }
      ],
      "execution_count": 6,
      "metadata": {
        "colab": {
          "base_uri": "https://localhost:8080/"
        },
        "id": "OWYJkTlkExis",
        "outputId": "e9cd0c7f-0009-4b43-cfa3-53506c5a2505"
      }
    },
    {
      "cell_type": "markdown",
      "source": [
        "-----\n",
        "## 演習問題5\n",
        "\n",
        "アイテムにカテゴリが設定され、特定のカテゴリのアイテムを同じビンに多数入れられない制約が加わります。\n",
        "\n",
        "  * アイテムのサイズ: $W = [2, 5, 4, 7, 1, 3, 8]$\n",
        "  * アイテムのカテゴリ: `[\"通常品\", \"壊れ物\", \"通常品\", \"壊れ物\", \"通常品\", \"通常品\", \"壊れ物\"]`\n",
        "  * ビンの容量: $C = 10$\n",
        "  * **追加制約**: 各ビンに入れられる「壊れ物」カテゴリのアイテムは最大1個。\n",
        "\n",
        "###数理モデルでの定式化\n",
        "\n",
        "基本モデルに、カテゴリに関する制約を追加します。\n",
        "\n",
        "  * **パラメータの追加**:\n",
        "  $I_{fragile} \\subseteq I$: 「壊れ物」カテゴリに属するアイテムのインデックスの集合。この問題では、$I_{fragile} = \\{1, 3, 6\\}$ となります。\n",
        "\n",
        "  * **追加制約（カテゴリ制約）**:\n",
        "  任意のビン $j$ に入っている「壊れ物」の総数は、最大で1個までです。\n",
        "  $$\\sum_{i \\in I_{fragile}} x_{ij} \\le 1 \\times y_j \\quad (\\forall j \\in \\{0, 1, ..., m-1\\})$$\n",
        "  この制約により、ビン $j$ が使われていれば「壊れ物」が1つだけ入るか、全く入らないかのどちらかであることが保証されます。\n",
        "\n",
        "### Python (MIP) による実装\n"
      ],
      "metadata": {
        "id": "_gjErzHUExit"
      }
    },
    {
      "cell_type": "code",
      "source": [
        "import mip\n",
        "\n",
        "# --- 演習問題6 データ ---\n",
        "# アイテムのサイズ\n",
        "item_weights = [2, 5, 4, 7, 1, 3, 8]\n",
        "# アイテムのカテゴリ\n",
        "categories = [\"通常品\", \"壊れ物\", \"通常品\", \"壊れ物\", \"通常品\", \"通常品\", \"壊れ物\"]\n",
        "# ビンの容量\n",
        "bin_capacity = 10\n",
        "# アイテムの数\n",
        "num_items = len(item_weights)\n",
        "# 利用可能なビンの最大数\n",
        "num_bins = num_items\n",
        "\n",
        "# 「壊れ物」カテゴリのアイテムのインデックスを特定\n",
        "fragile_item_indices = [i for i, category in enumerate(categories) if category == \"壊れ物\"]\n",
        "\n",
        "# --- モデルの作成 ---\n",
        "model = mip.Model(name=\"bin_packing_6\", sense=mip.MINIMIZE)\n",
        "\n",
        "# --- 変数の定義 ---\n",
        "x = [[model.add_var(var_type=mip.BINARY, name=f\"x_{i}_{j}\") for j in range(num_bins)] for i in range(num_items)]\n",
        "y = [model.add_var(var_type=mip.BINARY, name=f\"y_{j}\") for j in range(num_bins)]\n",
        "\n",
        "# --- 目的関数の設定 ---\n",
        "model.objective = mip.xsum(y[j] for j in range(num_bins))\n",
        "\n",
        "# --- 制約条件の追加 ---\n",
        "# 制約1: 各アイテムは正確に一つのビンに割り当てられる\n",
        "for i in range(num_items):\n",
        "    model += mip.xsum(x[i][j] for j in range(num_bins)) == 1, f\"item_assignment_{i}\"\n",
        "\n",
        "# 制約2: 各ビンの容量制約\n",
        "for j in range(num_bins):\n",
        "    model += mip.xsum(item_weights[i] * x[i][j] for i in range(num_items)) <= bin_capacity * y[j], f\"capacity_{j}\"\n",
        "\n",
        "# ★追加制約3: 各ビンに入れられる壊れ物の最大数制約\n",
        "for j in range(num_bins):\n",
        "    model += mip.xsum(x[i][j] for i in fragile_item_indices) <= y[j], f\"fragile_limit_{j}\"\n",
        "\n",
        "# --- 問題の求解 ---\n",
        "print(\"\\nモデルの最適化を開始します...\")\n",
        "status = model.optimize()\n",
        "\n",
        "# --- 結果の表示 ---\n",
        "if status == mip.OptimizationStatus.OPTIMAL:\n",
        "    print(f\"最小ビン数: {int(model.objective_value)}\")\n",
        "    print(\"\\n各ビンの内容:\")\n",
        "    for j in range(num_bins):\n",
        "        if y[j].x >= 0.99:\n",
        "            bin_items = []\n",
        "            bin_weight = 0\n",
        "            item_indices = []\n",
        "            for i in range(num_items):\n",
        "                if x[i][j].x >= 0.99:\n",
        "                    bin_items.append(f\"{item_weights[i]} ({categories[i]})\")\n",
        "                    bin_weight += item_weights[i]\n",
        "            print(f\"  ビン {j}: アイテム {bin_items}, 合計サイズ: {bin_weight}\")\n",
        "else:\n",
        "    print(f\"最適化ステータス: {status}\")"
      ],
      "outputs": [
        {
          "output_type": "stream",
          "name": "stdout",
          "text": [
            "\n",
            "モデルの最適化を開始します...\n",
            "最小ビン数: 3\n",
            "\n",
            "各ビンの内容:\n",
            "  ビン 1: アイテム ['2 (通常品)', '8 (壊れ物)'], 合計サイズ: 10\n",
            "  ビン 2: アイテム ['7 (壊れ物)', '3 (通常品)'], 合計サイズ: 10\n",
            "  ビン 4: アイテム ['5 (壊れ物)', '4 (通常品)', '1 (通常品)'], 合計サイズ: 10\n"
          ]
        }
      ],
      "execution_count": 8,
      "metadata": {
        "colab": {
          "base_uri": "https://localhost:8080/"
        },
        "id": "eIizGKDKExit",
        "outputId": "fe58f457-2f1a-4437-b086-e66f98c8892e"
      }
    }
  ],
  "metadata": {
    "colab": {
      "provenance": [],
      "include_colab_link": true
    },
    "kernelspec": {
      "display_name": "Python 3",
      "name": "python3"
    }
  },
  "nbformat": 4,
  "nbformat_minor": 0
}