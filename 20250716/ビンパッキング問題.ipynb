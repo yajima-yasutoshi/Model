{
  "cells": [
    {
      "cell_type": "markdown",
      "metadata": {
        "id": "view-in-github",
        "colab_type": "text"
      },
      "source": [
        "<a href=\"https://colab.research.google.com/github/yajima-yasutoshi/Model/blob/main/20250716/%E3%83%93%E3%83%B3%E3%83%91%E3%83%83%E3%82%AD%E3%83%B3%E3%82%B0%E5%95%8F%E9%A1%8C.ipynb\" target=\"_parent\"><img src=\"https://colab.research.google.com/assets/colab-badge.svg\" alt=\"Open In Colab\"/></a>"
      ]
    },
    {
      "cell_type": "markdown",
      "source": [
        "#準備"
      ],
      "metadata": {
        "id": "A0SAYRFrGW0u"
      }
    },
    {
      "cell_type": "code",
      "source": [
        "%%capture\n",
        "# python-mip ライブラリをインストールする\n",
        "!pip install mip\n",
        "\n",
        "# 必要なライブラリをインポートする\n",
        "import mip\n",
        "import numpy as np\n",
        "import matplotlib.pyplot as plt\n",
        "import seaborn as sns"
      ],
      "outputs": [],
      "execution_count": null,
      "metadata": {
        "id": "g0UVesS4GTDL"
      }
    },
    {
      "cell_type": "markdown",
      "source": [
        "#ビンパッキング問題\n",
        "\n",
        "この講義では、「ビンパッキング問題 (Bin Packing Problem, BPP)」について学びます。\n",
        "\n",
        "本講義の目標は以下の通りです。\n",
        "\n",
        "1.  ビンパッキング問題の基本的な概念と、それが実社会でどのように利用されているかを理解する。\n",
        "2.  ビンパッキング問題を数理モデルとして定式化する手法を習得する。\n",
        "3.  Pythonの最適化ライブラリ `python-mip` を用いて、ビンパッキング問題を実際に解くプログラミングスキルを身につける。\n"
      ],
      "metadata": {
        "id": "y8kyQn5T-P8-"
      }
    },
    {
      "cell_type": "markdown",
      "source": [
        "## 問題の定義\n",
        "\n",
        "ビンパッキング問題とは、与えられた複数のアイテム（それぞれ異なるサイズまたは重さを持つ）を、容量が均一な複数のビン（容器）に詰める際に、使用するビンの数を最小限に抑えるにはどうすればよいか、という問題である。\n",
        "\n",
        "  * **入力**:\n",
        "      * アイテムの集合\n",
        "  $I = \\{0, 1, \\dots, n-1\\}$\n",
        "      * 各アイテム $i \\\\in I$ のサイズ（または重さ） $w\\_i$\n",
        "      * 各ビンの均一な容量$C$\n",
        "  * **出力**:\n",
        "      * 各アイテムをどのビンに割り当てるかの決定\n",
        "  * **目的**:\n",
        "      * 使用するビンの総数を最小化する\n",
        "\n",
        "この問題は、組み合わせ最適化問題の中でも\n",
        "最適化を行うことが非常に困難な問題として知られており、\n",
        "アイテムの数が増えると厳密な最適解を求めることが\n",
        "非常に困難になる場合がある。\n",
        "\n",
        "このような問題は**NP困難**な問題と呼ばれる。\n",
        "\n",
        "## 簡単な例題\n",
        "\n",
        "  * アイテムのサイズリスト $W = [4, 8, 1, 4, 2, 1]$\n",
        "  * ビンの容量 $C = 10$\n",
        "  \n",
        "これらのアイテムを、容量10のビンに最小限の数で詰めることを考える。\n",
        "例えば、以下のような詰め方が考えられる。\n",
        "\n",
        "  * ビン1: [8, 1, 1] (合計サイズ: 10)\n",
        "  * ビン2: [4, 4, 2] (合計サイズ: 10)\n",
        "\n",
        "この例では、2つのビンで全てのアイテムを詰めることができた。\n",
        "\n",
        "では、\n",
        "アイテムが増加して、\n",
        "$$W = [4, 8, 1, 4, 2, 1, 6, 5, 3, 7]$$\n",
        "となった場合、いくつのビンが最小となるだろうか？\n",
        "\n",
        "\n",
        "### 実社会での応用例\n",
        "\n",
        "ビンパッキング問題は、その単純な定義にも関わらず、多くの実社会の問題に応用されている。\n",
        "\n",
        "  * **物流・輸送**:\n",
        "      * トラックやコンテナに荷物を積み込む際に、最小限の車両数・コンテナ数で輸送する計画。各荷物がアイテム、トラックやコンテナがビンに相当する。\n",
        "  * **資源割り当て**:\n",
        "      * クラウドコンピューティング環境において、複数の仮想マシン（アイテム）を物理サーバー（ビン）に割り当てる際、使用する物理サーバーの台数を最小化する。\n",
        "      * 広告スペース（ビン）に、異なるサイズの広告（アイテム）を割り当てる。\n",
        "  * **時間枠スケジューリング**:\n",
        "      * 複数のタスク（アイテム、処理時間を持つ）を、時間枠（ビン、利用可能時間がある）に割り当てる。\n",
        "\n",
        "これらの例からわかるように、ビンパッキング問題の考え方は、限られた資源を効率的に利用するための基本的な枠組みを提供している。"
      ],
      "metadata": {
        "id": "OSGeS3vX-P8-"
      }
    },
    {
      "cell_type": "markdown",
      "source": [
        "## 数理モデルによる定式化\n",
        "\n",
        "ビンパッキング問題を解くために、数理モデルを定義する。\n",
        "ここでは整数計画問題として定式化する。\n",
        "\n",
        "### 決定変数\n",
        "\n",
        "問題を解くために我々が決定すべきことは、「どのアイテムをどのビンに入れるか」そして「どのビンを使用するか」である。これらを決定変数として定義する。\n",
        "\n",
        "  * $x_{ij}$: アイテム $i$ をビン $j$ に入れるならば $1$、そうでないならば $0$ をとるバイナリ変数。ただし、\n",
        "      *\n",
        "  $i \\in \\{0, 1, \\dots, n-1\\}$ （アイテムのインデックス）\n",
        "      *\n",
        "  $j \\in \\{0, 1, \\dots, m-1\\}$ （ビンのインデックス）\n",
        "      * $n$ は総アイテム数。$m$ は使用可能性のあるビンの最大数。\n",
        "      一般には、$m$ は $n$ と同じ値（各アイテムが別々のビンに入る最悪ケース）に設定することが多い。\n",
        "\n",
        "  * $y_j$: ビン $j$ を使用するならば $1$、そうでないならば $0$ をとるバイナリ変数。\n",
        "      *\n",
        "  $j \\in \\{0, 1, \\dots, m-1\\}$\n",
        "\n",
        "### パラメータ\n",
        "\n",
        "問題の条件として与えられる値をパラメータとして定義する。\n",
        "\n",
        "  * $w_i$: アイテム $i$ のサイズ（または重さ）。当然、アイテムのサイズはビンの容量以下とする。\n",
        "  * $C$: 各ビンの容量（または入れることができる総重量の上限）。\n",
        "  * $n$: アイテムの総数。\n",
        "  * $m$: 利用可能なビンの最大数（通常は $n$ とする）。\n",
        "\n",
        "### 目的関数\n",
        "\n",
        "この問題の目的は「使用するビンの総数を最小化する」ことである。\n",
        "これは、$y_j$ を用いて以下のように表現できる。\n",
        "\n",
        "$$\\min \\sum_{j=0}^{m-1} y_j$$\n",
        "\n",
        "この式は、使用されるビン（$y_j=1$ となるビン）の数を合計し、それを最小にすることを意味する。\n",
        "\n",
        "### 制約条件\n",
        "\n",
        "アイテムをビンに詰める際には、以下のルール（制約条件）を守らなければならない。\n",
        "\n",
        "1.  **各アイテムは、正確に一つのビンに割り当てられる**: \\\\\n",
        "  各アイテム $i$ は、いずれかのビン $j$ のどれか一つに必ず入らなければならない。\n",
        "  $$\n",
        "    \\sum_{j=0}^{m-1} x_{ij} = 1, \\quad \\forall i \\in \\{0, 1, \\dots, n-1\\}\n",
        "  $$\n",
        "\n",
        "2.  **各ビンの容量制約**: \\\\\n",
        "  各ビン $j$ に入れられたアイテムのサイズの合計は、そのビンの容量 $C$ を超えてはならない。また、この制約はビン $j$ が使用される場合 ($y_j=1$) にのみ有効であるべきである。ビン $j$ が使用されない場合 ($y_j=0$) は、そのビンにアイテムを入れることはできない。これは以下のように表現できる。\n",
        "  $$\n",
        "  \\sum_{i=0}^{n-1} w_i x_{ij} \\leq C \\cdot y_j \\quad \\forall j \\in \\{0, 1, \\dots, m-1\\}\n",
        "  $$\n",
        "  もしビン $j$ が使用されない ($y_j=0$) ならば、右辺は $0$ となり、\n",
        "  $\\sum w_i x_{ij} \\leq 0$ となる。$w_i > 0$ であるため、これは全ての $x_{ij}$ が $0$ であることを意味し、そのビンには何も入れられないことを示す。もしビン $j$ が使用される ($y_j=1$) ならば、$\\sum w_i x_{ij} \\leq C$ となり、通常の容量制約となる。\n",
        "\n",
        "### 数理モデルのまとめ\n",
        "\n",
        "以上をまとめると、ビンパッキング問題の整数計画モデルは以下のようになる。\n",
        "\n",
        "**目的関数**:\n",
        "$$\\min \\sum_{j=0}^{m-1} y_j$$\n",
        "\n",
        "**制約条件**:\n",
        "$$\\sum_{j=0}^{m-1} x_{ij} = 1 \\quad \\forall i \\in \\{0, 1, \\dots, n-1\\} \\quad \\text{(アイテム割り当て制約)}$$\n",
        "$$\\sum_{i=0}^{n-1} w_i x_{ij} \\leq C \\cdot y_j \\quad \\forall j \\in \\{0, 1, \\dots, m-1\\} \\quad \\text{(容量制約)}$$\n",
        "$$x_{ij} \\in \\{0, 1\\} \\quad \\forall i, j \\quad \\text{(変数型制約)}$$\n",
        "$$y_j \\in \\{0, 1\\} \\quad \\forall j \\quad \\text{(変数型制約)}$$\n",
        "\n",
        "この定式化により、ビンパッキング問題は0－1整数計画問題として解ける形となった。"
      ],
      "metadata": {
        "id": "gDkk7xZb-P8_"
      }
    },
    {
      "cell_type": "markdown",
      "source": [
        "## Python MIP を用いた実装\n"
      ],
      "metadata": {
        "id": "4lpkG8YL-P8_"
      }
    },
    {
      "cell_type": "markdown",
      "source": [
        "### 問題データの設定\n",
        "\n",
        "例として、以下のデータを用いてビンパッキング問題を解いてみよう。\n",
        "\n",
        "  * アイテムのサイズ\n",
        "$$\n",
        "W = [4, 8, 1, 4, 2, 1, 6, 5, 3, 7]\n",
        "$$\n",
        "  * ビンの容量\n",
        "$$C = 10$$\n"
      ],
      "metadata": {
        "id": "GVLUo9ml-P9A"
      }
    },
    {
      "cell_type": "code",
      "source": [
        "# アイテムのサイズ\n",
        "item_weights = [4, 8, 1, 4, 2, 1, 6, 5, 3, 7]\n",
        "# ビンの容量\n",
        "bin_capacity = 10\n",
        "\n",
        "# アイテムの数\n",
        "num_items = len(item_weights)\n",
        "# 利用可能なビンの最大数 (アイテム数と同じにする)\n",
        "num_bins = num_items\n",
        "\n",
        "print(f\"アイテムの数: {num_items}\")\n",
        "print(f\"アイテムのサイズ: {item_weights}\")\n",
        "print(f\"ビンの容量: {bin_capacity}\")\n",
        "print(f\"利用可能なビンの最大数: {num_bins}\")"
      ],
      "outputs": [
        {
          "output_type": "stream",
          "name": "stdout",
          "text": [
            "アイテムの数: 10\n",
            "アイテムのサイズ: [4, 8, 1, 4, 2, 1, 6, 5, 3, 7]\n",
            "ビンの容量: 10\n",
            "利用可能なビンの最大数: 10\n"
          ]
        }
      ],
      "execution_count": null,
      "metadata": {
        "colab": {
          "base_uri": "https://localhost:8080/"
        },
        "id": "P20zqgHW-P9A",
        "outputId": "de919304-3e35-48a9-836a-13b8eb19d901"
      }
    },
    {
      "cell_type": "markdown",
      "source": [
        "### モデルの作成と変数の定義\n",
        "\n",
        "`python-mip` を使ってモデルを構築する。\n",
        "\n",
        "1.  `Model` オブジェクトを作成する。目的は最小化 (`sense=mip.MINIMIZE`) である。\n",
        "2.  決定変数 $x_{ij}$ と $y_j$ を定義する。\n",
        "これらはバイナリ変数 (`var_type=mip.BINARY`) である。\n"
      ],
      "metadata": {
        "id": "_eQyIww--P9A"
      }
    },
    {
      "cell_type": "code",
      "source": [
        "# 1. モデルの作成\n",
        "model = mip.Model(name=\"bin_packing\", sense=mip.MINIMIZE, solver_name=mip.CBC)\n",
        "\n",
        "# 2. 変数の定義\n",
        "# x_ij: アイテム i をビン j に入れる場合に 1\n",
        "x = [[model.add_var(var_type=mip.BINARY, name=f\"x_{i}_{j}\") for j in range(num_bins)] for i in range(num_items)]\n",
        "\n",
        "# y_j: ビン j を使用する場合に 1\n",
        "y = [model.add_var(var_type=mip.BINARY, name=f\"y_{j}\") for j in range(num_bins)]"
      ],
      "outputs": [],
      "execution_count": null,
      "metadata": {
        "id": "OjIDc0E7-P9A"
      }
    },
    {
      "cell_type": "markdown",
      "source": [
        "### 目的関数の設定\n",
        "\n",
        "モデルの目的関数を設定する。これは、使用するビンの総数 $\\sum y_j$ を最小化することである。`python-mip` の `xsum` は、\n",
        "リスト内の要素の合計を計算する関数である。"
      ],
      "metadata": {
        "id": "gT-GT2-0-P9A"
      }
    },
    {
      "cell_type": "code",
      "source": [
        "# 3. 目的関数の設定\n",
        "model.objective = mip.xsum(y[j] for j in range(num_bins))"
      ],
      "outputs": [],
      "execution_count": null,
      "metadata": {
        "id": "7MQXhCFd-P9A"
      }
    },
    {
      "cell_type": "markdown",
      "source": [
        "### 制約条件の追加\n",
        "\n",
        "次に、定式化した制約条件をモデルに追加する。\n",
        "\n",
        "1.  **各アイテムは、正確に一つのビンに割り当てられる**:\n",
        "$$\\sum_{j=0}^{m-1} x_{ij} = 1 \\quad \\forall i \\in \\{0, 1, \\dots, n-1\\}$$\n",
        "\n",
        "2.  **各ビンの容量制約**:\n",
        "$$\\sum_{i=0}^{n-1} w_i x_{ij} \\leq C \\cdot y_j \\quad \\forall j \\in \\{0, 1, \\dots, m-1\\}$$\n"
      ],
      "metadata": {
        "id": "RBSEgNjw-P9B"
      }
    },
    {
      "cell_type": "code",
      "source": [
        "# 4. 制約条件の追加\n",
        "\n",
        "# 制約1: 各アイテムは正確に一つのビンに割り当てられる\n",
        "for i in range(num_items):\n",
        "    model += mip.xsum(x[i][j] for j in range(num_bins)) == 1, f\"item_assignment_{i}\"\n",
        "\n",
        "# 制約2: 各ビンの容量制約\n",
        "for j in range(num_bins):\n",
        "    model += mip.xsum(item_weights[i] * x[i][j] for i in range(num_items)) <= bin_capacity * y[j], f\"capacity_constraint_{j}\""
      ],
      "outputs": [],
      "execution_count": null,
      "metadata": {
        "id": "fm3BB8mh-P9B"
      }
    },
    {
      "cell_type": "markdown",
      "source": [
        "### 問題の求解と結果の表示\n",
        "\n",
        "モデルの定義が完了したら、ソルバーを実行して最適解を求める。`model.optimize()` メソッドを呼び出す。求解結果（ステータス、目的関数値、変数の値など）を確認する。"
      ],
      "metadata": {
        "id": "Cw_bZRwt-P9B"
      }
    },
    {
      "cell_type": "code",
      "source": [
        "# 5. 問題の求解\n",
        "print(\"モデルの最適化を開始します...\")\n",
        "status = model.optimize()\n",
        "\n",
        "# 6. 結果の表示\n",
        "if status == mip.OptimizationStatus.OPTIMAL:\n",
        "    print(f\"最適解が見つかりました！\")\n",
        "    print(f\"最小ビン数: {int(model.objective_value)}\")\n",
        "\n",
        "    print(\"\\n各ビンの内容:\")\n",
        "    total_weight_check = 0\n",
        "    bins_content = [[] for _ in range(num_bins)]\n",
        "    item_assignments = {}\n",
        "\n",
        "    for j in range(num_bins):\n",
        "        if y[j].x >= 0.99: # y_j がほぼ 1 の場合 (浮動小数点誤差を考慮)\n",
        "            current_bin_weight = 0\n",
        "            current_bin_items_indices = []\n",
        "            for i in range(num_items):\n",
        "                if x[i][j].x >= 0.99: # x_ij がほぼ 1 の場合\n",
        "                    bins_content[j].append(item_weights[i])\n",
        "                    current_bin_items_indices.append(i)\n",
        "                    current_bin_weight += item_weights[i]\n",
        "                    item_assignments[i] = j\n",
        "            if bins_content[j]: # ビンが空でない場合のみ表示\n",
        "                 print(f\"  ビン {j}: アイテム (サイズ) {bins_content[j]} (インデックス: {current_bin_items_indices}), 合計サイズ: {current_bin_weight}\")\n",
        "            total_weight_check += current_bin_weight\n",
        "\n",
        "    print(f\"\\n全アイテムの総重量: {sum(item_weights)}\")\n",
        "    print(f\"割り当てられたアイテムの総重量の合計（確認用）: {total_weight_check}\")\n",
        "\n",
        "elif status == mip.OptimizationStatus.INFEASIBLE:\n",
        "    print(\"実行不可能: 解が存在しません。\")\n",
        "elif status == mip.OptimizationStatus.NO_SOLUTION_FOUND:\n",
        "    print(\"解が見つかりませんでした（時間制限など）。\")\n",
        "else:\n",
        "    print(f\"最適化ステータス: {status}\")"
      ],
      "outputs": [
        {
          "output_type": "stream",
          "name": "stdout",
          "text": [
            "モデルの最適化を開始します...\n",
            "最適解が見つかりました！\n",
            "最小ビン数: 5\n",
            "\n",
            "各ビンの内容:\n",
            "  ビン 1: アイテム (サイズ) [2, 3] (インデックス: [4, 8]), 合計サイズ: 5\n",
            "  ビン 3: アイテム (サイズ) [1, 7] (インデックス: [2, 9]), 合計サイズ: 8\n",
            "  ビン 7: アイテム (サイズ) [4, 5] (インデックス: [3, 7]), 合計サイズ: 9\n",
            "  ビン 8: アイテム (サイズ) [8, 1] (インデックス: [1, 5]), 合計サイズ: 9\n",
            "  ビン 9: アイテム (サイズ) [4, 6] (インデックス: [0, 6]), 合計サイズ: 10\n",
            "\n",
            "全アイテムの総重量: 41\n",
            "割り当てられたアイテムの総重量の合計（確認用）: 41\n"
          ]
        }
      ],
      "execution_count": null,
      "metadata": {
        "colab": {
          "base_uri": "https://localhost:8080/"
        },
        "id": "a1tmdT6h-P9B",
        "outputId": "83423bca-f373-456a-d012-2e67675f12b6"
      }
    },
    {
      "cell_type": "code",
      "source": [
        "#@title 結果の可視化\n",
        "if status == mip.OptimizationStatus.OPTIMAL:\n",
        "    # 結果の可視化 (どのアイテムがどのビンに入ったか)\n",
        "    if model.objective_value is not None and model.objective_value > 0 :\n",
        "        num_used_bins = int(model.objective_value)\n",
        "        active_bin_indices = [j for j in range(num_bins) if y[j].x >= 0.99]\n",
        "\n",
        "        # 充填率の計算と表示\n",
        "        bin_labels = []\n",
        "        filling_ratios = []\n",
        "        item_details_for_plot = []\n",
        "\n",
        "        plt.figure(figsize=(max(10, num_used_bins * 1.5), 6)) # ビン数に応じて幅を調整\n",
        "\n",
        "        bin_plot_idx = 0\n",
        "        for j in active_bin_indices:\n",
        "            items_in_this_bin = []\n",
        "            weights_in_this_bin = []\n",
        "            weight_sum = 0\n",
        "            for i in range(num_items):\n",
        "                if x[i][j].x >= 0.99:\n",
        "                    items_in_this_bin.append(f\"Item {i} ({item_weights[i]})\")\n",
        "                    weights_in_this_bin.append(item_weights[i])\n",
        "                    weight_sum += item_weights[i]\n",
        "\n",
        "            if not items_in_this_bin: # 中身が空のビンはスキップ（y_jが1でもx_ijが全て0の場合）\n",
        "                continue\n",
        "\n",
        "            bin_labels.append(f\"Bin {bin_plot_idx}\\n(Orig Idx {j})\")\n",
        "            filling_ratios.append(weight_sum / bin_capacity * 100)\n",
        "            item_details_for_plot.append(items_in_this_bin)\n",
        "            bin_plot_idx += 1\n",
        "\n",
        "\n",
        "        sns.barplot(x=bin_labels, y=filling_ratios, palette=\"viridis\", hue=bin_labels, dodge=False, legend=False) # hueとdodgeで各バーに異なる色、凡例なし\n",
        "        plt.ylabel(\"Filling Ratio (%)\")\n",
        "        plt.title(\"Bin Filling Ratios and Contents\")\n",
        "        plt.ylim(0, 110) # 100%を少し超えるようにして見やすくする\n",
        "\n",
        "        # 各バーに中身のアイテムを表示\n",
        "        for i, bin_label in enumerate(bin_labels):\n",
        "            details = \"\\n\".join(item_details_for_plot[i])\n",
        "            plt.text(i, filling_ratios[i] / 2 , details, ha='center', va='center', color='white', fontsize=8, bbox=dict(facecolor='black', alpha=0.5))\n",
        "            plt.text(i, filling_ratios[i] + 2, f\"{filling_ratios[i]:.1f}%\", ha='center', va='bottom', color='black', fontsize=9)\n",
        "\n",
        "        plt.tight_layout()\n",
        "        plt.show()\n",
        "\n",
        "elif status == mip.OptimizationStatus.INFEASIBLE:\n",
        "    print(\"実行不可能: 解が存在しません。\")\n",
        "elif status == mip.OptimizationStatus.NO_SOLUTION_FOUND:\n",
        "    print(\"解が見つかりませんでした（時間制限など）。\")\n",
        "else:\n",
        "    print(f\"最適化ステータス: {status}\")"
      ],
      "outputs": [
        {
          "output_type": "display_data",
          "data": {
            "text/plain": [
              "<Figure size 1000x600 with 1 Axes>"
            ],
            "image/png": "[encoded data removed]"
          },
          "metadata": {}
        }
      ],
      "execution_count": null,
      "metadata": {
        "colab": {
          "base_uri": "https://localhost:8080/",
          "height": 607
        },
        "outputId": "171317b1-9a06-4b9b-c151-21dfcf1520e7",
        "id": "b8CIz-nfHVuS",
        "cellView": "form"
      }
    },
    {
      "cell_type": "markdown",
      "source": [
        "### 求解結果の解釈と可視化について\n",
        "\n",
        "上記のコードでは、`model.optimize()` が `mip.OptimizationStatus.OPTIMAL` を返した場合、最適解が見つかったことを意味する。`model.objective_value` には目的関数の最適値（この場合は最小ビン数）が格納される。\n",
        "各変数 $x_{ij}$ および $y_j$ の最適値は、それぞれ\n",
        "```\n",
        "x[i][j].x\n",
        "```\n",
        "および\n",
        "```\n",
        "y[j].x\n",
        "```\n",
        "としてアクセスできる。これらは $0$ または $1$ をとる。\n",
        "（実際の計算には誤差が含まれるため、厳密に数値で0か1にはならないが、\n",
        "非常に近い数値として計算される）\n",
        "\n",
        "結果の表示部分では、どのビンが使用され ($y_j \\approx 1$)、\n",
        "各使用ビンにどのアイテムが格納されているか ($x_{ij} \\approx 1$)\n",
        "をリストアップしている。\n",
        "\n",
        "### 最適解の性質\n",
        "\n",
        "上のビンパッキング問題の場合、目的関数はビンの数であり、\n",
        "その最小値は5個と計算された。\n",
        "ただし、具体的なアイテムの詰め方は他にも考えられる（場合もある）。\n",
        "一般に、最適な値（この場合はビンの数）が求められても、\n",
        "最適化が複数存在する場合があることに注意が必要である。\n",
        "また、最適解が複数ある場合において、\n",
        "全ての最適解を列挙することは数学的に複雑な操作が必要となる。\n",
        "詳細は、講義の範囲を超えるのでここでは省略する。\n",
        "\n",
        "\n",
        "### モデルの改善に関する簡単な視点\n",
        "\n",
        "ビンパッキング問題はNP困難であるため、大規模な問題に対して厳密解を求めるには時間がかかりすぎることがある。そのような場合、以下のようなアプローチが考えられる。\n",
        "\n",
        "  * **対称性の排除**:\n",
        "      * 現在のモデルでは、例えばビン0とビン1が全く同じように使われる解は、ビン0とビン1の役割を入れ替えただけの別の解として扱われる。このような対称性があると、ソルバーの探索空間が無駄に広がる。\n",
        "      * 例えば、$y\\_j \\\\ge y\\_{j+1}$ のような制約を追加して、番号の若いビンから優先的に使うようにすることで、対称性を一部排除することで、計算の効率化につながる場合もある。\n",
        "  * **ビンの最大数の見積もり**:\n",
        "      * 使用するビンの数 $m$ の上限をよりタイトに設定できれば、変数の数を減らせる。例えば、アイテムの総重量をビンの容量で割った値（小数点以下切り上げ）は、必要なビン数の下限を与える。この不等式を追加しても構わない。\n"
      ],
      "metadata": {
        "id": "biRZSNpN-P9B"
      }
    },
    {
      "cell_type": "markdown",
      "source": [
        "---\n",
        "#演習問題"
      ],
      "metadata": {
        "id": "WVzbF6Gc9JnI"
      }
    },
    {
      "cell_type": "markdown",
      "source": [
        "各問題について、Python MIP を用いて解を求め、\n",
        "最小ビン数を解答せよ。\n",
        "\n",
        "-----\n",
        "##演習問題 1\n",
        "\n",
        "以下の条件でビンパッキング問題を解け。\n",
        "\n",
        "  * アイテムのサイズ: $W = [2, 5, 4, 7, 1, 3, 8]$\n",
        "  * ビンの容量: $C = 10$\n",
        "\n",
        "-----\n",
        "##演習問題 2\n",
        "\n",
        "以下の条件でビンパッキング問題を解け。\n",
        "\n",
        "  * アイテムのサイズ: $W = [2, 5, 4, 7, 1, 3, 8]$ （演習問題1と同じ）\n",
        "  * ビンの容量: $C = 12$\n",
        "\n",
        "-----\n",
        "##演習問題 3\n",
        "\n",
        "演習問題1の条件に加え、以下の制約が追加された問題を解け。\n",
        "「アイテム0（サイズ2）とアイテム6（サイズ8）は、同じビンに入れてはならない。」\n",
        "\n",
        "  * アイテムのサイズ: $W = [2, 5, 4, 7, 1, 3, 8]$\n",
        "  * ビンの容量: $C = 10$\n",
        "  * 追加制約: アイテム0とアイテム6は別々のビンに入れる。\n",
        "\n",
        "-----\n",
        "##演習問題 4\n",
        "\n",
        "演習問題1の条件に加え、各ビンには最大で2個までしかアイテムを入れられないという制約がある場合の問題を解け。\n",
        "\n",
        "  * アイテムのサイズ: $W = [2, 5, 4, 7, 1, 3, 8]$\n",
        "  * ビンの容量: $C = 10$\n",
        "  * 追加制約: 各ビンに入れられるアイテムの最大数は2個。\n",
        "\n",
        "-----\n",
        "##演習問題 5\n",
        "\n",
        "アイテムには「通常品」と「壊れ物」の2種類があるとする。演習問題1のアイテムについて、以下のようにカテゴリ分けされている。\n",
        "各ビンには「壊れ物」を最大1つまでしか入れられないという制約のもと、最小ビン数を求めよ。\n",
        "\n",
        "  * アイテムのサイズ: $W = [2, 5, 4, 7, 1, 3, 8]$\n",
        "  * アイテムのカテゴリ: `categories = [\"通常品\", \"壊れ物\", \"通常品\", \"壊れ物\", \"通常品\", \"通常品\", \"壊れ物\"]`\n",
        "      * アイテム0 (サイズ2): 通常品\n",
        "      * アイテム1 (サイズ5): 壊れ物\n",
        "      * アイテム2 (サイズ4): 通常品\n",
        "      * アイテム3 (サイズ7): 壊れ物\n",
        "      * アイテム4 (サイズ1): 通常品\n",
        "      * アイテム5 (サイズ3): 通常品\n",
        "      * アイテム6 (サイズ8): 壊れ物\n",
        "  * ビンの容量: $C = 10$\n",
        "  * 追加制約: 各ビンに入れられる「壊れ物」カテゴリのアイテムは最大1個。\n",
        "\n",
        "-----\n"
      ],
      "metadata": {
        "id": "XKr87sBs-P9B"
      }
    }
  ],
  "metadata": {
    "colab": {
      "provenance": [],
      "toc_visible": true,
      "include_colab_link": true
    },
    "kernelspec": {
      "display_name": "Python 3",
      "name": "python3"
    }
  },
  "nbformat": 4,
  "nbformat_minor": 0
}