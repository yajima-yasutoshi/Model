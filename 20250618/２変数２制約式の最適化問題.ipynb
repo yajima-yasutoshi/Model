{
  "cells": [
    {
      "cell_type": "markdown",
      "metadata": {
        "id": "view-in-github",
        "colab_type": "text"
      },
      "source": [
        "<a href=\"https://colab.research.google.com/github/yajima-yasutoshi/Model/blob/main/20250618/%EF%BC%92%E5%A4%89%E6%95%B0%EF%BC%92%E5%88%B6%E7%B4%84%E5%BC%8F%E3%81%AE%E6%9C%80%E9%81%A9%E5%8C%96%E5%95%8F%E9%A1%8C.ipynb\" target=\"_parent\"><img src=\"https://colab.research.google.com/assets/colab-badge.svg\" alt=\"Open In Colab\"/></a>"
      ]
    },
    {
      "cell_type": "markdown",
      "source": [
        "#線形計画問題の基礎とPython MIPによる実装\n",
        "\n",
        "本講義では、数理計画法の基本的な概念の一つである\n",
        "**線形計画問題 (Linear Programming, LP)**\n",
        "について解説します。\n",
        "特に、最も単純な形式である2変数2制約式の線形計画問題を取り上げ、\n",
        "その定式化、図解、そしてPython-MIP ライブラリを用いた実装方法について学びます。\n",
        "\n",
        "### 最適化問題とは\n",
        "\n",
        "最適化問題とは、与えられた制約条件の下で、特定の目的関数を最大化または最小化する変数の値を見つける問題です。\n",
        "情報科学だけでなく、\n",
        "経済学、工学、経営学、オペレーションズ・リサーチなど、\n",
        "多岐にわたる分野で応用されています。\n",
        "例えば、最小のコストで要求される栄養素を摂取するための飼料配合問題、\n",
        "最大の利益を得るための生産計画問題、\n",
        "最短時間で目的地に到達するための最短経路問題などが挙げられます。\n",
        "\n",
        "\n",
        "### 線形計画問題\n",
        "\n",
        "線形計画問題は、目的関数と制約条件がすべて決定変数の\n",
        "**線形結合（一次式）**\n",
        "で表される最適化問題です。その構造的な特性から効率的な解法が存在し、実社会の多くの問題をモデル化し、解決するための強力なツールとなります。\n",
        "線形計画問題では、決定変数が連続値をとることを仮定しています。\n",
        "\n",
        "後の講義では、決定変数が整数、\n",
        "０あるいは１に限られるといった**離散的** なケースも学びます。\n",
        "その場合は、**整数計画問題** と呼ばれます。\n",
        "\n",
        "### 本日の目標\n",
        "\n",
        "* 2変数線形計画問題の構造（決定変数、目的関数、制約条件、実行可能領域）を理解する。\n",
        "* 現実の問題を線形計画問題として数理モデルに定式化する能力を身につける。\n",
        "* Python MIPライブラリを用いて線形計画問題を解く基本的なプログラミングスキルを習得する。\n",
        "\n",
        "## 例題：生産計画問題\n",
        "\n",
        "ある工場が2種類の製品Aと製品Bを生産している状況を考えます。\n",
        "生産には労働時間と原材料の2種類の資源が必要です。\n",
        "利用可能な資源量には限りがあり、各製品の生産によって得られる利益が分かっているとき、総利益を最大化する生産計画を立てることを目指します。\n",
        "\n",
        "**データ:**\n",
        "\n",
        "#### 資源\n",
        "| 製品 | 製品A (1単位あたり) | 製品B (1単位あたり) | 利用可能上限 |\n",
        "| :-------- | :---------------- | :---------------- | :----------- |\n",
        "| 労働時間  | 2 時間            | 1 時間            | 10 時間      |\n",
        "| 原材料    | 1 kg              | 2 kg              | 8 kg         |\n",
        "\n",
        "#### 利益\n",
        "| 製品 | 製品A (1単位あたり) | 製品B (1単位あたり) |\n",
        "| :-------- | :---------------- | :---------------- |\n",
        "| 利益      | 5 万円            | 4 万円            |\n",
        "\n",
        "\n",
        "###問題の定式化\n",
        "\n",
        "最適化問題を解くための不可欠な第一歩は、問題を抽象化し\n",
        "**数理モデル**\n",
        "として記述することです。\n",
        "これには、以下の3つの要素を明確に定義する必要があります。\n",
        "\n",
        "**1. 決定変数 (Decision Variables):**\n",
        "何を決定したいのか、その決定事項を量的に表す変数を定義します。\n",
        "これらの変数の値（解）を算出することが最適化のゴールとなります。\n",
        "この問題の場合では、以下の2つの決定変数を定義します。\n",
        "\n",
        "* $x_1$: 製品Aの生産量 (単位)\n",
        "* $x_2$: 製品Bの生産量 (単位)\n",
        "\n",
        "**2. 目的関数 (Objective Function):**\n",
        "最適化したい指標（最大化または最小化したい量）を、決定変数を用いた数式で表現します。この問題では、総利益を最大化することが目的です。\n",
        "\n",
        "総利益を $Z$ とすると、\n",
        "$$ Z = (\\text{製品Aの利益}) \\times (\\text{製品Aの生産量}) + (\\text{製品Bの利益}) \\times (\\text{製品Bの生産量})$$\n",
        "となることから、数式にすると\n",
        "$$\n",
        "Z = 5x_1 + 4x_2\n",
        "$$\n",
        "となり、この数式を**目的関数**と呼びます。\n",
        "また、この関数は1次式となっています。\n",
        "\n",
        "\n",
        "**3. 制約条件 (Constraints):**\n",
        "決定変数が満たさなければならない条件や制限を、決定変数を用いた等式または不等式で表現します。この問題では利用可能な資源の限界が制約条件で、\n",
        "\n",
        "* **労働時間制約:** 製品Aと製品Bの生産に必要な合計労働時間は、利用可能な上限10時間を超えることはできません。\n",
        "    $$(\\text{製品A必要労働時間}) \\times x_1 + (\\text{製品B必要労働時間}) \\times x_2 \\le (\\text{利用可能労働時間上限})$$\n",
        "    \n",
        "    数式にすると、\n",
        "\n",
        "    $$2x_1 + 1x_2 \\le 10$$\n",
        "    となります。\n",
        "\n",
        "* **原材料制約:** 製品Aと製品Bの生産に必要な合計原材料は、利用可能な上限8kgを超えることはできません。\n",
        "    $$(\\text{製品A必要原材料}) \\times x_1 + (\\text{製品B必要原材料}) \\times x_2 \\le (\\text{利用可能原材料上限})$$\n",
        "    \n",
        "    数式にすると\n",
        "    \n",
        "    $$1x_1 + 2x_2 \\le 8$$\n",
        "    となります。\n",
        "\n",
        "\n",
        "* **非負条件 (Non-negativity Constraints):** 生産量は負の値を取ることは物理的にありえないため、0以上である必要があります。これは多くの実問題で暗黙的に要求される制約です。\n",
        "\n",
        "    $x_1 \\ge 0$\n",
        "    $x_2 \\ge 0$\n",
        "\n",
        "上で示した制約条件も、1次式をなっている点に注意してください。\n",
        "\n",
        "\n",
        "###数理モデル\n",
        "\n",
        "上記の構成要素を統合して、\n",
        "この生産計画問題の線形計画モデルとして以下のように記述します。\n",
        "\n",
        "$$\n",
        "\\begin{array}{lll}\n",
        "\\text{Maximize} & Z = 5x_1 + 4x_2 & (\\text{目的関数}) \\\\\n",
        "\\text{Subject to} & 2x_1 + x_2 \\le 10 & (\\text{労働時間制約}) \\\\\n",
        "& x_1 + 2x_2 \\le 8 & (\\text{原材料制約}) \\\\\n",
        "& x_1 \\ge 0 & (\\text{非負条件}) \\\\\n",
        "& x_2 \\ge 0 & (\\text{非負条件})\n",
        "\\end{array}\n",
        "$$\n",
        "\n",
        "この形式は、線形計画問題の標準的な表現方法の一つであり、目的関数、制約条件（不等式）、および変数の非負条件から構成されます。\n",
        "\n",
        "##図解による理解\n",
        "\n",
        "2変数線形計画問題は、決定変数を座標軸とする2次元平面上に図示することが可能です。これにより、制約条件が定義する解の候補領域と、その中で目的関数を最適化する解を視覚的に把握することができます。\n",
        "\n",
        "###実行可能領域の図示\n",
        "\n",
        "すべての制約条件（非負条件を含む）を同時に満たす決定変数の組 $(x_1, x_2)$ の集合を **実行可能領域 (Feasible Region)** と呼びます。\n",
        "最適解はこの領域内の点で、目的関数を最大あるいは最小にする点となります。\n",
        "\n",
        "1.  **非負条件:** $x_1 \\ge 0$ と $x_2 \\ge 0$ により、解は $x_1$-$x_2$ 平面の第一象限（$x_1$軸、$x_2$軸上を含む）に限定されます。\n",
        "2.  **労働時間制約:** $2x_1 + x_2 \\le 10$ は、境界線 $2x_1 + x_2 = 10$ を含み、その下側（原点側）の半平面を表します。この直線は点 $(5, 0)$ （$x_1$切片）と点 $(0, 10)$ （$x_2$切片）を通ります。\n",
        "3.  **原材料制約:** $x_1 + 2x_2 \\le 8$ は、境界線 $x_1 + 2x_2 = 8$ を含み、その下側（原点側）の半平面を表します。この直線は点 $(8, 0)$ （$x_1$切片）と点 $(0, 4)$ （$x_2$切片）を通ります。\n",
        "\n",
        "これらの領域すべての共通部分が実行可能領域です。以下のPythonコード（NumPyとMatplotlibを使用）で図示します。"
      ],
      "metadata": {
        "id": "XVFyvSbNBSRR"
      }
    },
    {
      "cell_type": "code",
      "source": [
        "#@title 図示\n",
        "import numpy as np\n",
        "import matplotlib.pyplot as plt\n",
        "# 日本語フォント設定 (Google Colab用)\n",
        "!pip install japanize-matplotlib > /dev/null\n",
        "import japanize_matplotlib\n",
        "\n",
        "# x1軸の値の範囲を定義\n",
        "x1 = np.linspace(0, 7, 400) # 描画範囲を少し広めに取る\n",
        "\n",
        "# 制約条件の境界線をx2について解く\n",
        "# 2*x1 + x2 = 10  => x2 = 10 - 2*x1\n",
        "x2_labor = 10 - 2*x1\n",
        "# x1 + 2*x2 = 8   => x2 = (8 - x1) / 2\n",
        "x2_material = (8 - x1) / 2\n",
        "\n",
        "# グラフの準備\n",
        "plt.figure(figsize=(6, 6))\n",
        "plt.xlabel('$x_1$ (製品Aの生産量)')\n",
        "plt.ylabel('$x_2$ (製品Bの生産量)')\n",
        "plt.xlim((-0.5, 7)) # 軸範囲を調整\n",
        "plt.ylim((-0.5, 7))\n",
        "plt.grid(True)\n",
        "\n",
        "# 制約境界線の描画\n",
        "plt.plot(x1, x2_labor, label=r'$2x_1 + x_2 = 10$ (労働時間)')\n",
        "plt.plot(x1, x2_material, label=r'$x_1 + 2x_2 = 8$ (原材料)')\n",
        "\n",
        "# 実行可能領域の計算と塗りつぶし\n",
        "# 両方の制約を満たすx2の上限は min(x2_labor, x2_material)\n",
        "feasible_x2_upper_bound = np.minimum(x2_labor, x2_material)\n",
        "# x1 >= 0, x2 >= 0 の条件 (x2=0との比較)の下で塗りつぶし\n",
        "plt.fill_between(x1, 0, feasible_x2_upper_bound,\n",
        "                 where=feasible_x2_upper_bound>=0, # x2>=0 の部分のみ\n",
        "                 color='lightblue', alpha=0.6, label='実行可能領域')\n",
        "\n",
        "plt.title('線形計画問題の実行可能領域')\n",
        "plt.legend()\n",
        "plt.axhline(0, color='black', linewidth=0.5) # x1軸\n",
        "plt.axvline(0, color='black', linewidth=0.5) # x2軸\n",
        "plt.show()"
      ],
      "outputs": [],
      "execution_count": null,
      "metadata": {
        "cellView": "form",
        "id": "Tj-JMWOrBSRU"
      }
    },
    {
      "cell_type": "markdown",
      "source": [
        "\n",
        "\n",
        "図示された水色の領域が実行可能領域です。これは4つの頂点を持つ凸多角形となります。\n",
        "* 頂点1: 原点 $(0, 0)$\n",
        "* 頂点2: $x_1$軸と労働時間制約境界線の交点 $(5, 0)$\n",
        "* 頂点3: 労働時間制約境界線 $2x_1 + x_2 = 10$ と原材料制約境界線 $x_1 + 2x_2 = 8$ の交点。連立方程式を解くと、$x_1=4, x_2=2$ より、点 $(4, 2)$。\n",
        "* 頂点4: $x_2$軸と原材料制約境界線の交点 $(0, 4)$\n",
        "\n",
        "線形計画問題の重要な性質として、実行可能領域は常に **凸集合 (Convex Set)** となります。\n",
        "\n",
        "###最適解の探索\n",
        "\n",
        "次に、実行可能領域内で目的関数 $Z = 5x_1 + 4x_2$ を最大化する点 $(x_1, x_2)$ を見つけます。\n",
        "\n",
        "目的関数 $Z = 5x_1 + 4x_2$ は、$Z$ の値を固定すると $x_1$-$x_2$ 平面上の直線を定義します。この直線を **等利益線 (Iso-profit Line)** と呼びます。式を変形すると $x_2 = -\\frac{5}{4}x_1 + \\frac{Z}{4}$ となり、傾きが $-\\frac{5}{4}$ で、$x_2$切片が $\\frac{Z}{4}$ の直線群を表します。\n",
        "\n",
        "$Z$ を最大化することは、この等利益線の $x_2$切片 $\\frac{Z}{4}$ を最大化することと同義です。つまり、傾き $-\\frac{5}{4}$ を保ったまま、等利益線を実行可能領域と共有点を持つ範囲で、できるだけ右上方向（$Z$ が増加する方向）へ平行移動させることを考えます。\n",
        "\n",
        "**線形計画法の基本定理 (Fundamental Theorem of Linear Programming):**\n",
        "実行可能領域が空でなく、かつ有界（無限に広がっていない）である場合、線形計画問題の最適解は必ず実行可能領域の **頂点 (Vertex / Extreme Point)** のいずれかに存在します。（最適解が複数存在し、頂点をつなぐ辺上の全ての点が最適解となる場合もありますが、その場合でも少なくとも頂点は最適解です。）\n",
        "\n",
        "したがって、最適解を見つけるには、実行可能領域の全ての頂点の座標を求め、それぞれの頂点における目的関数 $Z$ の値を計算し、その中で最大（または最小）の値を与える頂点を探せばよいことになります。\n",
        "\n",
        "**各頂点における目的関数値:**\n",
        "\n",
        "* 頂点 (0, 0): $Z = 5(0) + 4(0) = 0$\n",
        "* 頂点 (5, 0): $Z = 5(5) + 4(0) = 25$\n",
        "* 頂点 (4, 2): $Z = 5(4) + 4(2) = 20 + 8 = 28$\n",
        "* 頂点 (0, 4): $Z = 5(0) + 4(4) = 16$\n",
        "\n",
        "これらの値を比較すると、最大値は $Z=28$ であり、これは頂点 $(4, 2)$ で達成されます。\n",
        "\n",
        "したがって、この生産計画問題の最適解は $x_1 = 4$ 単位、 $x_2 = 2$ 単位であり、そのときの最大総利益は $Z=28$ 万円となります。\n",
        "\n",
        "以下のコードで、最適解と対応する等利益線を図示します。"
      ],
      "metadata": {
        "id": "Y55Orj80BSRV"
      }
    },
    {
      "cell_type": "code",
      "source": [
        "#@title 最適解の図示\n",
        "\n",
        "# 実行可能領域の頂点座標\n",
        "vertices = np.array([\n",
        "    [0, 0],\n",
        "    [5, 0],\n",
        "    [4, 2], # 計算済みの交点\n",
        "    [0, 4]\n",
        "])\n",
        "\n",
        "# 各頂点での目的関数値を計算\n",
        "z_values = 5 * vertices[:, 0] + 4 * vertices[:, 1]\n",
        "\n",
        "# 最大値を与える頂点（最適解）を探す\n",
        "optimal_vertex_index = np.argmax(z_values)\n",
        "optimal_vertex = vertices[optimal_vertex_index]\n",
        "optimal_z = z_values[optimal_vertex_index]\n",
        "\n",
        "print(f\"実行可能領域の頂点:\\n{vertices}\")\n",
        "print(f\"各頂点での目的関数値 Z: {z_values}\")\n",
        "print(f\"最適解を与える頂点: {optimal_vertex}\")\n",
        "print(f\"最大目的関数値 (最大利益) Z: {optimal_z}\")\n",
        "\n",
        "# --- グラフ描画 ---\n",
        "plt.figure(figsize=(6, 6))\n",
        "plt.xlabel('$x_1$ (製品Aの生産量)')\n",
        "plt.ylabel('$x_2$ (製品Bの生産量)')\n",
        "plt.xlim((-0.5, 7))\n",
        "plt.ylim((-0.5, 7))\n",
        "plt.grid(True)\n",
        "\n",
        "# 制約境界線と実行可能領域の描画 (再掲)\n",
        "plt.plot(x1, x2_labor, label=r'$2x_1 + x_2 = 10$ (労働時間)')\n",
        "plt.plot(x1, x2_material, label=r'$x_1 + 2x_2 = 8$ (原材料)')\n",
        "plt.fill_between(x1, 0, feasible_x2_upper_bound, where=feasible_x2_upper_bound>=0,\n",
        "                 color='lightblue', alpha=0.6, label='実行可能領域')\n",
        "\n",
        "# 最適解における等利益線を描画\n",
        "# Z = 5*x1 + 4*x2  => x2 = -5/4 * x1 + Z/4\n",
        "x1_line = np.linspace(0, 7, 100)\n",
        "x2_optimal_line = (-5/4) * x1_line + optimal_z / 4\n",
        "plt.plot(x1_line, x2_optimal_line, 'r--', linewidth=2,\n",
        "         label=f'最適等利益線 $Z = {optimal_z}$')\n",
        "\n",
        "# いくつかの他の等利益線も描画（例：Z=10, Z=20）\n",
        "x2_line_10 = (-5/4) * x1_line + 10 / 4\n",
        "x2_line_20 = (-5/4) * x1_line + 20 / 4\n",
        "plt.plot(x1_line, x2_line_10, 'g:', alpha=0.7, label='$Z=10$')\n",
        "plt.plot(x1_line, x2_line_20, 'm:', alpha=0.7, label='$Z=20$')\n",
        "\n",
        "\n",
        "# 最適解の点を強調表示\n",
        "plt.plot(optimal_vertex[0], optimal_vertex[1], 'ro', markersize=10,\n",
        "         label=f'最適解 $({optimal_vertex[0]}, {optimal_vertex[1]})$')\n",
        "\n",
        "plt.title('線形計画問題の最適解と等利益線')\n",
        "plt.legend(loc='upper right')\n",
        "plt.axhline(0, color='black', linewidth=0.5)\n",
        "plt.axvline(0, color='black', linewidth=0.5)\n",
        "plt.show()"
      ],
      "outputs": [],
      "execution_count": null,
      "metadata": {
        "id": "e7hzMCjoBSRV",
        "cellView": "form"
      }
    },
    {
      "cell_type": "markdown",
      "source": [
        "赤い破線が最適解 $(4, 2)$ を通る等利益線 ($Z=28$) を示しています。この線より右上に平行移動させると、実行可能領域と共有点を持たなくなります。\n",
        "緑や紫の点線は、より低い利益に対応する等利益線です。"
      ],
      "metadata": {
        "id": "zfRQ5dO6DXiI"
      }
    },
    {
      "cell_type": "markdown",
      "source": [
        "##ここまでのまとめ\n",
        "\n",
        "### 最適化問題とは（再掲）\n",
        "\n",
        "最適化問題とは、与えられた制約条件の下で、特定の目的関数を最大化または最小化する変数の値を見つける問題です。\n",
        "情報科学だけでなく、\n",
        "経済学、工学、経営学、オペレーションズ・リサーチなど、\n",
        "多岐にわたる分野で応用されています。\n",
        "例えば、最小のコストで要求される栄養素を摂取するための飼料配合問題、\n",
        "最大の利益を得るための生産計画問題、\n",
        "最短時間で目的地に到達するための経路選択問題などが挙げられます。\n",
        "\n",
        "### 線形計画問題（再掲）\n",
        "\n",
        "線形計画問題は、目的関数と制約条件がすべて決定変数の\n",
        "**線形結合（一次式）**\n",
        "で表される最適化問題です。その構造的な特性から効率的な解法が存在し、実社会の多くの問題をモデル化し、解決するための強力なツールとなります。\n",
        "線形計画問題では、決定変数が連続値をとることを仮定しています。\n",
        "\n",
        "後の講義では、決定変数が０あるいは１のみに限定した**離散的** なケースも学びます。その場合は、\n",
        "**整数計画問題** と呼ばれます。\n"
      ],
      "metadata": {
        "id": "AQ7ttLt0DsKX"
      }
    },
    {
      "cell_type": "markdown",
      "source": [
        "##Python MIPによる実装\n",
        "\n",
        "図解は2変数（または3変数）の問題に対して直観的な理解を与えますが、変数の数が増えると適用できません。実用的な規模の問題を解くためには、数理最適化ソルバーを用います。ここでは、Pythonから利用できるオープンソースのMIP (Mixed Integer Programming) ソルバーライブラリ `mip` を用いて、上記の問題を解く手順を示します。\n",
        "\n",
        "\n",
        "**ステップ:**\n",
        "\n",
        "1.  **Python MIPライブラリのインストール:**\n",
        "2.  **モデルオブジェクトの作成:** 問題の種類（最大化/最小化）を指定して初期化する。\n",
        "3.  **決定変数の定義:** 変数名、種類（連続、整数、バイナリ）、範囲（下限、上限）を指定。\n",
        "4.  **目的関数の設定:** 定義した変数を用いた数式をモデルに追加。\n",
        "5.  **制約条件の追加:** 定義した変数を用いた不等式または等式をモデルに追加。\n",
        "6.  **求解:** ソルバーに問題を解かせる。\n",
        "7.  **結果の確認:** 最適化ステータス、最適目的関数値、最適変数値を表示・利用。\n",
        "\n",
        "\n",
        "なお、ライブラーの公式サイトは以下の通りです。\n",
        "詳細な使い方は、サイト内のドキュメントを参照するように。\n",
        "\n",
        "https://www.python-mip.com/\n"
      ],
      "metadata": {
        "id": "CHPU6z3-BSRV"
      }
    },
    {
      "cell_type": "markdown",
      "source": [
        "####Python MIPライブラリのインストール\n",
        "\n",
        "インストールは以下のプログラムで実行される。\n",
        "最適化を実行する前に、1回実行すればよい。"
      ],
      "metadata": {
        "id": "uuRNECb4E7fK"
      }
    },
    {
      "cell_type": "code",
      "source": [
        "%%capture\n",
        "# ライブラリのインストール\n",
        "!pip install mip\n",
        "\n",
        "# 日本語の表示環境のインストール\n",
        "!pip install japanize-matplotlib"
      ],
      "outputs": [],
      "execution_count": null,
      "metadata": {
        "id": "NnZNXN8eBSRW"
      }
    },
    {
      "cell_type": "code",
      "source": [
        "# モジュールのインポート\n",
        "import mip"
      ],
      "metadata": {
        "id": "3WHbXEm50L75"
      },
      "execution_count": null,
      "outputs": []
    },
    {
      "cell_type": "markdown",
      "source": [
        "####モデルオブジェクトの作成\n",
        "\n",
        "最大化を目的とするために以下のようにしている。\n",
        "\n",
        "```\n",
        "sense=mip.MAXIMIZE\n",
        "```\n",
        "\n",
        "最小化であれば\n",
        "\n",
        "```\n",
        "sense=mip.MINIMIZE\n",
        "```\n"
      ],
      "metadata": {
        "id": "Y6Jyig5T1BLX"
      }
    },
    {
      "cell_type": "code",
      "source": [
        "# モデルオブジェクトの作成\n",
        "# 問題名を \"production_plan\"（自由に名前を付けることができる）、\n",
        "# 目的を最大化(MAXIMIZE)としてモデルを作成\n",
        "model = mip.Model(name=\"production_plan\", sense=mip.MAXIMIZE)"
      ],
      "metadata": {
        "id": "aD32Owby0Qby"
      },
      "execution_count": null,
      "outputs": []
    },
    {
      "cell_type": "markdown",
      "source": [
        "####決定変数の定義\n",
        "\n",
        "決定変数を\n",
        "`x1, x2`\n",
        "として作成する。\n"
      ],
      "metadata": {
        "id": "7aCTi9ek07tZ"
      }
    },
    {
      "cell_type": "code",
      "source": [
        "# 決定変数の定義\n",
        "# 製品Aの生産量 x1: 連続変数(CONTINUOUS), 下限(lb)は0.0\n",
        "x1 = model.add_var(name=\"x1\", var_type=mip.CONTINUOUS, lb=0.0)\n",
        "# 製品Bの生産量 x2: 連続変数(CONTINUOUS), 下限(lb)は0.0\n",
        "x2 = model.add_var(name=\"x2\", var_type=mip.CONTINUOUS, lb=0.0)\n",
        "#print(f\"変数を定義しました: {x1.name}, {x2.name}\")"
      ],
      "metadata": {
        "id": "7CowuB2z0VUp"
      },
      "execution_count": null,
      "outputs": []
    },
    {
      "cell_type": "markdown",
      "source": [
        "####目的関数の設定"
      ],
      "metadata": {
        "id": "8ZsYMip20gOX"
      }
    },
    {
      "cell_type": "code",
      "source": [
        "# 目的関数の設定\n",
        "# model.objective に目的関数式を代入\n",
        "model.objective = 5*x1 + 4*x2\n",
        "# print(f\"目的関数を設定しました: Maximize {model.objective}\")"
      ],
      "metadata": {
        "id": "knl9q7WC3CKD"
      },
      "execution_count": null,
      "outputs": []
    },
    {
      "cell_type": "markdown",
      "source": [
        "####制約条件の追加\n",
        "\n",
        "以下の例では `model.add.constr()`で制約条件を追加するとともに、\n",
        "制約条件式をを変数 `c1`、`c2` に格納する。\n"
      ],
      "metadata": {
        "id": "njKHEeZz3PJg"
      }
    },
    {
      "cell_type": "code",
      "source": [
        "# 制約条件の追加\n",
        "# model.add_constr() を用いて制約を追加。制約名(name)は任意。\n",
        "# 労働時間制約: 2*x1 + x2 <= 10\n",
        "# c1 = model.add_constr(2*x1 + x2 <= 10)\n",
        "c1 = model.add_constr(2*x1 + x2 <= 10, name=\"labor_constraint\")\n",
        "# 原材料制約: x1 + 2*x2 <= 8\n",
        "c2 = model.add_constr(x1 + 2*x2 <= 8, name=\"material_constraint\")\n",
        "# print(f\"制約を追加しました: {c1.name}, {c2.name}\")\n",
        "# 非負制約は変数の定義時に lb=0.0 で設定済み"
      ],
      "metadata": {
        "id": "eu8qB3Z73J3O"
      },
      "execution_count": null,
      "outputs": []
    },
    {
      "cell_type": "markdown",
      "source": [
        "####モデルの確認\n",
        "\n",
        "設定したモデルをファイルに出力することが可能である。"
      ],
      "metadata": {
        "id": "cVxeR4r83Yyz"
      }
    },
    {
      "cell_type": "code",
      "source": [
        "## モデルを出力して確認\n",
        "#model.write(\"production_plan.lp\")"
      ],
      "metadata": {
        "id": "ocFIiVzs3kcC"
      },
      "execution_count": null,
      "outputs": []
    },
    {
      "cell_type": "markdown",
      "source": [
        "####最適化の実行\n",
        "\n",
        "最適化実行した結果のステータスが status に格納される。"
      ],
      "metadata": {
        "id": "4Ix7sPUH3osX"
      }
    },
    {
      "cell_type": "code",
      "source": [
        "# 求解\n",
        "# model.optimize() を実行して最適化計算を開始\n",
        "# max_seconds パラメータで計算時間の上限を設定可能 (例: max_seconds=30)\n",
        "print(\"\\n最適化を開始します...\")\n",
        "status = model.optimize()\n",
        "print(\"最適化を終了しました。\")\n",
        "print(status)"
      ],
      "metadata": {
        "id": "7D8eafF43sSl"
      },
      "execution_count": null,
      "outputs": []
    },
    {
      "cell_type": "markdown",
      "source": [
        "####結果の確認\n",
        "\n",
        "最適化された目的関数の値は\n",
        "\n",
        "```\n",
        "model.objective_value\n",
        "```\n",
        "に格納される。\n",
        "\n",
        "また、最適な変数の値は `x1.x ` 、`x2.x` に格納される。\n"
      ],
      "metadata": {
        "id": "EEmCJoqx3whn"
      }
    },
    {
      "cell_type": "code",
      "source": [
        "# 結果の確認\n",
        "print(\"\\n--- 最適化結果 ---\")\n",
        "# 最適化ステータスを確認\n",
        "if status == mip.OptimizationStatus.OPTIMAL:\n",
        "    print(f\"状態: 最適解発見 (OPTIMAL)\")\n",
        "    # 最適目的関数値を出力 (小数点以下2桁で表示)\n",
        "    print(f\"最大利益 (Z): {model.objective_value:.2f} 万円\")\n",
        "    # 最適解 (各変数の最適値) を出力\n",
        "    print(\"最適生産計画:\")\n",
        "    print(f\"  製品A ({x1.name}): {x1.x:.2f} 単位\")\n",
        "    print(f\"  製品B ({x2.name}): {x2.x:.2f} 単位\")\n",
        "\n",
        "    # (オプション) 各制約が有効か(境界上にあるか)確認\n",
        "    print(\"\\n制約の状態:\")\n",
        "    # 制約式の左辺の値 (slack = 右辺 - 左辺) を確認\n",
        "    # slackがほぼ0なら、その制約は有効(binding)\n",
        "    print(f\"  労働時間制約: 左辺値 = {2*x1.x + x2.x:.2f} (<= 10), slack = {c1.slack:.4f}\")\n",
        "    print(f\"  原材料制約: 左辺値 = {x1.x + 2*x2.x:.2f} (<= 8), slack = {c2.slack:.4f}\")\n",
        "\n",
        "elif status == mip.OptimizationStatus.INFEASIBLE:\n",
        "    print(\"状態: 実行不可能 (INFEASIBLE)\")\n",
        "    print(\"  制約を満たす解が存在しません。\")\n",
        "elif status == mip.OptimizationStatus.UNBOUNDED:\n",
        "    print(\"状態: 非有界 (UNBOUNDED)\")\n",
        "    print(\"  目的関数を無限に改善可能です。モデルに誤りがある可能性があります。\")\n",
        "else:\n",
        "    print(f\"状態: {status}\") # その他のステータス (エラーなど)"
      ],
      "outputs": [],
      "execution_count": null,
      "metadata": {
        "id": "TnlA1lUGBSRW"
      }
    },
    {
      "cell_type": "markdown",
      "source": [
        "**コード解説:**\n",
        "\n",
        "* `mip.Model(name=\"...\", sense=mip.MAXIMIZE)`: 最大化問題 (`MAXIMIZE`) のモデルオブジェクトを作成します。最小化問題の場合は `mip.MINIMIZE` を指定します。`name` はモデル識別のための任意の文字列です。\n",
        "* `model.add_var(name=\"...\", var_type=..., lb=..., ub=...)`: モデルに決定変数を追加します。\n",
        "    * `name`: 変数名（結果表示などで使われます）。\n",
        "    * `var_type`: 変数の種類を指定します。\n",
        "        * `mip.CONTINUOUS`: 連続変数（デフォルト）。\n",
        "        * `mip.INTEGER`: 整数変数。\n",
        "        * `mip.BINARY`: 0または1の値のみを取るバイナリ変数。\n",
        "    * `lb`: 変数の下限値 (Lower Bound)。デフォルトは 0。\n",
        "    * `ub`: 変数の上限値 (Upper Bound)。デフォルトは無限大 (`mip.INF`)。\n",
        "* `model.objective = ...`: モデルの目的関数を設定します。`model.add_var` で返された変数オブジェクトを用いた線形結合式を代入します。\n",
        "* `model.add_constr(constraint_expression, name=\"...\")`: モデルに制約条件を追加します。\n",
        "    * `constraint_expression`: 変数オブジェクトを用いた線形結合式と比較演算子 (`<=`, `>=`, `==`) を含む式。例: `2*x1 + x2 <= 10`。\n",
        "    * `name`: 制約名（任意）。\n",
        "* `model.optimize()`: 設定されたモデルに対して最適化計算（求解）を実行します。計算の成功・失敗などの状態を示す `OptimizationStatus` オブジェクトが返されます。\n",
        "\n",
        "* **結果の取得:**\n",
        "    * `status`: 求解結果の状態 (`mip.OptimizationStatus.OPTIMAL` なら最適解発見)。\n",
        "    * `model.objective_value`: 最適解が見つかった場合の目的関数の値。\n",
        "    * `variable.x`: 最適解が見つかった場合の変数 `variable` の値。\n",
        "    * `constraint.slack`: 制約 `constraint` のスラック値（`<=` 制約なら `右辺 - 左辺`、`>=` 制約なら `左辺 - 右辺`）。スラックがほぼ0の場合、その制約は最適解において**有効**（binding、等号が成立）であることを意味します。\n",
        "\n",
        "上記のコードを実行すると、図解で得られた結果と同じく、最大利益 $Z=28.00$万円、最適生産計画 $(x_1, x_2) = (4.00, 2.00)$単位 が得られることが確認できます。また、制約のスラックを見ると、労働時間制約、原材料制約ともにスラックが0に近いため、両方の資源を使い切っていることがわかります。\n"
      ],
      "metadata": {
        "id": "rw9yAIz81jpc"
      }
    },
    {
      "cell_type": "code",
      "source": [
        "model.write(\"xxx.lp\")"
      ],
      "metadata": {
        "id": "YevlDr4hzXIE"
      },
      "execution_count": null,
      "outputs": []
    },
    {
      "cell_type": "markdown",
      "source": [
        "## 非有界の例\n",
        "\n",
        "以下の線形計画問題を考える。\n",
        "\n",
        "$$\n",
        "\\begin{array}{ll}\n",
        "\\text{Maximize}   & Z = x_1 + x_2\\\\\n",
        "\\text{Subject to} & x_1 - x_2 \\ge 0 \\\\\n",
        "                  & x_2 \\ge 4 \\\\\n",
        "                  & x_1, x_2 \\ge 0\n",
        "\\end{array}\n",
        "$$\n",
        "\n",
        "この問題の実行可能領域を図示する。"
      ],
      "metadata": {
        "id": "4sfkWi1Iq9d-"
      }
    },
    {
      "cell_type": "code",
      "source": [
        "#@title 非有界の図\n",
        "import numpy as np\n",
        "import matplotlib.pyplot as plt # グラフ描画 (Matplotlib)\n",
        "import seaborn as sns # 高度なグラフ描画 (Seaborn)\n",
        "import japanize_matplotlib # 日本語化対応\n",
        "\n",
        "\n",
        "# --- 非有界な実行可能領域の図示 (変更版) ---\n",
        "\n",
        "# x1 の範囲を定義 (0からある程度大きな値まで)\n",
        "# 頂点が(4,4)になるので、それより大きな範囲も見えるように調整\n",
        "x1_vals = np.linspace(0, 15, 400) # 0から15までの間で400点生成\n",
        "\n",
        "# 各制約条件の境界線を定義\n",
        "# 1. x1 - x2 >= 0  =>  x2 <= x1\n",
        "x2_constr1_boundary = x1_vals\n",
        "\n",
        "# 2. x2 >= 4\n",
        "x2_constr2_boundary = np.ones_like(x1_vals) * 4 # x2 = 4 の線\n",
        "\n",
        "# グラフのプロット\n",
        "plt.figure(figsize=(6, 6)) # 幅4.5インチ、高さ4インチに変更\n",
        "\n",
        "# 制約線のプロット\n",
        "plt.plot(x1_vals, x2_constr1_boundary, label=r'$x_2 \\leq x_1$ (from $x_1 - x_2 \\geq 0$)', color='blue')\n",
        "plt.plot(x1_vals, x2_constr2_boundary, label=r'$x_2 \\geq 4$', color='green')\n",
        "plt.axvline(0, color='gray', linestyle='--', label=r'$x_1 \\geq 0$') # x1=0 の線 (y軸)\n",
        "\n",
        "# 実行可能領域の塗りつぶし\n",
        "# 実行可能領域は x2 >= 4 かつ x2 <= x1 を満たす。\n",
        "# これは x1 >= 4 の範囲で意味を持つ。\n",
        "# 下側の境界は x2=4, 上側の境界は x2=x1\n",
        "plt.fill_between(x1_vals,                # x座標\n",
        "                 x2_constr2_boundary,    # y座標の下限 (x2=4)\n",
        "                 x2_constr1_boundary,    # y座標の上限 (x2=x1)\n",
        "                 where=(x1_vals >= 4) & (x2_constr1_boundary >= x2_constr2_boundary), # x1>=4\n",
        "                 color='lightskyblue', alpha=0.6, label='Feasible Region (Unbounded)')\n",
        "\n",
        "# 実行可能領域の重要な点\n",
        "plt.plot(4, 4, 'ko', markersize=7, label='Corner Point (4,4)') # x2=4 と x2=x1 の交点\n",
        "\n",
        "# 目的関数 Z = x1 + x2 の等高線の例 (傾き-1 の直線: x2 = -x1 + Z_val)\n",
        "# (4,4) で Z = 8 なので、それ以上のZの値でプロット\n",
        "for z_val in [8, 10, 12, 14, 16]:\n",
        "    plt.plot(x1_vals, -x1_vals + z_val, linestyle=':', color='purple', alpha=0.7,\n",
        "             label=f'$Z=x_1+x_2$' if z_val==8 else None) # 最初の等高線のみラベル表示\n",
        "\n",
        "\n",
        "# グラフの装飾\n",
        "plt.title('非有界の例 ($x_1 - x_2 >= 0, x_2 \\geq 4, Z=x_1+x_2$)')\n",
        "plt.xlabel(r'$x_1$')\n",
        "plt.ylabel(r'$x_2$')\n",
        "plt.xlim(-1, 15)  # x軸の表示範囲を調整\n",
        "plt.ylim(-1, 15) # y軸の表示範囲を調整\n",
        "\n",
        "# 凡例を重複なく表示するための工夫\n",
        "handles, labels = plt.gca().get_legend_handles_labels()\n",
        "by_label = dict(zip(labels, handles)) # ラベルが同じなら後勝ち\n",
        "plt.legend(by_label.values(), by_label.keys(), loc='upper left')\n",
        "\n",
        "plt.grid(True)\n",
        "plt.axhline(0, color='black', linewidth=0.5)\n",
        "plt.axvline(0, color='black', linewidth=0.5)\n",
        "plt.gca().set_aspect('equal', adjustable='box') # アスペクト比を1に\n",
        "plt.show()"
      ],
      "metadata": {
        "cellView": "form",
        "id": "OS1NhnlSvN6d"
      },
      "execution_count": null,
      "outputs": []
    },
    {
      "cell_type": "markdown",
      "source": [
        "上の図からも分かるように、目的関数 $Z = x_1$ はいくらでも大きくできる。\n",
        "このような問題の場合では、最適解は存在せず、特に\n",
        "**非有界**と呼ぶ。\n",
        "\n",
        "実際に最適化を実行すると、以下のように\n",
        "`status` が `OptimizationStatus.UNBOUNDED` となる。"
      ],
      "metadata": {
        "id": "1tc1tu5ErWmD"
      }
    },
    {
      "cell_type": "code",
      "source": [
        "import mip\n",
        "\n",
        "# --- モデルの定義 ---\n",
        "\n",
        "# 1. モデルオブジェクトの作成\n",
        "# 問題名を \"unbounded_lp_example\"、目的を最大化(MAXIMIZE)としてモデルを作成します。\n",
        "model = mip.Model(name=\"unbounded_lp_example\", sense=mip.MAXIMIZE)\n",
        "\n",
        "# 2. 決定変数の定義\n",
        "# x1: 連続変数、下限(lb)は0.0 (x1 >= 0 の非負制約)\n",
        "x1 = model.add_var(name=\"x1\", var_type=mip.CONTINUOUS, lb=0.0)\n",
        "# x2: 連続変数、下限(lb)は0.0 (x2 >= 0 の非負制約)\n",
        "x2 = model.add_var(name=\"x2\", var_type=mip.CONTINUOUS, lb=0.0)\n",
        "\n",
        "# 3. 目的関数の設定\n",
        "# 目的は x1 + x2を最大化することです。\n",
        "model.objective = x1 + x2\n",
        "# model.objective = mip.maximize(x1) # このように書くこともできます。\n",
        "\n",
        "# 4. 制約条件の追加\n",
        "# 制約1: x1 - x2 >= 0  (これは x1 >= x2 と同等です)\n",
        "c1 = model.add_constr(x1 - x2 >= 0, name=\"constraint_1_x1_ge_x2\")\n",
        "\n",
        "# 制約2: x2 >= 4\n",
        "c2 = model.add_constr(x2 >= 4, name=\"constraint_2_x2_ge_1\")\n",
        "\n",
        "# --- 最適化の実行と結果の確認 ---\n",
        "\n",
        "# 5. 最適化の実行\n",
        "status = model.optimize()\n",
        "\n",
        "# 6. 結果の確認\n",
        "print(\"\\n--- 最適化結果 ---\")\n",
        "print(f\"最適化ステータス: {status}\")"
      ],
      "metadata": {
        "id": "Y0RFtC4YsGmN"
      },
      "execution_count": null,
      "outputs": []
    },
    {
      "cell_type": "markdown",
      "source": [
        "##実行不可能の例\n",
        "\n",
        "次に以下の例を考える。\n",
        "\n",
        "$$\n",
        "\\begin{array}{ll}\n",
        "\\text{Maximize}   & Z = x_1 + x_2\\\\\n",
        "\\text{Subject to} & x_1 - x_2 \\ge 0 \\\\\n",
        "                  & x_2 \\ge 4 \\\\\n",
        "                  & 2 x_1 + x_2 \\le 4 \\\\\n",
        "                  & x_1, x_2 \\ge 0\n",
        "\\end{array}\n",
        "$$\n",
        "\n",
        "この線形計画では、不等式を全て満たすような点は存在しない。\n",
        "図示すると以下のようになる。"
      ],
      "metadata": {
        "id": "1wrhYzHyw1bI"
      }
    },
    {
      "cell_type": "code",
      "source": [
        "#@title 実行不可能な図\n",
        "import matplotlib.pyplot as plt\n",
        "import numpy as np\n",
        "\n",
        "# --- 非有界な実行可能領域の図示 (x1+x2=4 の線を追加) ---\n",
        "\n",
        "# x1 の範囲を定義\n",
        "x1_vals = np.linspace(-1, 15, 400)\n",
        "\n",
        "# 各制約条件の境界線を定義\n",
        "# 1. x1 - x2 >= 0  =>  x2 <= x1\n",
        "x2_constr1_boundary = x1_vals\n",
        "\n",
        "# 2. x2 >= 4\n",
        "x2_constr2_boundary = np.ones_like(x1_vals) * 4 # x2 = 4 の線\n",
        "\n",
        "# グラフのプロット\n",
        "plt.figure(figsize=(6, 6))\n",
        "\n",
        "# 制約線のプロット\n",
        "plt.plot(x1_vals, x2_constr1_boundary, label=r'$x_1 - x_2 = 0$', color='blue')\n",
        "plt.plot(x1_vals, x2_constr2_boundary, label=r'$x_2 = 4$', color='green')\n",
        "plt.plot(x1_vals, -2*x1_vals + 4, color='red', label='$2x_1+x_2=4$')\n",
        "\n",
        "# グラフの装飾\n",
        "plt.title('実行不可能な例')\n",
        "plt.xlabel(r'$x_1$')\n",
        "plt.ylabel(r'$x_2$')\n",
        "plt.xlim(-1, 6)\n",
        "plt.ylim(-1, 6)\n",
        "\n",
        "# 凡例を重複なく表示するための工夫\n",
        "handles, labels = plt.gca().get_legend_handles_labels()\n",
        "by_label = dict(zip(labels, handles))\n",
        "plt.legend(by_label.values(), by_label.keys(), loc='upper left')\n",
        "\n",
        "plt.grid(True)\n",
        "plt.axhline(0, color='black', linewidth=1.5)\n",
        "plt.axvline(0, color='black', linewidth=1.5)\n",
        "plt.gca().set_aspect('equal', adjustable='box')\n",
        "plt.show()"
      ],
      "metadata": {
        "cellView": "form",
        "id": "pu1qIuOtwGp5"
      },
      "execution_count": null,
      "outputs": []
    },
    {
      "cell_type": "markdown",
      "source": [
        "上の図は、一つ前の領域に加えて、\n",
        "$$ 2 x_1 + x_2 \\le 4 $$\n",
        "となる赤の直線より下側の制約条件があるため、\n",
        "実行可能領域が存在しない。"
      ],
      "metadata": {
        "id": "I0bgD_UNSorA"
      }
    },
    {
      "cell_type": "code",
      "source": [
        "import mip\n",
        "\n",
        "# --- モデルの定義 ---\n",
        "\n",
        "# 1. モデルオブジェクトの作成\n",
        "# 問題名を \"unbounded_lp_example\"、目的を最大化(MAXIMIZE)としてモデルを作成します。\n",
        "model = mip.Model(name=\"infeasible_lp_example\", sense=mip.MAXIMIZE)\n",
        "\n",
        "# 2. 決定変数の定義\n",
        "# x1: 連続変数、下限(lb)は0.0 (x1 >= 0 の非負制約)\n",
        "x1 = model.add_var(name=\"x1\", var_type=mip.CONTINUOUS, lb=0.0)\n",
        "# x2: 連続変数、下限(lb)は0.0 (x2 >= 0 の非負制約)\n",
        "x2 = model.add_var(name=\"x2\", var_type=mip.CONTINUOUS, lb=0.0)\n",
        "\n",
        "# 3. 目的関数の設定\n",
        "# 目的は x1 + x2を最大化することです。\n",
        "model.objective = x1 + x2\n",
        "# model.objective = mip.maximize(x1) # このように書くこともできます。\n",
        "\n",
        "# 4. 制約条件の追加\n",
        "# 制約1: x1 - x2 >= 0  (これは x1 >= x2 と同等です)\n",
        "c1 = model.add_constr(x1 - x2 >= 0, name=\"constraint_1_x1_ge_x2\")\n",
        "\n",
        "# 制約2: x2 >= 4\n",
        "c2 = model.add_constr(x2 >= 4, name=\"constraint_2_x2_ge_1\")\n",
        "\n",
        "# 制約3: 2x1 + x2 <= 4\n",
        "c3 = model.add_constr(2 * x1 + x2 <= 4)\n",
        "\n",
        "\n",
        "# 非負制約 (x1 >= 0, x2 >= 0) は変数の定義時に lb=0.0 で既に設定済みです。\n",
        "\n",
        "# --- 最適化の実行と結果の確認 ---\n",
        "\n",
        "# 5. 最適化の実行\n",
        "status = model.optimize()\n",
        "\n",
        "# 6. 結果の確認\n",
        "print(\"\\n--- 最適化結果 ---\")\n",
        "print(f\"最適化ステータス: {status}\")\n",
        "\n",
        "if status == mip.OptimizationStatus.UNBOUNDED:\n",
        "    print(\">>> 結果: この問題は非有界 (UNBOUNDED) です。\")\n",
        "elif status == mip.OptimizationStatus.OPTIMAL:\n",
        "    print(\">>> 結果: 最適解が発見されました (OPTIMAL)。\")\n",
        "elif status == mip.OptimizationStatus.INFEASIBLE:\n",
        "    print(\"    設定された制約をすべて満たす解が存在しません。\")\n",
        "else:\n",
        "    print(f\">>> 結果: その他のステータス ({status})\")\n",
        "    print(\"    最適化は正常に完了しなかったか、上記以外の状態です。\")"
      ],
      "metadata": {
        "id": "JpXFxma9xv5c"
      },
      "execution_count": null,
      "outputs": []
    },
    {
      "cell_type": "markdown",
      "source": [
        "以上をまとめると、\n",
        "model.optimize() が返す OptimizationStatus オブジェクトは以下の3通りがある。\n",
        "\n",
        "* `mip.OptimizationStatus.OPTIMAL` なら最適解発見\n",
        "* `mip.OptimizationStatus.UNBOUNDED` なら非有界\n",
        "* `mip.OptimizationStatus.INFEASIBLE` なら実行不可能"
      ],
      "metadata": {
        "id": "29l9m16e0Ejd"
      }
    },
    {
      "cell_type": "markdown",
      "source": [
        "---\n",
        "#演習問題\n",
        "\n",
        "例題とし以下の問題を取り上げた。\n",
        "\n",
        "## 例題：生産計画問題\n",
        "\n",
        "ある工場が2種類の製品Aと製品Bを生産している状況を考えます。\n",
        "生産には労働時間と原材料の2種類の資源が必要です。\n",
        "利用可能な資源量には限りがあり、各製品の生産によって得られる利益が分かっているとき、総利益を最大化する生産計画を立てることを目指します。\n",
        "\n",
        "### データ\n",
        "\n",
        "#### 資源\n",
        "| 製品 | 製品A (1単位あたり) | 製品B (1単位あたり) | 利用可能上限 |\n",
        "| :-------- | :---------------- | :---------------- | :----------- |\n",
        "| 労働時間  | 2 時間            | 1 時間            | 10 時間      |\n",
        "| 原材料    | 1 kg              | 2 kg              | 8 kg         |\n",
        "\n",
        "#### 利益\n",
        "| 製品 | 製品A (1単位あたり) | 製品B (1単位あたり) |\n",
        "| :-------- | :---------------- | :---------------- |\n",
        "| 利益      | 5 万円            | 4 万円            |\n",
        "\n",
        "###数理モデル\n",
        "\n",
        "####決定変数\n",
        "\n",
        "決定変数は\n",
        "\n",
        "* 製品Aの生産量：$x_1$\n",
        "* 製品Bの生産量：$x_2$\n",
        "\n",
        "となり、非負の変数とする。\n",
        "\n",
        "#### 目的関数\n",
        "\n",
        "最適化の目的は利益の最大化である。\n",
        "利益は\n",
        "$$\n",
        " Z=5x_1+4x_2\n",
        "$$\n",
        "である。\n",
        "\n",
        "#### 制約条件\n",
        "* 労働時間の上限が10時間であるから\n",
        "\n",
        "$$\n",
        " 2x_1+x_2 \\le 10\n",
        "$$\n",
        "\n",
        "* 原材料の上限が8kg であるから\n",
        "$$\n",
        "x_1+2x_2 \\le 8\n",
        "$$\n",
        "\n",
        "である。"
      ],
      "metadata": {
        "id": "yyfy93EhUfcQ"
      }
    },
    {
      "cell_type": "markdown",
      "source": [
        "\n",
        "### **演習問題1:**\n",
        "例題の目的関数が $Z = 3x_1 + 6x_2$ に変更された場合（製品Bの利益が増加）の最適生産計画 $(x_1, x_2)$ と最大利益 $Z$ を求めなさい。\n",
        "\n",
        "### **演習問題2:**\n",
        "例題の原材料の利用可能上限が $b_2=12$ に増加した場合（$x_1 + 2x_2 \\le 12$ となる）、新しい最適生産計画 $(x_1, x_2)$ と最大利益 $Z$ を求めなさい。（他の条件は例題と同じ）\n",
        "\n",
        "### **演習問題3:**\n",
        "例題に、製品Aと製品Bは、それぞれ最低1単位は生産しなければならない、という追加制約が課された場合（すなわち $x_1 \\ge 1$ かつ $x_2 \\ge 1$）、最適生産計画 $(x_1, x_2)$ と最大利益 $Z$ を求めなさい。（他の条件は例題と同じ）\n",
        "\n",
        "### **演習問題4:**\n",
        "市場の要求により、「製品Aと製品Bの合計生産量は、少なくとも5単位以上でなければならない」という制約が追加されました。この新しい問題を定式化し、最適生産計画 $(x_1, x_2)$ と最大利益 $Z$ を求めなさい。（他の条件は例題と同じ）\n",
        "\n",
        "### **演習問題5:**\n",
        "もし製品Aを生産する際に、段取り替えのために固定で労働時間が1時間必要になる場合（生産量が0より大きい場合のみ）、この状況をモデルに組み込み、最適生産計画 $(x_1, x_2)$ と最大利益 $Z$ を求める問題を定式化し、解を求めなさい。\n",
        "\n",
        "（ヒント：バイナリ変数とBig-M制約が必要になる。これは混合整数計画問題になります。）"
      ],
      "metadata": {
        "id": "tVnbnA-ZBSRW"
      }
    }
  ],
  "metadata": {
    "colab": {
      "provenance": [],
      "collapsed_sections": [
        "yyfy93EhUfcQ",
        "tVnbnA-ZBSRW",
        "RiKKGpzcgjXv",
        "-Q1VVNtx1qO2"
      ],
      "include_colab_link": true
    },
    "kernelspec": {
      "display_name": "Python 3",
      "name": "python3"
    }
  },
  "nbformat": 4,
  "nbformat_minor": 0
}