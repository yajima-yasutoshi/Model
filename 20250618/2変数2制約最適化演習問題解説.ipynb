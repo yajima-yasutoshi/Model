{
  "cells": [
    {
      "cell_type": "markdown",
      "metadata": {
        "id": "view-in-github",
        "colab_type": "text"
      },
      "source": [
        "<a href=\"https://colab.research.google.com/github/yajima-yasutoshi/Model/blob/main/20250618/2%E5%A4%89%E6%95%B02%E5%88%B6%E7%B4%84%E6%9C%80%E9%81%A9%E5%8C%96%E6%BC%94%E7%BF%92%E5%95%8F%E9%A1%8C%E8%A7%A3%E8%AA%AC.ipynb\" target=\"_parent\"><img src=\"https://colab.research.google.com/assets/colab-badge.svg\" alt=\"Open In Colab\"/></a>"
      ]
    },
    {
      "cell_type": "markdown",
      "source": [
        "\n",
        "#演習問題 解答\n",
        "\n",
        "---\n",
        "\n",
        "### **準備: ライブラリのインストール**\n",
        "最初に、数理最適化問題を解くための`python-mip`ライブラリをインストールする必要がある。以下のコードセルを実行する。"
      ],
      "metadata": {
        "id": "IGZxkdoNRq-j"
      }
    },
    {
      "cell_type": "code",
      "source": [
        "%%capture\n",
        "# 演習問題の解答コードを実行する前に、このセルを一度だけ実行してください。\n",
        "!pip install mip"
      ],
      "outputs": [],
      "execution_count": null,
      "metadata": {
        "id": "oulUTOHRRq-l"
      }
    },
    {
      "cell_type": "markdown",
      "source": [
        "##例題の数理モデル（再掲）\n",
        "\n",
        "例題の数理モデルは以下のようなものであった。\n",
        "\n",
        "$$\n",
        "\\begin{array}{lll}\n",
        "\\text{Maximize} & Z = 5x_1 + 4x_2 & (\\text{目的関数}) \\\\\n",
        "\\text{Subject to} & 2x_1 + x_2 \\le 10 & (\\text{労働時間制約}) \\\\\n",
        "& x_1 + 2x_2 \\le 8 & (\\text{原材料制約}) \\\\\n",
        "& x_1 \\ge 0 & (\\text{非負条件}) \\\\\n",
        "& x_2 \\ge 0 & (\\text{非負条件})\n",
        "\\end{array}\n",
        "$$\n",
        "\n",
        "最適化結果は\n",
        "\n",
        "* 最大利益 ($Z$): 28.0 万円\n",
        "* 最適生産計画:\n",
        "   * 製品A ($x_1$): 4.0 単位\n",
        "   * 製品B ($x_2$): 2.0 単位"
      ],
      "metadata": {
        "id": "pkUQgZcf0sbe"
      }
    },
    {
      "cell_type": "markdown",
      "source": [
        "---\n",
        "\n",
        "## 演習問題1\n",
        "**問題:**\n",
        "例題の目的関数が $Z=2x_{1}+3x_{2}$ に変更された場合の最適生産計画 $(x_{1},x_{2})$ と最大利益Zを求めなさい。\n",
        "\n",
        "### **1. 数理モデルの定式化**\n",
        "本問題は、例題の生産計画問題において、製品Aと製品Bの単位あたり利益が変更されたケースである。決定変数と制約条件は例題と同一であり、目的関数のみが変更される。\n",
        "\n",
        "* **決定変数**\n",
        "    * $x_{1}$: 製品Aの生産量(単位)\n",
        "    * $x_{2}$: 製品Bの生産量(単位)\n",
        "\n",
        "* **目的関数 (変更点)**\n",
        "    製品Aの利益が2万円、製品Bの利益が3万円となるため、総利益Zを最大化する目的関数は以下のように表される。\n",
        "    $$\n",
        "    \\text{Maximize} \\quad Z = 2x_{1} + 3x_{2}\n",
        "    $$\n",
        "\n",
        "* **制約条件 (例題と同様)**\n",
        "    * 労働時間制約: $2x_{1} + x_{2} \\le 10$\n",
        "    * 原材料制約: $x_{1} + 2x_{2} \\le 8$\n",
        "    * 非負条件: $x_{1} \\ge 0, \\quad x_{2} \\ge 0$\n",
        "\n",
        "### **2. Python (MIP) による実装**"
      ],
      "metadata": {
        "id": "5sTB5nrIRq-m"
      }
    },
    {
      "cell_type": "code",
      "source": [
        "# モジュールのインポート\n",
        "import mip\n",
        "\n",
        "# 1. モデルオブジェクトの作成\n",
        "# 問題名を\"ex1_production\"、目的を最大化(MAXIMIZE)としてモデルを作成する。\n",
        "model = mip.Model(name=\"ex1_production\", sense=mip.MAXIMIZE)\n",
        "\n",
        "# 2. 決定変数の定義\n",
        "# 製品Aの生産量 x1: 連続変数、下限は0.0\n",
        "x1 = model.add_var(name=\"x1\", var_type=mip.CONTINUOUS, lb=0.0)\n",
        "# 製品Bの生産量 x2: 連続変数、下限は0.0\n",
        "x2 = model.add_var(name=\"x2\", var_type=mip.CONTINUOUS, lb=0.0)\n",
        "\n",
        "# 3. 目的関数の設定\n",
        "# 変更された目的関数 Z = 2*x1 + 3*x2 を設定する。\n",
        "model.objective = 2*x1 + 3*x2\n",
        "\n",
        "# 4. 制約条件の追加\n",
        "# 労働時間制約\n",
        "model.add_constr(2*x1 + x2 <= 10, name=\"labor\")\n",
        "# 原材料制約\n",
        "model.add_constr(x1 + 2*x2 <= 8, name=\"material\")\n",
        "\n",
        "# 5. 最適化の実行\n",
        "status = model.optimize()\n",
        "\n",
        "# 6. 結果の確認\n",
        "print(\"--- 演習問題1 最適化結果 ---\")\n",
        "if status == mip.OptimizationStatus.OPTIMAL:\n",
        "    print(f\"状態: 最適解発見 (OPTIMAL)\")\n",
        "    print(f\"最大利益 (Z): {model.objective_value:.1f} 万円\")\n",
        "    print(\"最適生産計画:\")\n",
        "    print(f\"  製品A (x1): {x1.x:.2f} 単位\")\n",
        "    print(f\"  製品B (x2): {x2.x:.2f} 単位\")\n",
        "else:\n",
        "    print(f\"状態: {status}\")\n",
        "    print(\"最適解が見つかりませんでした。\")"
      ],
      "outputs": [],
      "execution_count": null,
      "metadata": {
        "id": "6rlgpJpeRq-n"
      }
    },
    {
      "cell_type": "markdown",
      "source": [
        "###コメント\n",
        "目的関数が変更になったので、最適値（$Z$）は変化した。\n",
        "このケースでは（たまたま）最適解（$x_1,x2$）は\n",
        "例題と同じであった。"
      ],
      "metadata": {
        "id": "Xj22Toyu2ADO"
      }
    },
    {
      "cell_type": "markdown",
      "source": [
        "---\n",
        "\n",
        "## 演習問題2\n",
        "**問題:**\n",
        "例題の原材料の利用可能上限が $b_{2}=12$ に増加した場合 ($x_{1}+2x_{2}\\le12$ となる)、新しい最適生産計画 $(x_{1},x_{2})$ と最大利益Zを求めなさい。(他の条件は例題と同じ)\n",
        "\n",
        "### **1. 数理モデルの定式化**\n",
        "本問題では、利用可能な原材料の上限が8kgから12kgに増加する。目的関数および労働時間制約は例題と同一である。\n",
        "\n",
        "* **決定変数**\n",
        "    * $x_{1}$: 製品Aの生産量(単位)\n",
        "    * $x_{2}$: 製品Bの生産量(単位)\n",
        "\n",
        "* **目的関数 (例題と同様)**\n",
        "    $$\n",
        "    \\text{Maximize} \\quad Z = 5x_{1} + 4x_{2}\n",
        "    $$\n",
        "\n",
        "* **制約条件**\n",
        "    * 労働時間制約: $2x_{1} + x_{2} \\le 10$\n",
        "    * 原材料制約: $x_{1} + 2x_{2} \\le 12$ **(変更点)**\n",
        "    * 非負条件: $x_{1} \\ge 0, \\quad x_{2} \\ge 0$\n",
        "\n",
        "### **2. Python (MIP) による実装**"
      ],
      "metadata": {
        "id": "Rc2JUV6yRq-n"
      }
    },
    {
      "cell_type": "code",
      "source": [
        "# モジュールのインポート\n",
        "import mip\n",
        "\n",
        "# 1. モデルオブジェクトの作成\n",
        "model = mip.Model(name=\"ex2_production\", sense=mip.MAXIMIZE)\n",
        "\n",
        "# 2. 決定変数の定義\n",
        "x1 = model.add_var(name=\"x1\", var_type=mip.CONTINUOUS, lb=0.0)\n",
        "x2 = model.add_var(name=\"x2\", var_type=mip.CONTINUOUS, lb=0.0)\n",
        "\n",
        "# 3. 目的関数の設定 (例題と同じ)\n",
        "model.objective = 5*x1 + 4*x2\n",
        "\n",
        "# 4. 制約条件の追加\n",
        "# 労働時間制約\n",
        "model.add_constr(2*x1 + x2 <= 10, name=\"labor\")\n",
        "# 原材料制約 (上限値を12に変更)\n",
        "model.add_constr(x1 + 2*x2 <= 12, name=\"material\")\n",
        "\n",
        "# 5. 最適化の実行\n",
        "status = model.optimize()\n",
        "\n",
        "# 6. 結果の確認\n",
        "print(\"--- 演習問題2 最適化結果 ---\")\n",
        "if status == mip.OptimizationStatus.OPTIMAL:\n",
        "    print(f\"状態: 最適解発見 (OPTIMAL)\")\n",
        "    print(f\"最大利益 (Z): {model.objective_value:.2f} 万円\")\n",
        "    print(\"最適生産計画:\")\n",
        "    print(f\"  製品A (x1): {x1.x:.2f} 単位\")\n",
        "    print(f\"  製品B (x2): {x2.x:.2f} 単位\")\n",
        "else:\n",
        "    print(f\"状態: {status}\")\n",
        "    print(\"最適解が見つかりませんでした。\")"
      ],
      "outputs": [],
      "execution_count": null,
      "metadata": {
        "id": "6llxMjQLRq-n"
      }
    },
    {
      "cell_type": "markdown",
      "source": [
        "\n",
        "---\n",
        "\n",
        "## 演習問題3\n",
        "**問題:**\n",
        "例題に、製品Aと製品Bは、それぞれ最低1単位は生産しなければならない、という追加制約が課された場合(すなわち $x_{1}\\ge1$ かつ $x_{2}\\ge1$)、最適生産計画 $(x_{1},x_{2})$ と最大利益を求めなさい。(他の条件は例題と同じ)\n",
        "\n",
        "### **1. 数理モデルの定式化**\n",
        "本問題では、各製品の生産量に下限が設けられる。これは非負条件がより厳しい制約に置き換わることを意味する。\n",
        "\n",
        "* **決定変数**\n",
        "    * $x_{1}$: 製品Aの生産量(単位)\n",
        "    * $x_{2}$: 製品Bの生産量(単位)\n",
        "\n",
        "* **目的関数 (例題と同様)**\n",
        "    $$\n",
        "    \\text{Maximize} \\quad Z = 5x_{1} + 4x_{2}\n",
        "    $$\n",
        "\n",
        "* **制約条件**\n",
        "    * 労働時間制約: $2x_{1} + x_{2} \\le 10$\n",
        "    * 原材料制約: $x_{1} + 2x_{2} \\le 8$\n",
        "    * 生産量下限制約 ($変更点$): $x_{1} \\ge 1, \\quad x_{2} \\ge 1$\n",
        "\n",
        "### **2. Python (MIP) による実装**\n",
        "この新しい制約は、決定変数を定義する際の `add_var` メソッドの下限( `lb` )パラメータを `0.0` から `1.0` に変更することで、効率的にモデル化できる。"
      ],
      "metadata": {
        "id": "u69o6PteRq-n"
      }
    },
    {
      "cell_type": "code",
      "source": [
        "# モジュールのインポート\n",
        "import mip\n",
        "\n",
        "# 1. モデルオブジェクトの作成\n",
        "model = mip.Model(name=\"ex3_production\", sense=mip.MAXIMIZE)\n",
        "\n",
        "# 2. 決定変数の定義\n",
        "# 製品Aの生産量 x1: 下限(lb)を1.0に変更\n",
        "x1 = model.add_var(name=\"x1\", var_type=mip.CONTINUOUS, lb=1.0)\n",
        "# 製品Bの生産量 x2: 下限(lb)を1.0に変更\n",
        "x2 = model.add_var(name=\"x2\", var_type=mip.CONTINUOUS, lb=1.0)\n",
        "\n",
        "# 3. 目的関数の設定 (例題と同じ)\n",
        "model.objective = 5*x1 + 4*x2\n",
        "\n",
        "# 4. 制約条件の追加\n",
        "# 労働時間制約\n",
        "model.add_constr(2*x1 + x2 <= 10, name=\"labor\")\n",
        "# 原材料制約\n",
        "model.add_constr(x1 + 2*x2 <= 8, name=\"material\")\n",
        "\n",
        "# 5. 最適化の実行\n",
        "status = model.optimize()\n",
        "\n",
        "# 6. 結果の確認\n",
        "print(\"--- 演習問題3 最適化結果 ---\")\n",
        "if status == mip.OptimizationStatus.OPTIMAL:\n",
        "    print(f\"状態: 最適解発見 (OPTIMAL)\")\n",
        "    print(f\"最大利益 (Z): {model.objective_value:.1f} 万円\")\n",
        "    print(\"最適生産計画:\")\n",
        "    print(f\"  製品A (x1): {x1.x:.2f} 単位\")\n",
        "    print(f\"  製品B (x2): {x2.x:.2f} 単位\")\n",
        "else:\n",
        "    print(f\"状態: {status}\")\n",
        "    print(\"最適解が見つかりませんでした。\")"
      ],
      "outputs": [],
      "execution_count": null,
      "metadata": {
        "id": "SJx4VUg2Rq-o"
      }
    },
    {
      "cell_type": "markdown",
      "source": [
        "---\n",
        "\n",
        "## 演習問題4\n",
        "**問題:**\n",
        "市場の要求により、「製品Aと製品Bの合計生産量は、少なくとも5単位以上でなければならない」という制約が追加されました。この新しい問題を定式化し、最適生産計画 $(x_{1},x_{2})$ と最大利益Zを求めなさい。(他の条件は例題と同じ)\n",
        "\n",
        "### **1. 数理モデルの定式化**\n",
        "本問題は、例題のモデルに新しい制約を追加するものである。\n",
        "\n",
        "* **決定変数**\n",
        "    * $x_{1}$: 製品Aの生産量(単位)\n",
        "    * $x_{2}$: 製品Bの生産量(単位)\n",
        "\n",
        "* **目的関数 (例題と同様)**\n",
        "    $$\n",
        "    \\text{Maximize} \\quad Z = 5x_{1} + 4x_{2}\n",
        "    $$\n",
        "\n",
        "* **制約条件**\n",
        "    * 労働時間制約: $2x_{1} + x_{2} \\le 10$\n",
        "    * 原材料制約: $x_{1} + 2x_{2} \\le 8$\n",
        "    * 合計生産量制約 (追加): $x_{1} + x_{2} \\ge 5$\n",
        "    * 非負条件: $x_{1} \\ge 0, \\quad x_{2} \\ge 0$\n",
        "\n",
        "### **2. Python (MIP) による実装**"
      ],
      "metadata": {
        "id": "iru5tUMQRq-o"
      }
    },
    {
      "cell_type": "code",
      "source": [
        "# モジュールのインポート\n",
        "import mip\n",
        "\n",
        "# 1. モデルオブジェクトの作成\n",
        "model = mip.Model(name=\"ex4_production\", sense=mip.MAXIMIZE)\n",
        "\n",
        "# 2. 決定変数の定義\n",
        "x1 = model.add_var(name=\"x1\", var_type=mip.CONTINUOUS, lb=0.0)\n",
        "x2 = model.add_var(name=\"x2\", var_type=mip.CONTINUOUS, lb=0.0)\n",
        "\n",
        "# 3. 目的関数の設定 (例題と同じ)\n",
        "model.objective = 5*x1 + 4*x2\n",
        "\n",
        "# 4. 制約条件の追加\n",
        "# 労働時間制約\n",
        "model.add_constr(2*x1 + x2 <= 10, name=\"labor\")\n",
        "# 原材料制約\n",
        "model.add_constr(x1 + 2*x2 <= 8, name=\"material\")\n",
        "# 合計生産量制約 (追加)\n",
        "model.add_constr(x1 + x2 >= 5, name=\"total_production\")\n",
        "\n",
        "# 5. 最適化の実行\n",
        "status = model.optimize()\n",
        "\n",
        "# 6. 結果の確認\n",
        "print(\"--- 演習問題4 最適化結果 ---\")\n",
        "if status == mip.OptimizationStatus.OPTIMAL:\n",
        "    print(f\"状態: 最適解発見 (OPTIMAL)\")\n",
        "    print(f\"最大利益 (Z): {model.objective_value:.1f} 万円\")\n",
        "    print(\"最適生産計画:\")\n",
        "    print(f\"  製品A (x1): {x1.x:.2f} 単位\")\n",
        "    print(f\"  製品B (x2): {x2.x:.2f} 単位\")\n",
        "else:\n",
        "    print(f\"状態: {status}\")\n",
        "    print(\"最適解が見つかりませんでした。\")"
      ],
      "outputs": [],
      "execution_count": null,
      "metadata": {
        "id": "UffyU8qgRq-o"
      }
    },
    {
      "cell_type": "markdown",
      "source": [
        "---\n",
        "\n",
        "## 演習問題5\n",
        "**問題:**\n",
        "もし製品Aを生産する際に、段取り替えのために固定で労働時間が1時間必要になる場合(生産量が0より大きい場合のみ)、この状況をモデルに組み込み、最適生産計画 $(x_{1},x_{2})$ と最大利益Zを求める問題を定式化し、解を求めなさい。\n",
        "\n",
        "### **1. 数理モデルの定式化**\n",
        "この問題は、生産量に依存しない固定の資源消費をモデル化するため、0か1の値を取る**バイナリ変数**を導入する必要がある。これにより、問題は線形計画問題から**混合整数計画(MIP)問題**となる。\n",
        "\n",
        "* **決定変数**\n",
        "    * $x_{1}$: 製品Aの生産量(単位)\n",
        "    * $x_{2}$: 製品Bの生産量(単位)\n",
        "    * $y_{1}$: 製品Aを生産するかどうかを示すバイナリ変数 ($1$なら生産する, $0$なら生産しない)\n",
        "\n",
        "* **目的関数 (例題と同様)**\n",
        "    $$\n",
        "    \\text{Maximize} \\quad Z = 5x_{1} + 4x_{2}\n",
        "    $$\n",
        "\n",
        "* **制約条件**\n",
        "    * **労働時間制約(変更)**: 製品Aを生産する場合($y_1=1$)にのみ、固定で1時間の労働時間が消費される。\n",
        "        $$\n",
        "        2x_{1} + x_{2} + 1y_{1} \\le 10\n",
        "        $$\n",
        "    * **原材料制約**:\n",
        "        $$\n",
        "        x_{1} + 2x_{2} \\le 8\n",
        "        $$\n",
        "    * **Big-M制約**: バイナリ変数 $y_1$ と連続変数 $x_1$ を関連付けるための制約。$x_1$ が（0でなく）正となれば$y_1$が1となる制約を追加する。\n",
        "        $$\n",
        "        x_{1} \\le M \\cdot y_{1}\n",
        "        $$\n",
        "        ここで $M$ は、$x_1$ が取りうる最大値よりも十分に大きい定数とする（Big-M と呼ばれる）。\n",
        "        \n",
        "        この条件より $y_1=0$ の場合は $x_1 \\le 0 $ より $x_1=0$ となる。\n",
        "        \n",
        "        また、\n",
        "        $x_1>0$ であれば、$y_1=1$ となる。\n",
        "        なお、$M$は、他の制約から $x_1$ は最大でも5 ($2x_1 \\le 10$) を超えないため、$M=5$ と設定すれば十分である。\n",
        "    * **変数条件**:\n",
        "        $$\n",
        "        x_{1} \\ge 0, \\quad x_{2} \\ge 0, \\quad y_{1} \\in \\{0, 1\\}\n",
        "        $$\n",
        "\n",
        "### **2. Python (MIP) による実装**"
      ],
      "metadata": {
        "id": "LHYVoCxBRq-o"
      }
    },
    {
      "cell_type": "code",
      "source": [
        "# モジュールのインポート\n",
        "import mip\n",
        "\n",
        "# 1. モデルオブジェクトの作成\n",
        "model = mip.Model(name=\"ex5_production_mip\", sense=mip.MAXIMIZE)\n",
        "\n",
        "# 2. 決定変数の定義\n",
        "# 連続変数\n",
        "x1 = model.add_var(name=\"x1\", var_type=mip.CONTINUOUS, lb=0.0)\n",
        "x2 = model.add_var(name=\"x2\", var_type=mip.CONTINUOUS, lb=0.0)\n",
        "# バイナリ変数 (製品Aを生産するか否か)\n",
        "y1 = model.add_var(name=\"y1\", var_type=mip.BINARY)\n",
        "\n",
        "# 3. 目的関数の設定 (例題と同じ)\n",
        "model.objective = 5*x1 + 4*x2\n",
        "\n",
        "# 4. 制約条件の追加\n",
        "# 労働時間制約 (固定消費分を追加)\n",
        "model.add_constr(2*x1 + x2 + y1 <= 10, name=\"labor_modified\")\n",
        "# 原材料制約\n",
        "model.add_constr(x1 + 2*x2 <= 8, name=\"material\")\n",
        "# Big-M制約 (M=5とする)\n",
        "M = 5.0\n",
        "model.add_constr(x1 <= M * y1, name=\"big_m\")\n",
        "\n",
        "# 5. 最適化の実行\n",
        "status = model.optimize()\n",
        "\n",
        "# 6. 結果の確認\n",
        "print(\"--- 演習問題5 最適化結果 ---\")\n",
        "if status == mip.OptimizationStatus.OPTIMAL:\n",
        "    print(f\"状態: 最適解発見 (OPTIMAL)\")\n",
        "    print(f\"最大利益 (Z): {model.objective_value:.1f} 万円\")\n",
        "    print(\"最適生産計画:\")\n",
        "    print(f\"  製品A (x1): {x1.x:.2f} 単位\")\n",
        "    print(f\"  製品B (x2): {x2.x:.2f} 単位\")\n",
        "    print(f\"  製品A生産有無 (y1): {'生産する' if y1.x > 0.5 else '生産しない'} ({y1.x:.0f})\")\n",
        "else:\n",
        "    print(f\"状態: {status}\")\n",
        "    print(\"最適解が見つかりませんでした。\")"
      ],
      "outputs": [],
      "execution_count": null,
      "metadata": {
        "id": "h-FNWcE0Rq-p"
      }
    }
  ],
  "metadata": {
    "colab": {
      "provenance": [],
      "include_colab_link": true
    },
    "kernelspec": {
      "display_name": "Python 3",
      "name": "python3"
    }
  },
  "nbformat": 4,
  "nbformat_minor": 0
}