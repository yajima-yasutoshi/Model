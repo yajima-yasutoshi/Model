{
  "cells": [
    {
      "cell_type": "markdown",
      "metadata": {
        "id": "view-in-github",
        "colab_type": "text"
      },
      "source": [
        "<a href=\"https://colab.research.google.com/github/yajima-yasutoshi/Model/blob/main/20250702/%E5%89%B2%E5%BD%93%E5%95%8F%E9%A1%8C.ipynb\" target=\"_parent\"><img src=\"https://colab.research.google.com/assets/colab-badge.svg\" alt=\"Open In Colab\"/></a>"
      ]
    },
    {
      "cell_type": "markdown",
      "source": [
        "#準備"
      ],
      "metadata": {
        "id": "dA5SAvxl08wR"
      }
    },
    {
      "cell_type": "code",
      "source": [
        "%%capture\n",
        "# python-mip ライブラリをインストールする\n",
        "!pip install mip\n",
        "\n",
        "# グラフ操作・描画、数値計算ライブラリ\n",
        "!pip install networkx matplotlib numpy\n",
        "\n",
        "# Matplotlibで日本語を表示するためのライブラリをインストール\n",
        "!pip install japanize-matplotlib\n",
        "\n",
        "# 必要なライブラリをインポートする\n",
        "import mip\n",
        "import numpy as np\n",
        "import matplotlib.pyplot as plt\n",
        "import networkx as nx\n",
        "import japanize_matplotlib # ← 日本語表示のためにインポート\n",
        "import random"
      ],
      "outputs": [],
      "execution_count": null,
      "metadata": {
        "id": "E6In-ane0xYN"
      }
    },
    {
      "cell_type": "markdown",
      "source": [
        "#割当問題\n",
        "\n",
        "本講義では、\n",
        "**割当問題 (Assignment Problem)**\n",
        "について学びます。\n",
        "この問題は、有限個の「エージェント（作業者、機械、リソースなど）」を、\n",
        "同数の「タスク（仕事、役割、目的地など）」に1対1で割り当てる際に、\n",
        "全体のコストを最小にする（あるいは全体の利益や効率を最大にする）最適な組み合わせを見つけ出すことを目的とします。\n",
        "\n",
        "本講義の目標は以下の通りです。\n",
        "\n",
        "1.  割当問題の基本的な概念、その重要性、および実社会での多様な応用例を理解する。\n",
        "2.  割当問題を数理モデルとして定式化する手法を習得する。\n",
        "3.  Pythonの最適化ライブラリ `python-mip` を用いて割当問題を実際に解く。\n",
        "4.  割当問題の性質（輸送問題との関連、整数性など）や、代表的な解法（ハンガリー法など）について理解する。\n"
      ],
      "metadata": {
        "id": "rltfdg_q0xYQ"
      }
    },
    {
      "cell_type": "markdown",
      "source": [
        "##割当問題の定義\n",
        "\n",
        "割当問題は、ある集合の要素（エージェント）を、別の集合の要素（タスク）に1対1に対応付ける問題である。\n",
        "通常、エージェントの数とタスクの数は等しいと仮定される。\n",
        "各エージェントが各タスクを実行する際には、\n",
        "特定のコスト（または時間、非効率性など）が発生する\n",
        "（あるいは、特定の利益や評価値が得られる）。\n",
        "目的は、全てのタスクをエージェントに割り当て、\n",
        "その際の総コストを最小にする（または総利益を最大にする）\n",
        "ことである。\n",
        "\n",
        "* **入力**:\n",
        "  * $n$ 人のエージェントの集合\n",
        "$A = \\{A_1, A_2, \\dots, A_n\\}$\n",
        "  * $n$ 個のタスクの集合\n",
        "$T = \\{T_1, T_2, \\dots, T_n\\}$\n",
        "  * エージェント $A_i$ がタスク $T_j$ を実行した際のコスト（または効率の逆数など） $c_{ij}$\n",
        "    これらはコスト行列\n",
        "$$C = [c_{ij}]$$ として与えられる。\n",
        "* **出力**:\n",
        "    * 各エージェントをどのタスクに割り当てるかの1対1の対応付け。\n",
        "* **目的**:\n",
        "    * 割り当てられたペア $(A_i, T_j)$ のコスト $c_{ij}$ の総和を最小化する（コスト最小化の場合）。\n",
        "    * または、割り当てられたペアの利益の総和を最大化する（利益最大化の場合）。\n",
        "\n",
        "この割当問題は、\n",
        "二部グラフにおける**最小重み完全マッチング問題**とも呼ばれる。\n",
        "\n",
        "### 簡単な例題と図解\n",
        "\n",
        "3人の作業者（W1, W2, W3）と3つの仕事（J1, J2, J3）があり、各作業者が各仕事を行った場合のコスト（時間など）が以下の表で与えられているとする。\n",
        "\n",
        "| 作業者/仕事 | J1 | J2 | J3 |\n",
        "| :---------- | :-: | :-: | :-: |\n",
        "| **W1** | 10 |  8  | 12 |\n",
        "| **W2** |  7 | 11  |  9 |\n",
        "| **W3** |  9 |  6  | 10 |\n",
        "\n",
        "**目的**: 各作業者に異なる仕事を1つずつ割り当て、総コストを最小にする。\n",
        "\n",
        "考えられる割り当ての1つ:\n",
        "* W1 $\\to$ J1 (コスト10)\n",
        "* W2 $\\to$ J2 (コスト11)\n",
        "* W3 $\\to$ J3 (コスト10)\n",
        "\n",
        "この割り当ての総コスト = $10 + 11 + 10 = 31$。\n",
        "\n",
        "別の割り当て:\n",
        "* W1 $\\to$ J2 (コスト8)\n",
        "* W2 $\\to$ J1 (コスト7)\n",
        "* W3 $\\to$ J3 (コスト10)\n",
        "\n",
        "この割り当ての総コスト = $8 + 7 + 10 = 25$。こちらの方が良い。\n",
        "\n",
        "最適な割り当てを見つける必要がある。"
      ],
      "metadata": {
        "id": "kKiLE-Rz0xYR"
      }
    },
    {
      "cell_type": "code",
      "source": [
        "#@title 二部グラフを使った図示\n",
        "import networkx as nx\n",
        "import matplotlib.pyplot as plt\n",
        "\n",
        "# 例題データ\n",
        "agents_ex_ap = ['W1', 'W2', 'W3']\n",
        "tasks_ex_ap = ['J1', 'J2', 'J3']\n",
        "costs_ex_ap_dict = {\n",
        "    ('W1', 'J1'): 10, ('W1', 'J2'): 8,  ('W1', 'J3'): 12,\n",
        "    ('W2', 'J1'): 7,  ('W2', 'J2'): 11, ('W2', 'J3'): 9,\n",
        "    ('W3', 'J1'): 9,  ('W3', 'J2'): 6,  ('W3', 'J3'): 10,\n",
        "}\n",
        "\n",
        "# 二部グラフの作成\n",
        "B_ex_ap = nx.Graph()\n",
        "# エージェントノードを追加 (bipartite=0)\n",
        "# タスクノードとの水平方向の距離を広げるために、エージェントのx座標を0、タスクのx座標を3とする\n",
        "agent_x_coord = 0\n",
        "task_x_coord = 3 # 以前は2だったものを3に変更\n",
        "\n",
        "for i, agent in enumerate(agents_ex_ap):\n",
        "    B_ex_ap.add_node(agent, bipartite=0, pos=(agent_x_coord, i))\n",
        "# タスクノードを追加 (bipartite=1)\n",
        "for i, task in enumerate(tasks_ex_ap):\n",
        "    B_ex_ap.add_node(task, bipartite=1, pos=(task_x_coord, i))\n",
        "\n",
        "# 辺 (可能な割り当てとコスト) を追加\n",
        "for (agent, task), cost in costs_ex_ap_dict.items():\n",
        "    B_ex_ap.add_edge(agent, task, weight=cost)\n",
        "\n",
        "pos_ex_ap = nx.get_node_attributes(B_ex_ap, 'pos')\n",
        "edge_labels_ex_ap = {(u,v): data['weight'] for u,v,data in B_ex_ap.edges(data=True)}\n",
        "\n",
        "# 図示 (コスト表示)\n",
        "plt.figure(figsize=(7, 4)) # 横幅を少し広げる\n",
        "nx.draw(B_ex_ap, pos_ex_ap, with_labels=True, node_color=['skyblue' if B_ex_ap.nodes[node]['bipartite']==0 else 'lightcoral' for node in B_ex_ap.nodes()], node_size=2000)\n",
        "nx.draw_networkx_edge_labels(B_ex_ap, pos_ex_ap, edge_labels=edge_labels_ex_ap, font_size=12, label_pos=0.4) # font_sizeを少し小さく、label_posを調整\n",
        "plt.title(\"割当問題の例 (二部グラフとコスト)\")\n",
        "plt.show()\n",
        "\n",
        "# 例の割り当て W1-J2, W2-J1, W3-J3 を表示\n",
        "example_assignment_edges = [('W1','J2'), ('W2','J1'), ('W3','J3')]\n",
        "example_assignment_cost = sum(costs_ex_ap_dict[edge] for edge in example_assignment_edges)\n",
        "\n",
        "plt.figure(figsize=(7, 3)) # 横幅を少し広げる\n",
        "nx.draw(B_ex_ap, pos_ex_ap, with_labels=True, node_color=['skyblue' if B_ex_ap.nodes[node]['bipartite']==0 else 'lightcoral' for node in B_ex_ap.nodes()], node_size=2000, style='dotted', alpha=0.3) # 背景は薄く\n",
        "nx.draw_networkx_edges(B_ex_ap, pos_ex_ap, edgelist=example_assignment_edges, edge_color='red', width=2.5)\n",
        "edge_labels_assigned = {edge: costs_ex_ap_dict[edge] for edge in example_assignment_edges}\n",
        "nx.draw_networkx_edge_labels(B_ex_ap, pos_ex_ap, edge_labels=edge_labels_assigned, font_color='red', font_size=12, label_pos=0.4)\n",
        "plt.title(f\"割当の一例 (赤線)、総コスト: {example_assignment_cost}\")\n",
        "plt.show()"
      ],
      "metadata": {
        "id": "k6yhkvmz6i2D",
        "cellView": "form"
      },
      "execution_count": null,
      "outputs": []
    },
    {
      "cell_type": "markdown",
      "source": [
        "## 実社会での応用例\n",
        "\n",
        "割当問題は、リソースとタスクの最適なマッチングが求められる多くの場面で応用される。\n",
        "\n",
        "* **人事・労務管理**:\n",
        "    * 作業員を特定の機械や工程に割り当てる。\n",
        "    * 従業員をプロジェクトやシフトに割り当てる。\n",
        "    * 新入社員を研修プログラムや部署に割り当てる。\n",
        "* **プロジェクト管理**:\n",
        "    * チームメンバーを特定のタスクや役割に割り当てる。\n",
        "    * コンサルタントをクライアント案件に割り当てる。\n",
        "* **スケジューリング**:\n",
        "    * 航空機をフライトスケジュールに割り当てる（クルーの割り当てと合わせてより複雑な問題になる）。\n",
        "    * 教室を授業に割り当てる。\n",
        "    * 手術室を予定されている手術に割り当てる。\n",
        "* **物流・輸送**:\n",
        "    * トラックを配送ルートや集荷タスクに割り当てる（より複雑なVRPの一部として）。\n",
        "    * タクシーを乗客の配車リクエストに割り当てる。\n",
        "* **その他**:\n",
        "    * コンピュータのプロセスをCPUコアに割り当てる。\n",
        "    * 広告スロットを広告主に割り当てる。\n",
        "\n",
        "これらの応用では、コスト、時間、スキル、優先度など、様々な評価基準が考慮される。"
      ],
      "metadata": {
        "id": "VNsZePML0xYT"
      }
    },
    {
      "cell_type": "markdown",
      "source": [
        "## 数理モデルによる定式化\n",
        "\n",
        "割当問題を0-1整数計画問題として定式化する。ここでは、エージェントの数とタスクの数が等しい（$n$とする）標準的なケースを考える。\n",
        "\n",
        "### 決定変数\n",
        "\n",
        "* $x_{ij}$: エージェント $i$ をタスク $j$ に割り当てる場合は $1$、そうでない場合は $0$ をとるバイナリ変数。\n",
        "($i = 0, \\dots, n-1$; $j = 0, \\dots, n-1$)\n",
        "\n",
        "### パラメータ\n",
        "\n",
        "* $n$: エージェントの数（およびタスクの数）。\n",
        "* $c_{ij}$: エージェント $i$ がタスク $j$ を実行するのにかかるコスト（または時間、非効率性など）。\n",
        "\n",
        "### 目的関数\n",
        "\n",
        "総割り当てコストを最小化する。\n",
        "\n",
        "$$\\min Z = \\sum_{i=0}^{n-1} \\sum_{j=0}^{n-1} c_{ij} x_{ij}$$\n",
        "\n",
        "もし利益 $p_{ij}$\n",
        "を最大化したい場合は、目的関数は総利益の最大化となる。\n",
        "$$\n",
        "\\max Z = \\sum_{i=0}^{n-1} \\sum_{j=0}^{n-1} p_{ij} x_{ij}\n",
        "$$\n",
        "とする。\n",
        "\n",
        "### 制約条件\n",
        "\n",
        "1.  **エージェント割り当て制約**:\n",
        "各エージェント $i$ は、正確に1つのタスクに割り当てられなければならない。\n",
        "$$\\sum_{j=0}^{n-1} x_{ij} = 1, \\quad \\forall i \\in \\{0, \\dots, n-1\\}$$\n",
        "\n",
        "2.  **タスク割り当て制約**:\n",
        "各タスク $j$ は、正確に1人のエージェントに割り当てられなければならない。\n",
        "$$\\sum_{i=0}^{n-1} x_{ij} = 1, \\quad \\forall j \\in \\{0, \\dots, n-1\\}$$\n",
        "\n",
        "3.  **変数型制約**:\n",
        "$$x_{ij} \\in \\{0, 1\\}, \\quad \\forall i \\in \\{0, \\dots, n-1\\}, \\forall j \\in \\{0, \\dots, n-1\\}$$\n",
        "\n",
        "### 数理モデルのまとめ\n",
        "\n",
        "**目的関数** (コスト最小化):\n",
        "$$\\min Z = \\sum_{i=0}^{n-1} \\sum_{j=0}^{n-1} c_{ij} x_{ij}$$\n",
        "\n",
        "**制約条件**:\n",
        "1.  $\\sum_{j=0}^{n-1} x_{ij} = 1 \\quad \\forall i \\in \\{0, \\dots, n-1\\}$  (各エージェントは1つのタスクへ)\n",
        "2.  $\\sum_{i=0}^{n-1} x_{ij} = 1 \\quad \\forall j \\in \\{0, \\dots, n-1\\}$  (各タスクは1人のエージェントから)\n",
        "3.  $x_{ij} \\in \\{0, 1\\} \\quad \\forall i, j \\in \\{0, \\dots, n-1\\}$\n",
        "\n",
        "この定式化は、全ての供給量 $a_i$ と需要量 $b_j$ が1であるバランス型輸送問題と全く同じ形をしている。"
      ],
      "metadata": {
        "id": "8v9jdvAf0xYV"
      }
    },
    {
      "cell_type": "markdown",
      "source": [
        "## Python MIP を用いた実装\n",
        "\n",
        "`python-mip` ライブラリを用いて、上記の割当問題を解く。"
      ],
      "metadata": {
        "id": "xWSAmRS00xYW"
      }
    },
    {
      "cell_type": "markdown",
      "source": [
        "### 問題データの設定 (上記例題データを使用)"
      ],
      "metadata": {
        "id": "bnpAFfgl0xYW"
      }
    },
    {
      "cell_type": "code",
      "source": [
        "# エージェントとタスクの数\n",
        "num_agents_ap = 3\n",
        "num_tasks_ap = 3\n",
        "\n",
        "# コスト行列 C[i,j]: エージェントiがタスクjを行うコスト\n",
        "# W1, W2, W3 / J1, J2, J3\n",
        "cost_matrix_ap = np.array([\n",
        "    [10, 8, 12], # W1\n",
        "    [7, 11, 9],  # W2\n",
        "    [9, 6, 10]   # W3\n",
        "])\n",
        "\n",
        "agent_names_ap = [f\"W{i+1}\" for i in range(num_agents_ap)]\n",
        "task_names_ap = [f\"J{j+1}\" for j in range(num_tasks_ap)]\n",
        "\n",
        "print(f\"{num_agents_ap}人のエージェントと{num_tasks_ap}個のタスク\")\n",
        "print(\"コスト行列:\")\n",
        "print(cost_matrix_ap)"
      ],
      "outputs": [],
      "execution_count": null,
      "metadata": {
        "id": "jvKNQF_F0xYX"
      }
    },
    {
      "cell_type": "markdown",
      "source": [
        "### モデルの作成と変数の定義"
      ],
      "metadata": {
        "id": "pscfwAIY0xYY"
      }
    },
    {
      "cell_type": "code",
      "source": [
        "# 1. モデルの作成\n",
        "model_ap = mip.Model(name=\"assignment_problem\", sense=mip.MINIMIZE, solver_name=mip.CBC)\n",
        "\n",
        "# インデックスの範囲\n",
        "A_range = range(num_agents_ap)\n",
        "T_range = range(num_tasks_ap)\n",
        "\n",
        "# 2. 変数の定義\n",
        "# x_ij: エージェントiをタスクjに割り当てるなら1\n",
        "x_ap = {(i,j): model_ap.add_var(var_type=mip.BINARY, name=f\"x_{i}_{j}\")\n",
        "        for i in A_range for j in T_range}"
      ],
      "outputs": [],
      "execution_count": null,
      "metadata": {
        "id": "jJHEiX6m0xYY"
      }
    },
    {
      "cell_type": "markdown",
      "source": [
        "### 目的関数の設定\n",
        "\n",
        "$$\n",
        "\\min Z = \\sum_{i=0}^{n-1} \\sum_{j=0}^{n-1} c_{ij} x_{ij}\n",
        "$$"
      ],
      "metadata": {
        "id": "hWIG0EF80xYZ"
      }
    },
    {
      "cell_type": "code",
      "source": [
        "# 3. 目的関数の設定\n",
        "model_ap.objective = mip.xsum(cost_matrix_ap[i,j] * x_ap[(i,j)]\n",
        "                              for i in A_range for j in T_range)"
      ],
      "outputs": [],
      "execution_count": null,
      "metadata": {
        "id": "OdK6fbun0xYZ"
      }
    },
    {
      "cell_type": "markdown",
      "source": [
        "### 制約条件の追加\n",
        "\n",
        "$$\n",
        "\\sum_{j=0}^{n-1} x_{ij} = 1 \\quad \\forall i \\in \\{0, \\dots, n-1\\}\n",
        "$$\n",
        "\n",
        "$$\n",
        "\\sum_{i=0}^{n-1} x_{ij} = 1 \\quad \\forall j \\in \\{0, \\dots, n-1\\}\n",
        "$$\n"
      ],
      "metadata": {
        "id": "y89KCJ8u0xYa"
      }
    },
    {
      "cell_type": "code",
      "source": [
        "# 4. 制約条件の追加\n",
        "\n",
        "# 制約1: 各エージェントiは、ちょうど1つのタスクjに割り当てられる\n",
        "for i in A_range:\n",
        "    model_ap += mip.xsum(x_ap[(i,j)] for j in T_range) == 1, f\"agent_assign_constr_{i}\"\n",
        "\n",
        "# 制約2: 各タスクjは、ちょうど1人のエージェントiに割り当てられる\n",
        "for j in T_range:\n",
        "    model_ap += mip.xsum(x_ap[(i,j)] for i in A_range) == 1, f\"task_assign_constr_{j}\""
      ],
      "outputs": [],
      "execution_count": null,
      "metadata": {
        "id": "TLjNjADC0xYa"
      }
    },
    {
      "cell_type": "markdown",
      "source": [
        "### 問題の求解と結果の表示・可視化"
      ],
      "metadata": {
        "id": "tbyG8j5m0xYb"
      }
    },
    {
      "cell_type": "code",
      "source": [
        "#問題の求解\n",
        "print(\"割当問題の最適化を開始します...\")\n",
        "status_ap = model_ap.optimize()\n",
        "\n",
        "# 6. 結果の表示と可視化\n",
        "if status_ap == mip.OptimizationStatus.OPTIMAL:\n",
        "    print(f\"最適解が見つかりました！\")\n",
        "    min_total_assignment_cost = model_ap.objective_value\n",
        "    print(f\"最小総割り当てコスト: {min_total_assignment_cost:.2f}\")\n",
        "\n",
        "    print(\"\\n最適な割り当て:\")\n",
        "    assignments_sol_ap = []\n",
        "    for i in A_range:\n",
        "        for j in T_range:\n",
        "            if x_ap[(i,j)].x >= 0.99: # x_ap[(i,j)] が1に近い\n",
        "                print(f\"  エージェント {agent_names_ap[i]} -> タスク {task_names_ap[j]} (コスト: {cost_matrix_ap[i,j]})\")\n",
        "                assignments_sol_ap.append((agent_names_ap[i], task_names_ap[j]))\n",
        "\n",
        "elif status_ap == mip.OptimizationStatus.INFEASIBLE:\n",
        "    print(\"実行不可能: 全てのエージェント/タスクを割り当てる解が存在しません。\")\n",
        "elif status_ap == mip.OptimizationStatus.NO_SOLUTION_FOUND:\n",
        "    print(f\"解が見つかりませんでした。\")\n",
        "else:\n",
        "    print(f\"最適化ステータス: {status_ap}\")"
      ],
      "metadata": {
        "id": "eXCMprFXchKc"
      },
      "execution_count": null,
      "outputs": []
    },
    {
      "cell_type": "code",
      "source": [
        "#@title 結果の表示と可視化\n",
        "G_ap_res = nx.Graph()\n",
        "\n",
        "node_positions_ap = {}\n",
        "agent_node_color = 'skyblue'\n",
        "task_node_color = 'lightcoral'\n",
        "\n",
        "# 水平方向の間隔を広げるため、タスクノードのx座標を大きくする\n",
        "agent_x_vis = 0\n",
        "task_x_vis = 4\n",
        "\n",
        "for idx, ag_name in enumerate(agent_names_ap):\n",
        "        G_ap_res.add_node(ag_name, bipartite=0)\n",
        "        node_positions_ap[ag_name] = (agent_x_vis, idx)\n",
        "\n",
        "for idx, ta_name in enumerate(task_names_ap):\n",
        "        G_ap_res.add_node(ta_name, bipartite=1)\n",
        "        node_positions_ap[ta_name] = (task_x_vis, idx)\n",
        "\n",
        "all_possible_edges_ap = []\n",
        "all_edge_labels_ap = {}\n",
        "for i in A_range:\n",
        "    for j in T_range:\n",
        "        G_ap_res.add_edge(agent_names_ap[i], task_names_ap[j], weight=cost_matrix_ap[i,j])\n",
        "        all_possible_edges_ap.append((agent_names_ap[i], task_names_ap[j]))\n",
        "        all_edge_labels_ap[(agent_names_ap[i], task_names_ap[j])] = f\"{cost_matrix_ap[i,j]}\" # 文字列としてコストを格納\n",
        "\n",
        "#plt.figure(figsize=(9, max(num_agents_ap,2) * 1.5 if num_agents_ap > 1 else 4)) # 横幅を広げ、縦幅を調整\n",
        "plt.figure(figsize=(7, 4)) # 横幅を少し広げる\n",
        "\n",
        "nx.draw(G_ap_res, node_positions_ap, with_labels=True,\n",
        "            node_color=[agent_node_color if G_ap_res.nodes[n]['bipartite']==0 else task_node_color for n in G_ap_res.nodes()],\n",
        "            node_size=2500, font_size=14, edgelist=all_possible_edges_ap, style=':', alpha=1)\n",
        "\n",
        "assigned_edge_labels_ap = {(u,v): G_ap_res.edges[u,v]['weight'] for u,v in assignments_sol_ap}\n",
        "nx.draw_networkx_edges(G_ap_res, node_positions_ap, edgelist=assignments_sol_ap, edge_color='red', width=2.5)\n",
        "nx.draw_networkx_edge_labels(G_ap_res, node_positions_ap, edge_labels=assigned_edge_labels_ap, font_color='red', font_size=14, label_pos=0.4)\n",
        "\n",
        "plt.title(f\"最適な割り当て (総コスト: {min_total_assignment_cost:.2f})\")\n",
        "plt.axis('off') # 軸を非表示に\n",
        "plt.show()"
      ],
      "outputs": [],
      "execution_count": null,
      "metadata": {
        "id": "dytMvDLX0xYb",
        "cellView": "form"
      }
    },
    {
      "cell_type": "markdown",
      "source": [
        "### 解法と性質\n",
        "\n",
        "* **整数計画問題**:\n",
        "割当問題は、決定変数 $x_{ij}$ が0または1の値を取るため、0-1整数計画問題として分類される。\n",
        "\n",
        "* **輸送問題の特殊ケース**:\n",
        "    割当問題は、全ての供給地の供給量が1であり、全ての需要地の需要量も1であるような、特殊なバランス型輸送問題と見なすことができる。このため、輸送問題の解法や性質の多くが割当問題にも適用できる。\n",
        "\n",
        "* **完全ユニモジュラ性と整数性**:\n",
        "    割当問題の制約行列は「完全ユニモジュラ (totally unimodular)」という特殊な性質を持つ。\n",
        "    この性質により、線形計画緩和（$x_{ij}$ を $0 \\le x_{ij} \\le 1$ の連続変数として扱う）を解いても、最適解では自動的に全ての $x_{ij}$ が0または1の整数値を取ることが保証される。したがって、ソルバーで整数変数として明示的に指定しなくても整数解が得られる。\n",
        "\n",
        "* **ハンガリー法 (Hungarian Algorithm)**:\n",
        "    割当問題を解くための古典的で非常に効率的な専用アルゴリズムとして「ハンガリー法」が知られている。このアルゴリズムは、コスト行列を操作して0を増やし、0のみを使って割り当てを見つけるという手順に基づき、計算量は $O(n^3)$（$n$はエージェント/タスク数）である。MIPソルバーはより汎用的だが、純粋な（制約が少ない）大規模な割当問題に対しては、ハンガリー法の方が高速な場合がある。`scipy.optimize.linear_sum_assignment` で実装されている。\n",
        "\n",
        "* **最大化問題への変換**:\n",
        "    もし目的が利益や評価値の「最大化」である場合、いくつかの対処法がある。\n",
        "    1.  目的関数を `sense=mip.MAXIMIZE` に変更する。\n",
        "    2.  各利益 $p_{ij}$ の符号を反転させて $-p_{ij}$ とし、この総和を最小化する（これは $\\sum p_{ij}x_{ij}$ を最大化することと等価）。"
      ],
      "metadata": {
        "id": "81B7ekWt0xYc"
      }
    },
    {
      "cell_type": "markdown",
      "source": [
        "---\n",
        "#演習問題\n",
        "\n"
      ],
      "metadata": {
        "id": "rLbvhKekDuzZ"
      }
    },
    {
      "cell_type": "markdown",
      "source": [
        "##**演習問題1**\n",
        "\n",
        "3エージェント（A0, A1, A2）と\n",
        "3タスク（T0, T1, T2）\n",
        "の割当問題を以下のコスト行列で最適化し、\n",
        "最小の総コストを解答せよ。\n",
        "\n",
        "```\n",
        "C = [[10,  8, 12],\n",
        "     [ 7, 11,  9],\n",
        "     [ 9,  4, 10]]\n",
        "```\n",
        "\n",
        "##**演習問題2**\n",
        "\n",
        "エージェント数とタスク数を4に増やし、以下のコスト行列で割当問題を解け。\n",
        "最小の総コストを解答せよ。\n",
        "\n",
        "```\n",
        "C = [[13,  8, 16, 18],\n",
        "     [10, 15,  3, 12],\n",
        "     [12,  9,  4,  6],\n",
        "     [ 6, 11, 14,  7]]\n",
        "```\n",
        "\n",
        "##**演習問題3**\n",
        "\n",
        "3人の営業担当者（S1, S2, S3）と3つの地域（R1, R2, R3）があり、各担当者が各地域を担当した場合に期待される利益が以下の表で与えられている。\n",
        "総利益を最大にする割り当てを求め、総利益の最大値を解答せよ。\n",
        "\n",
        "| 担当者/地域 | R1 | R2 | R3 |\n",
        "| :---------- | :-: | :-: | :-: |\n",
        "| **S1** | 50 | 65 | 70 |\n",
        "| **S2** | 80 | 75 | 60 |\n",
        "| **S3** | 55 | 60 | 75 |\n",
        "\n",
        "考え方：目的関数を最大化にして解く。\n",
        "\n",
        "\n",
        "##**演習問題4**\n",
        "\n",
        "演習問題2で、エージェントを A0, A1, A2, A3、\n",
        "タスクを T0, T1, T2, T3 とする。\n",
        "A1がT2を担当できない\n",
        "という制約を追加して、最適な割り当てを求め、\n",
        "総コストの最小値を解答せよ。\n",
        "\n",
        "##**演習問題5**\n",
        "\n",
        "3人のエージェントと4つのタスクがあるとする。各エージェントは1つのタスクを担当し、各タスクは高々1人のエージェントに担当される（つまり、タスクのうち1つは担当されない）。\n",
        "割り当てられたタスクの総コストの最小値を解答せよ。ただし、\n",
        "コスト行列（3x4）は以下とする。\n",
        "```\n",
        "C = [[8, 2, 5, 7],\n",
        "     [6, 4, 3, 9],\n",
        "     [5, 7, 8, 4]]\n",
        "```\n",
        "\n",
        "ヒント：タスク側の制約を $\\sum_i x_{ij} \\le 1$ に変更する。\n",
        "\n",
        "##**演習問題6**\n",
        "\n",
        "4人のエージェント(A0,A1,A2,A3)と4つのタスク(T0,T1,T2,T3)がある。コストは演習問題2の行列を使用する。\n",
        "制約として\n",
        "「もしエージェントA0がタスクT1に割り当てられたら、\n",
        "エージェントA1はタスクT3に割り当てられなければならない」\n",
        "を追加して最適化し、\n",
        "総コストの最小値を求めよ。\n"
      ],
      "metadata": {
        "id": "wS8p7kUC0xYd"
      }
    }
  ],
  "metadata": {
    "colab": {
      "provenance": [],
      "toc_visible": true,
      "include_colab_link": true
    },
    "kernelspec": {
      "display_name": "Python 3",
      "name": "python3"
    }
  },
  "nbformat": 4,
  "nbformat_minor": 0
}