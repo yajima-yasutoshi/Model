{
  "cells": [
    {
      "cell_type": "markdown",
      "metadata": {
        "id": "view-in-github",
        "colab_type": "text"
      },
      "source": [
        "<a href=\"https://colab.research.google.com/github/yajima-yasutoshi/Model/blob/main/20250702/%E6%9C%80%E7%9F%AD%E8%B7%AF%E5%95%8F%E9%A1%8C.ipynb\" target=\"_parent\"><img src=\"https://colab.research.google.com/assets/colab-badge.svg\" alt=\"Open In Colab\"/></a>"
      ]
    },
    {
      "cell_type": "markdown",
      "source": [
        "###準備\n",
        "20250702\n"
      ],
      "metadata": {
        "id": "nd75inGEvx4h"
      }
    },
    {
      "cell_type": "code",
      "source": [
        "%%capture\n",
        "# Python MIPのインストール\n",
        "!pip install mip\n",
        "\n",
        "# 日本語環境のインストール\n",
        "!pip install japanize-matplotlib"
      ],
      "metadata": {
        "id": "MTuWNSAIv2pS"
      },
      "execution_count": null,
      "outputs": []
    },
    {
      "cell_type": "markdown",
      "source": [
        "# 最短路問題\n",
        "\n",
        "## 問題の概要\n",
        "\n",
        "最短路問題（Shortest Path Problem）は、グラフ理論における基本的な問題の一つである。\n",
        "\n",
        "今、\n",
        "下の図のようなようなネットワーク（グラフ）が与えられ、\n",
        "各枝（エッジ）には**重み**と呼ぶ実数が付与されているとする。\n",
        "この時、指定された2点間（始点と終点）を結ぶ経路のうち、\n",
        "最もコストの低い（距離が短い、時間が短いなど）経路を見つける問題が最短路問題である。\n",
        "ここでの「コストの低い経路」とは、経路を構成する各枝に付随する重みの合計値を指す。\n"
      ],
      "metadata": {
        "id": "rSRpvmsIu0cQ"
      }
    },
    {
      "cell_type": "code",
      "source": [
        "#@title グラフ表示\n",
        "import japanize_matplotlib # これをインポートすることで日本語表示が有効になる\n",
        "\n",
        "# 必要なライブラリのインポート\n",
        "import networkx as nx\n",
        "import matplotlib.pyplot as plt\n",
        "# グラフの作成\n",
        "G = nx.Graph()\n",
        "\n",
        "# ノードの追加 (A, B, C, D, E)\n",
        "nodes = [\"A\", \"B\", \"C\", \"D\", \"E\"]\n",
        "G.add_nodes_from(nodes)\n",
        "\n",
        "# エッジと重みの追加 (ノード1, ノード2, 重み)\n",
        "edges_with_weights = [\n",
        "    (\"A\", \"B\", 4),\n",
        "    (\"A\", \"C\", 2),\n",
        "    (\"B\", \"C\", 5),\n",
        "    (\"B\", \"D\", 10),\n",
        "    (\"C\", \"D\", 3),\n",
        "    (\"C\", \"E\", 7),\n",
        "    (\"D\", \"E\", 4)\n",
        "]\n",
        "G.add_weighted_edges_from(edges_with_weights)\n",
        "\n",
        "# グラフの描画設定\n",
        "pos = nx.spring_layout(G, seed=42)  # ノードの配置を固定 (seedで再現性確保)\n",
        "edge_labels = nx.get_edge_attributes(G, 'weight')\n",
        "\n",
        "# 描画\n",
        "plt.figure(figsize=(7, 4))\n",
        "nx.draw_networkx_nodes(G, pos, node_size=700, node_color=\"skyblue\")\n",
        "nx.draw_networkx_edges(G, pos, width=2, alpha=0.6, edge_color=\"gray\")\n",
        "nx.draw_networkx_labels(G, pos, font_size=12) # font_family指定を削除 (japanize_matplotlibで自動設定)\n",
        "nx.draw_networkx_edge_labels(G, pos, edge_labels=edge_labels, font_size=16)\n",
        "\n",
        "plt.title(\"簡単な重み付きグラフの例\")\n",
        "plt.axis(\"off\") # 軸を非表示\n",
        "plt.show()\n"
      ],
      "metadata": {
        "id": "Vvf-gU56um_t",
        "cellView": "form"
      },
      "execution_count": null,
      "outputs": []
    },
    {
      "cell_type": "markdown",
      "source": [
        "グラフとは上の図のようなもので、A,B,C,D,Eを頂点（点、ノード、node）、\n",
        "頂点と頂点を結ぶ線を枝（エッジまたはアーク、edge、arc）と呼ぶ。\n",
        "特に、\n",
        "各枝に重みが付与されている場合を、**重み付きグラフ（ネットワーク）**\n",
        "と呼ぶことがある。"
      ],
      "metadata": {
        "id": "vh-XD6tVvfCj"
      }
    },
    {
      "cell_type": "markdown",
      "source": [
        "\n",
        "最短路問題は、現実世界の様々な場面で応用されている。例えば、カーナビゲーションシステムにおける最短経路探索、通信ネットワークにおけるデータパケットの最適ルーティング、物流における配送計画の最適化などが挙げられる。\n",
        "\n",
        "## 定式化の詳細\n",
        "最短路問題を定義するためには、重み付きグラフ（ネットワーク）を定める必要がある。\n",
        "そこで、\n",
        "重み付きグラフ（ネットワーク）の頂点の集合を$V$、\n",
        "頂点を結ぶ枝の集合を$E$とし、\n",
        "ノード $i$ からノード $j$ へ向かう枝$(i,j) \\in E$には、\n",
        "距離、時間、費用などの「コスト」$c_{ij}$ が割り当てられているとする。\n",
        "\n",
        "### 変数の定義\n",
        "\n",
        "この問題を数理モデルとして記述するために、以下のように変数を定義する。\n",
        "\n",
        "各枝 $(i, j)\\in E$ に対して、その枝を最短経路の一部として使用するかどうかを表すバイナリ変数（0または1の値を取る変数） $x_{ij}$ を定義する。\n",
        "\n",
        "* $x_{ij} = 1$: 枝 $(i, j)$ を最短路の一部に使用する場合\n",
        "* $x_{ij} = 0$: 枝 $(i, j)$ を最短路の一部に使用しない場合\n",
        "\n",
        "### 目的関数\n",
        "\n",
        "目的は、始点から終点までの経路のコスト最小化である。\n",
        "各枝 $(i, j)$ のコストを $c_{ij}$ を使い、\n",
        "目的関数は以下のように表される。\n",
        "\n",
        "$$\\min \\sum_{(i,j) \\in E} c_{ij} x_{ij}$$\n",
        "\n",
        "ここで、$E$ はグラフの全ての枝の集合である。\n",
        "\n",
        "### 制約条件\n",
        "\n",
        "最短経路を構成するためには、変数 $x_{ij}$は\n",
        "以下の制約条件を満たす必要がある。\n",
        "\n",
        "1.  **フロー保存則（Flow Conservation Constraints）**:\n",
        "    * **始点（Source Node, $s$）**: 始点からは1つの経路が出ていく。\n",
        "    つまり、始点$s$から出ていく枝に対応する変数の合計は1である。\n",
        "        $$\\sum_{j: (s,j) \\in E} x_{sj} = 1$$\n",
        "\n",
        "    * **終点（Sink Node, $t$）**: 終点には1つの経路が流れ込む。\n",
        "    つまり、終点$t$へ入ってくる枝に対応する変数の合計は1である。\n",
        "        $$\\sum_{i: (i,t) \\in E} x_{it} = 1$$\n",
        "\n",
        "  * **中間ノード（Intermediate Nodes, $k \\neq s, t$）**: 始点でも終点でもない中間ノード $k$ では、入ってくる枝数の合計と、そのノードから出ていく枝数の合計は等しくなければならない。\n",
        "$$\\sum_{i: (i,k) \\in E} x_{ik} = \\sum_{j: (k,j) \\in E} x_{kj} \\quad \\forall k \\in V \\setminus \\{s, t\\}$$\n",
        "  ここで、$V$ はグラフの全てのノードの集合である。この式は以下のように書き換えることもできる。\n",
        "$$\\sum_{i: (i,k) \\in E} x_{ik} - \\sum_{j: (k,j) \\in E} x_{kj} = 0 \\quad \\forall k \\in V \\setminus \\{s, t\\}$$\n",
        "\n",
        "2.  **変数の定義域**:\n",
        "各変数 $x_{ij}$ は0または1の値を取る。\n",
        "$$x_{ij} \\in \\{0, 1\\} \\quad \\forall (i,j) \\in E$$\n",
        "この条件により、この問題は整数計画問題（特に0-1整数計画問題）となる。もし枝の重みが全て非負であれば、この制約は $0 \\le x_{ij} \\le 1$ という連続変数として緩和しても、最適解においては自動的に $x_{ij}$ が0または1の値を取ることが知られており、その場合は線形計画問題として解くことができる。\n",
        "本日の講義では、明示的にバイナリ変数として定義する。\n",
        "\n",
        "## 数理モデル（数式表記）\n",
        "\n",
        "上記の定式化をまとめると、最短路問題の数理モデルは以下のように表される。\n",
        "\n",
        "**パラメータ:**\n",
        "\n",
        "* $V$: ノードの集合\n",
        "* $E$: 枝の集合\n",
        "* $s \\in V$: 始点ノード\n",
        "* $t \\in V$: 終点ノード\n",
        "* $c_{ij}$: 枝 $(i, j) \\in E$ のコスト\n",
        "\n",
        "**変数:**\n",
        "\n",
        "* $x_{ij} \\in \\{0, 1\\}$: 枝 $(i, j) \\in E$ を経路に含める場合に1、そうでない場合に0となる変数とする\n",
        "\n",
        "**目的関数:**\n",
        "\n",
        "$$\\text{Minimize} \\quad Z = \\sum_{(i,j) \\in E} c_{ij} x_{ij}$$\n",
        "\n",
        "**制約条件:**\n",
        "\n",
        "$$\\sum_{j: (s,j) \\in E} x_{sj} = 1 \\quad \\text{(始点)}$$\n",
        "$$\\sum_{i: (i,t) \\in E} x_{it} = 1 \\quad \\text{(終点)}$$\n",
        "$$\\sum_{i: (i,k) \\in E} x_{ik} - \\sum_{j: (k,j) \\in E} x_{kj} = 0 \\quad \\forall k \\in V \\setminus \\{s, t\\} \\quad \\text{(中間ノード)}$$\n",
        "$$x_{ij} \\in \\{0, 1\\} \\quad \\forall (i,j) \\in E$$\n",
        "\n",
        "## Python MIP を用いた実装例\n",
        "\n",
        "ここでは、具体的なネットワークを例に取り、`python-mip` を用いて最短路問題を解く実装を示す。\n",
        "\n",
        "### 例題ネットワーク\n",
        "ノードと枝が以下のように定義された\n",
        "ネットワークを考える。\n",
        "\n",
        "* ノード: {0, 1, 2, 3, 4}\n",
        "* 枝 (コスト):\n",
        "    * (0, 1): 2\n",
        "    * (0, 2): 4\n",
        "    * (1, 2): 1\n",
        "    * (1, 3): 5\n",
        "    * (2, 3): 3\n",
        "    * (2, 4): 1\n",
        "    * (3, 4): 2\n",
        "\n",
        "また、最短路は\n",
        "ノード0を始点、ノード4を終点とする。\n"
      ],
      "metadata": {
        "id": "rVjTFky_jtPC"
      }
    },
    {
      "cell_type": "code",
      "source": [
        "#@title 可視化\n",
        "import matplotlib.pyplot as plt\n",
        "import networkx as nx\n",
        "\n",
        "# ネットワークの定義\n",
        "# (始点ノード, 終点ノード, コスト) のタプルで枝を表現\n",
        "# 枝のリストを定義する\n",
        "edges = [\n",
        "    (0, 1, 2), (0, 2, 4),\n",
        "    (1, 2, 1), (1, 3, 5),\n",
        "    (2, 3, 3), (2, 4, 1),\n",
        "    (3, 4, 2)\n",
        "]\n",
        "\n",
        "# ノードの集合を定める。\n",
        "# ここでは集合型の変数でノード集合を表す。\n",
        "# 集合型では.add() を使っても同じノードが2重に追加されない\n",
        "nodes = set()\n",
        "for u, v, c in edges:\n",
        "    nodes.add(u)\n",
        "    nodes.add(v)\n",
        "num_nodes = len(nodes)\n",
        "\n",
        "# 始点と終点\n",
        "start_node = 0\n",
        "end_node = 4\n",
        "\n",
        "# グラフオブジェクトの作成\n",
        "G = nx.DiGraph() # 有向グラフ\n",
        "\n",
        "# ノードの追加\n",
        "for n in nodes:\n",
        "    G.add_node(n)\n",
        "\n",
        "# 枝の追加とコストの属性設定\n",
        "edge_labels = {}\n",
        "for u, v, c in edges:\n",
        "    G.add_edge(u, v, weight=c)\n",
        "    edge_labels[(u,v)] = c\n",
        "\n",
        "# ノードの配置を決定 (spring_layout, circular_layout, shell_layout など)\n",
        "try:\n",
        "  pos = nx.planar_layout(G)\n",
        "except nx.NetworkXException:\n",
        "  # グラフが平面的でない場合は、spring_layoutにフォールバックします\n",
        "  print(\"グラフが平面的ではないため、spring_layoutを使用します。\")\n",
        "  pos = nx.spring_layout(G, seed=42) # 再現性のためにseedを設定\n",
        "\n",
        "# 描画\n",
        "plt.figure(figsize=(4, 4))\n",
        "nx.draw(G, pos, with_labels=True, node_size=700, node_color=\"skyblue\", font_size=14, font_weight=\"bold\", arrowsize=20)\n",
        "nx.draw_networkx_edge_labels(G, pos, edge_labels=edge_labels, font_color='red', font_size=14)"
      ],
      "metadata": {
        "cellView": "form",
        "id": "f1NS_8XreJMM"
      },
      "execution_count": null,
      "outputs": []
    },
    {
      "cell_type": "markdown",
      "source": [
        "上のグラフで、ノード0からノード4に至る最短路を数理計画法で求めてみる。"
      ],
      "metadata": {
        "id": "mdRyfjrGHDpR"
      }
    },
    {
      "cell_type": "markdown",
      "source": [
        "##データの定義"
      ],
      "metadata": {
        "id": "rgQzQvSpH4Fs"
      }
    },
    {
      "cell_type": "code",
      "source": [
        "# ネットワークの定義\n",
        "# (始点ノード, 終点ノード, コスト) のタプルで枝を表現\n",
        "# 枝のリストを定義する\n",
        "edges = [\n",
        "    (0, 1, 2), (0, 2, 4),\n",
        "    (1, 2, 1), (1, 3, 5),\n",
        "    (2, 3, 3), (2, 4, 1),\n",
        "    (3, 4, 2)\n",
        "]\n",
        "\n",
        "# ノードの集合を定める。\n",
        "# ここでは集合型の変数でノード集合を表す。\n",
        "# 集合型では.add() を使っても同じノードが2重に追加されない\n",
        "nodes = set()\n",
        "for u, v, c in edges:\n",
        "    nodes.add(u)\n",
        "    nodes.add(v)\n",
        "num_nodes = len(nodes)\n",
        "\n",
        "# 始点と終点\n",
        "start_node = 0\n",
        "end_node = 4\n"
      ],
      "metadata": {
        "id": "V2pmI4KJeijP"
      },
      "execution_count": null,
      "outputs": []
    },
    {
      "cell_type": "markdown",
      "source": [
        "## python-mip による実装\n"
      ],
      "metadata": {
        "id": "fxFIkq_kdo-e"
      }
    },
    {
      "cell_type": "code",
      "source": [
        "# mip から必要な関数や変数のみをインポートする\n",
        "# mip.xsum のように mip. を付与する必要がない\n",
        "from mip import Model, xsum, MINIMIZE, BINARY, OptimizationStatus\n",
        "\n",
        "# モデルの作成\n",
        "model = Model(name=\"shortest_path\", sense=MINIMIZE )"
      ],
      "metadata": {
        "id": "1IpzAcnmNqKY"
      },
      "execution_count": null,
      "outputs": []
    },
    {
      "cell_type": "markdown",
      "source": [
        "各枝 $(i, j)\\in E$ に対して、その枝を最短経路の一部として使用するかどうかを表すバイナリ変数（0または1の値を取る変数） $x_{ij}$ を定義する。"
      ],
      "metadata": {
        "id": "_CKCzk-wN2y5"
      }
    },
    {
      "cell_type": "code",
      "source": [
        "# 変数の定義\n",
        "# x[(u,v)] はノードuからノードvへの枝を使用するかどうかを表すバイナリ変数\n",
        "x = {}\n",
        "for u, v, c in edges:\n",
        "    x[(u,v)] = model.add_var(name=f\"x_{u}_{v}\", var_type=BINARY)"
      ],
      "metadata": {
        "id": "ERW8gCfcN9iH"
      },
      "execution_count": null,
      "outputs": []
    },
    {
      "cell_type": "markdown",
      "source": [
        "### 目的関数\n",
        "\n",
        "$$\\min \\sum_{(i,j) \\in E} c_{ij} x_{ij}$$\n",
        "\n",
        "ここで、$E$ はグラフの全ての枝の集合である。"
      ],
      "metadata": {
        "id": "QSjCAlRLOYp1"
      }
    },
    {
      "cell_type": "code",
      "source": [
        "# 目的関数の設定\n",
        "model.objective = xsum(c * x[(u,v)] for u, v, c in edges)"
      ],
      "metadata": {
        "id": "hWXdm89VOB67"
      },
      "execution_count": null,
      "outputs": []
    },
    {
      "cell_type": "markdown",
      "source": [
        "### 制約条件\n",
        "  * **始点（Source Node, $s$）**: 始点からは1つの経路が出ていく。\n",
        "    つまり、始点$s$から出ていく枝に対応する変数の合計は1である。\n",
        "$$\\sum_{j: (s,j) \\in E} x_{sj} = 1$$\n",
        "\n",
        "  * **終点（Sink Node, $t$）**: 終点には1つの経路が流れ込む。\n",
        "    つまり、終点$t$へ入ってくる枝に対応する変数の合計は1である。\n",
        "$$\\sum_{i: (i,t) \\in E} x_{it} = 1$$\n",
        "\n",
        "  * **中間ノード（Intermediate Nodes, $k \\neq s, t$）**: 始点でも終点でもない中間ノード $k$ では、入ってくる枝数の合計と、そのノードから出ていく枝数の合計は等しくなければならない。\n",
        "$$\\sum_{i: (i,k) \\in E} x_{ik} - \\sum_{j: (k,j) \\in E} x_{kj} = 0 \\quad \\forall k \\in V \\setminus \\{s, t\\}$$"
      ],
      "metadata": {
        "id": "uBi7Lv9BOaZa"
      }
    },
    {
      "cell_type": "code",
      "source": [
        "# 制約条件の追加\n",
        "for i in nodes:\n",
        "    # ノードiから出ていく変数の和\n",
        "    flow_out = xsum(x[(u,v)] for u, v, c in edges if u == i)\n",
        "    # ノードiへ入ってくる変数の和\n",
        "    flow_in = xsum(x[(u,v)] for u, v, c in edges if v == i)\n",
        "\n",
        "    if i == start_node:\n",
        "        model += (flow_out == 1, f\"flow_conservation_start_{i}\")\n",
        "    elif i == end_node:\n",
        "        model += (flow_in == 1, f\"flow_conservation_end_{i}\")\n",
        "    else:\n",
        "        model += (flow_out - flow_in == 0, f\"flow_conservation_intermediate_{i}\")"
      ],
      "metadata": {
        "id": "bT7fv6RtOGx9"
      },
      "execution_count": null,
      "outputs": []
    },
    {
      "cell_type": "markdown",
      "source": [
        "###最適化の実行と解の表示"
      ],
      "metadata": {
        "id": "OQfNqasDPDpu"
      }
    },
    {
      "cell_type": "code",
      "source": [
        "# モデルの求解\n",
        "status = model.optimize()\n",
        "\n",
        "# 結果の表示\n",
        "if status == OptimizationStatus.OPTIMAL:\n",
        "    print(f\"最適解が見つかりました。\")\n",
        "    print(f\"最短経路のコスト: {model.objective_value}\")\n",
        "    print(\"経路:\")\n",
        "    current_node = start_node\n",
        "    path = [current_node]\n",
        "    while current_node != end_node:\n",
        "        for u, v, c in edges:\n",
        "            if u == current_node and x[(u,v)].x >= 0.99: # ほぼ1であれば選択された枝\n",
        "                print(f\"  枝 ({u}, {v}) コスト: {c}\")\n",
        "                current_node = v\n",
        "                path.append(current_node)\n",
        "                break\n",
        "    print(f\"経路 (ノード列): {path}\")\n",
        "elif status == OptimizationStatus.INFEASIBLE:\n",
        "    print(\"実行不可能: 問題に解が存在しません。\")\n",
        "elif status == OptimizationStatus.UNBOUNDED:\n",
        "    print(\"非有界: 目的関数を無限に小さく（または大きく）できます。\")\n",
        "else:\n",
        "    print(f\"求解ステータス: {status}\")"
      ],
      "outputs": [],
      "execution_count": null,
      "metadata": {
        "id": "kMT2Zu3ljtPL"
      }
    },
    {
      "cell_type": "markdown",
      "source": [
        "上記のコードを実行すると、始点0から終点4までの最短経路とその総コストが出力される。\n"
      ],
      "metadata": {
        "id": "4s6wN0JFjtPM"
      }
    },
    {
      "cell_type": "markdown",
      "source": [
        "### グラフ描画による可視化\n",
        "最適解を可視化して確認する。"
      ],
      "metadata": {
        "id": "01qaH4pR0mE9"
      }
    },
    {
      "cell_type": "code",
      "source": [
        "#@title 可視化\n",
        "import matplotlib.pyplot as plt\n",
        "import networkx as nx\n",
        "\n",
        "# グラフオブジェクトの作成\n",
        "G = nx.DiGraph() # 有向グラフ\n",
        "\n",
        "# ノードの追加\n",
        "for n in nodes:\n",
        "    G.add_node(n)\n",
        "\n",
        "# 枝の追加とコストの属性設定\n",
        "edge_labels = {}\n",
        "for u, v, c in edges:\n",
        "    G.add_edge(u, v, weight=c)\n",
        "    edge_labels[(u,v)] = c\n",
        "\n",
        "# ノードの配置を決定 (spring_layout, circular_layout, shell_layout など)\n",
        "try:\n",
        "  pos = nx.planar_layout(G)\n",
        "except nx.NetworkXException:\n",
        "  # グラフが平面的でない場合は、spring_layoutにフォールバックします\n",
        "  print(\"グラフが平面的ではないため、spring_layoutを使用します。\")\n",
        "  pos = nx.spring_layout(G, seed=42) # 再現性のためにseedを設定\n",
        "\n",
        "# 描画\n",
        "plt.figure(figsize=(4, 4))\n",
        "nx.draw(G, pos, with_labels=True, node_size=700, node_color=\"skyblue\", font_size=14, font_weight=\"bold\", arrowsize=20)\n",
        "nx.draw_networkx_edge_labels(G, pos, edge_labels=edge_labels, font_color='red', font_size=14)\n",
        "\n",
        "# 最適経路をハイライト (求解結果が得られている場合)\n",
        "if status == OptimizationStatus.OPTIMAL:\n",
        "    optimal_path_edges = []\n",
        "    current_node = start_node\n",
        "    while current_node != end_node:\n",
        "        for u_edge, v_edge, c_edge in edges:\n",
        "            if u_edge == current_node and x[(u_edge, v_edge)].x >= 0.99:\n",
        "                optimal_path_edges.append((u_edge, v_edge))\n",
        "                current_node = v_edge\n",
        "                break\n",
        "    nx.draw_networkx_edges(G, pos, edgelist=optimal_path_edges, width=2.5, edge_color=\"green\", arrowsize=20)\n",
        "\n",
        "plt.title(\"Network Graph and Shortest Path\")\n",
        "plt.show()"
      ],
      "outputs": [],
      "execution_count": null,
      "metadata": {
        "id": "I-WdiPybjtPM",
        "cellView": "form"
      }
    },
    {
      "cell_type": "markdown",
      "source": [
        "上の図では、求解された最短経路を緑色で示している。\n"
      ],
      "metadata": {
        "id": "6SpgVkhnFU6A"
      }
    },
    {
      "cell_type": "markdown",
      "source": [
        "## 実社会での応用例\n",
        "\n",
        "最短路問題は、そのシンプルさにもかかわらず、非常に多くの実社会の問題に応用されている。\n",
        "\n",
        "* **交通・運輸**:\n",
        "    * **カーナビゲーション**: 出発地から目的地までの最短時間または最短距離の経路を探索する。\n",
        "    * **公共交通機関の乗り換え案内**: 電車やバスの乗り換えを考慮して、目的地までの最短時間経路を提示する。\n",
        "    * **航空路線の設計**: 航空会社がハブ空港を経由する効率的なフライトネットワークを構築する。\n",
        "    * **配送計画**: 複数の配送先を巡回する際の最適な順路や、各地点への最短経路を決定する際に部分問題として利用される。\n",
        "* **通信**:\n",
        "    * **インターネットルーティング**: データパケットを送信元から宛先まで、ネットワークの混雑状況やリンクの帯域幅を考慮して、遅延が最小となるようにルーティングする（OSPFなどのプロトコルで利用）。\n",
        "    * **電話網**: 通話の接続要求に対して、空いている回線を選んで最適な経路を確立する。\n",
        "* **その他**:\n",
        "    * **ロボットの経路計画**: 自律移動ロボットが障害物を避けながら目的地まで移動するための最短経路を計画する。\n",
        "    * **画像処理**: 画像セグメンテーションなどで、特定の領域の境界線を見つける問題に応用されることがある。\n",
        "    * **プロジェクト管理**: PERT (Program Evaluation and Review Technique) などで、プロジェクトのクリティカルパス（完了までに最も時間がかかる一連のタスク）を特定するのに使われる。これは最長路問題として定式化されるが、考え方は類似している。\n",
        "    * **VLSI設計**: 半導体チップ上の配線経路を最適化する。\n",
        "\n",
        "これらの応用例からもわかるように、最短路問題は様々な分野で意思決定を支援するための強力なツールとなっている。\n",
        "\n",
        "## モデルの改善に関する簡単な視点\n",
        "\n",
        "* **大規模問題への対応**: 非常に大規模なネットワーク（例えば、日本全国の道路網など）に対しては、この講義で示したような汎用的な整数計画ソルバーでは計算時間が非常に長くなる可能性がある。そのような場合には、ダイクストラ法のような、最短路問題に特化したより高速なアルゴリズムの利用が検討される。\n",
        "ただし、これらのアルゴリズムは負のコストを持つ枝が存在する場合には適用できない（ベルマンフォード法は対応可能）などの制約がある。\n",
        "* **動的なコスト**: 道路の渋滞状況のように、枝のコストが時間によって変化する場合、時間依存最短路問題 (Time-Dependent Shortest Path Problem) となり、より複雑なモデル化やアルゴリズムが必要となる。\n",
        "* **複数目的**: 単に距離だけでなく、時間や料金など複数の要素を同時に最適化したい場合、多目的最適化問題として捉える必要がある。\n",
        "* **制約の追加**: 特定のノードを経由する、あるいは経由しないといった追加の制約がある場合、それらをモデルに組み込むことで対応できる。例えば、「ノード $k$ を必ず経由する」という制約は、始点から $k$ までの最短路と、$k$ から終点までの最短路をそれぞれ求め、それらを結合することで実現できる。\n",
        "\n",
        "数理計画モデリングの利点は、これらの複雑な要件を制約条件として柔軟に追加できる点にある。\n"
      ],
      "metadata": {
        "id": "WiGYCGNBjtPN"
      }
    },
    {
      "cell_type": "markdown",
      "source": [
        "## 主要なアルゴリズムの紹介 (数理計画法以外の専用解法)\n",
        "\n",
        "特に大規模なグラフに対しては、専用に設計されたより高速なアルゴリズムが実用上広く用いられています。\n",
        "これらのアルゴリズムの詳細はこの講義では扱わないが、各自で調べて学習することを\n",
        "強く推奨する。"
      ],
      "metadata": {
        "id": "F8AaE-x5o8mR"
      }
    },
    {
      "cell_type": "markdown",
      "source": [
        "  * **ダイクストラ法 (Dijkstra's Algorithm)**:\n",
        "\n",
        "      * **概要**: 単一始点・全終点最短路問題を解くための代表的なアルゴリズム。始点から未確定のノードへの最短距離を段階的に確定させていく方法で、\n",
        "      ラベリング法とも呼ばれる。\n",
        "      * **動作原理**:\n",
        "        1.  始点ノードの距離を0、他の全ノードの距離を無限大に初期化。\n",
        "        2.  未確定ノードの中で最も距離が小さいノードを選び、そのノードを確定済みにする。\n",
        "        3.  確定したノードに隣接する未確定ノードについて、そのノードを経由した場合の新しい距離を計算し、もし現在の距離より短ければ更新する。\n",
        "        4.  全てのノードが確定するまで2-3を繰り返す。\n",
        "      * **条件**: 全ての辺の**重みが非負**である場合にのみ正しく動作する。\n",
        "      * **`networkx`パッケージでの利用が可能**: `nx.dijkstra_path(G, source, target, weight='weight')` や `nx.single_source_dijkstra_path_length(G, source, weight='weight')` などで簡単に利用できる。\n",
        "\n",
        "  * **ベルマンフォード法 (Bellman-Ford Algorithm)**:\n",
        "    * **概要**: こちらも単一始点・全終点最短路問題を解くアルゴリズム。ダイクストラ法と異なり、**負の重みを持つ辺があっても動作する**。\n",
        "    * **負の閉路の検出**: $|V|$ 回目の緩和操作でも距離が更新される場合、グラフ内に始点から到達可能な負の閉路が存在することを示すことができる（負の閉路があると最短路が定義できない）。\n",
        "    * **計算量**: ダイクストラ法より遅いが、適用範囲が広い。\n",
        "    * **`networkx`パッケージでの利用**: `nx.bellman_ford_path(G, source, target, weight='weight')` など。\n",
        "\n",
        "  * **ワーシャル・フロイド法 (Warshall-Floyd Algorithm)**:\n",
        "      * **概要**: 全点対最短路問題を解くアルゴリズム。動的計画法に基づき、全ての中間ノードを考慮して全ペア間の最短路を更新していく。\n",
        "\n",
        "MIPによる解法は非常に柔軟で様々な制約を加えやすい利点がありますが、純粋な最短路問題（特に大規模なもの）に対しては、これらの専用アルゴリズムの方が計算効率の面で優れています。"
      ],
      "metadata": {
        "id": "bAaAnO6uoeL9"
      }
    },
    {
      "cell_type": "markdown",
      "source": [
        "---\n",
        "#演習問題"
      ],
      "metadata": {
        "id": "tGrE6tekfx1u"
      }
    },
    {
      "cell_type": "markdown",
      "source": [
        "## 演習問題1:\n",
        "\n",
        "以下のネットワークについて、ノードSからノードGへの最短経路のコストを、`python-mip` を用いて求めよ。\n",
        "\n",
        "* ノード: {S, A, B, C, D, G}\n",
        "* 枝 (コスト):\n",
        "    * (S, A, 1)\n",
        "    * (S, B, 4)\n",
        "    * (A, B, 2)\n",
        "    * (A, C, 1)\n",
        "    * (A, D, 3)\n",
        "    * (B, D, 1)\n",
        "    * (C, G, 2)\n",
        "    * (D, C, 1)\n",
        "    * (D, G, 6)\n",
        "* 始点: S\n",
        "* 終点: G\n"
      ],
      "metadata": {
        "id": "op4BN6wo1KQy"
      }
    },
    {
      "cell_type": "markdown",
      "source": [
        "##演習問題2:\n",
        "\n",
        "以下の都市間の道路網を考える。道路には一方通行のものと両方通行のものがあり、それぞれ異なるコスト（所要時間）がかかる。\n",
        "ノード1からノード5への最短コスト（所要時間）を求めよ。\n",
        "\n",
        "* ノード: {1, 2, 3, 4, 5}\n",
        "* 枝 (始点, 終点, コスト):\n",
        "    * (1, 2, 10)  両方向\n",
        "    * (1, 3, 15)  両方向\n",
        "    * (2, 3, 5)   2から3への一方通行\n",
        "    * (2, 4, 20)  両方向\n",
        "    * (3, 4, 5)   両方向\n",
        "    * (3, 5, 25)  3から5への一方通行\n",
        "    * (4, 5, 10)  両方向\n",
        "* 始点: 1\n",
        "* 終点: 5\n",
        "\n",
        "**考え方**\n",
        "例えば枝 (1, 2, 10) が両方向に移動が可能であれば、\n",
        "枝として (1, 2, 10) と (2, 1, 10) を定義する。\n",
        "\n"
      ],
      "metadata": {
        "id": "TwWlDMwJjtPO"
      }
    },
    {
      "cell_type": "markdown",
      "source": [
        "##演習問題3:\n",
        "\n",
        "演習問題1のネットワークにおいて、ノードSからノードGへ行く際に、**必ずノードDを経由する**という条件下での最短経路のコストを求めよ。\n",
        "\n",
        "**考え方:**\n",
        "この問題は2つの独立した最短路問題として解くことができる。\n",
        "1.  SからDへの最短路\n",
        "2.  DからGへの最短路\n",
        "そして、これらの結果を組み合わせる。それぞれの最短路問題は `python-mip` で個別にモデル化して解く。\n"
      ],
      "metadata": {
        "id": "ujuqXp9HjtPP"
      }
    },
    {
      "cell_type": "markdown",
      "source": [
        "## 演習問題4:\n",
        "\n",
        "演習問題1のネットワークにおいて、枝 (A, C) のコストが1から10に増加した場合、ノードSからノードGへの最短経路とそのコストはどのように変化するか。変更後のネットワークで最短コストを求めよ。\n"
      ],
      "metadata": {
        "id": "S8H-Gn1FjtPP"
      }
    },
    {
      "cell_type": "markdown",
      "source": [
        "##演習問題5:\n",
        "\n",
        "演習問題1のネットワークにおいて、各枝には通常のコスト（時間）に加えて、「特別料金」が設定されているとする。SからGへの最短時間経路を見つけたいが、支払う「特別料金」の合計が**4以内**でなければならない。\n",
        "この条件下での最短コスト（時間）を求めよ。\n",
        "\n",
        "* ノード: {S, A, B, C, D, G}\n",
        "* 枝 (始点, 終点, 時間コスト, 特別料金):\n",
        "    * (S, A, 1, 1)\n",
        "    * (S, B, 4, 0)\n",
        "    * (A, B, 2, 1)\n",
        "    * (A, C, 5, 2)\n",
        "    * (A, D, 3, 3)\n",
        "    * (B, D, 1, 3)\n",
        "    * (C, G, 2, 1)\n",
        "    * (D, C, 1, 0)\n",
        "    * (D, G, 6, 2)\n",
        "* 始点: S\n",
        "* 終点: G\n",
        "* 特別料金上限: 4\n",
        "\n",
        "**考え方:**\n",
        "目的関数は時間の最小化のままである。追加の制約条件として、選択された枝の特別料金の合計が上限を超えないようにする。\n"
      ],
      "metadata": {
        "id": "OHGuVlBljtPQ"
      }
    },
    {
      "cell_type": "markdown",
      "source": [
        "## 演習問題6:\n",
        "\n",
        "ある配送員が始点Xから出発し、目的地Aと目的地Bの両方に荷物を届ける必要がある。\n",
        "総移動コストの最小値を解答せよ。\n",
        "ただし、荷物を届けた後、始点Xに戻る必要はない。また、AとBのどちらを先に訪れても良い。\n",
        "\n",
        "以下のネットワークを使用する。\n",
        "* ノード: {X, A, B, C, D}\n",
        "* 枝 (コスト):\n",
        "    * (X, A, 5), (X, C, 2)\n",
        "    * (A, X, 5), (A, B, 3), (A, D, 6)\n",
        "    * (B, A, 3), (B, D, 2)\n",
        "    * (C, X, 2), (C, A, 4), (C, D, 7)\n",
        "    * (D, A, 6), (D, B, 2), (D, C, 7)\n",
        "* 始点: X\n",
        "* 目的地: A, B\n",
        "\n",
        "**考え方:**\n",
        "1.  以下の3つの区間の最短路をそれぞれ求める必要がある。\n",
        "    * X から A\n",
        "    * X から B\n",
        "    * A から B (両方向のコストが同じなら B から A も同じ)\n",
        "2.  2つの訪問順序（X→A→B と X→B→A）の総コストを計算し比較する。\n"
      ],
      "metadata": {
        "id": "bHNKSGFVjtPQ"
      }
    }
  ],
  "metadata": {
    "colab": {
      "provenance": [],
      "include_colab_link": true
    },
    "kernelspec": {
      "display_name": "Python 3",
      "name": "python3"
    }
  },
  "nbformat": 4,
  "nbformat_minor": 0
}